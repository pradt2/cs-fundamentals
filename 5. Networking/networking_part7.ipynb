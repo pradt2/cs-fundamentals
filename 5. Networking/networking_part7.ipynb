{
 "cells": [
  {
   "cell_type": "markdown",
   "id": "811208ce",
   "metadata": {},
   "source": [
    "## 31. Python client libraries: `socket`, `requests`, `httpx` / `aiohttp`"
   ]
  },
  {
   "cell_type": "markdown",
   "id": "fbf75a20",
   "metadata": {},
   "source": [
    "*Low‑level*: **`socket`** gives full control but you parse/build HTTP yourself.\n",
    "\n",
    "*High‑level sync*: **`requests`** abstracts sessions, redirects, cookies.\n",
    "\n",
    "*High‑level async*: **`httpx.AsyncClient`** or **`aiohttp`** integrate with `asyncio` event loop.\n",
    "\n",
    "Rule: start with `requests`; drop to async for thousands of concurrent calls."
   ]
  },
  {
   "cell_type": "markdown",
   "id": "c11c5adc",
   "metadata": {},
   "source": [
    "```python\n",
    "import requests, asyncio, httpx\n",
    "print(requests.get('https://httpbin.org/get').status_code)\n",
    "\n",
    "async def demo():\n",
    "    async with httpx.AsyncClient() as client:\n",
    "        r = await client.get('https://httpbin.org/get')\n",
    "        print(r.status_code)\n",
    "asyncio.run(demo())\n",
    "```"
   ]
  },
  {
   "cell_type": "markdown",
   "id": "87ff939a",
   "metadata": {},
   "source": [
    "### Quick check\n",
    "\n",
    "1. `requests` is built on top of:\n",
    "  a. urllib3  b. asyncio\n",
    "\n",
    "2. True / False `httpx` can operate in both sync and async modes.\n",
    "\n",
    "<details><summary>Answer key</summary>\n",
    "\n",
    "1. **a**.\n",
    "2. **True**.\n",
    "\n",
    "</details>"
   ]
  },
  {
   "cell_type": "markdown",
   "id": "485e2d2b",
   "metadata": {},
   "source": [
    "## 32. Building a toy HTTP server by hand"
   ]
  },
  {
   "cell_type": "markdown",
   "id": "7ca9423f",
   "metadata": {},
   "source": [
    "To understand HTTP, build a tiny server with raw sockets:\n",
    "1. Accept connection.\n",
    "2. Read until `\\r\\n\\r\\n` (headers end).\n",
    "3. Write minimal response.\n",
    "\n",
    "For production use `http.server` (standard lib) or frameworks."
   ]
  },
  {
   "cell_type": "markdown",
   "id": "c1af6257",
   "metadata": {},
   "source": [
    "```python\n",
    "import socket, threading\n",
    "def handler(conn):\n",
    "    data = conn.recv(1024)  # ignore body\n",
    "    resp = b'HTTP/1.1 200 OK\\r\\nContent-Length: 5\\r\\n\\r\\nHello'\n",
    "    conn.sendall(resp); conn.close()\n",
    "\n",
    "srv = socket.socket(); srv.bind(('localhost',8080)); srv.listen()\n",
    "threading.Thread(target=lambda: handler(srv.accept()[0]), daemon=True).start()\n",
    "print('curl http://localhost:8080')\n",
    "```"
   ]
  },
  {
   "cell_type": "markdown",
   "id": "2c619e0d",
   "metadata": {},
   "source": [
    "### Quick check\n",
    "\n",
    "1. Minimal HTTP response must include:\n",
    "  a. status line & CRLF  b. JSON body only\n",
    "\n",
    "2. True / False `http.server` automatically sets `Content-Length` for string responses.\n",
    "\n",
    "<details><summary>Answer key</summary>\n",
    "\n",
    "1. **a**.\n",
    "2. **True**.\n",
    "\n",
    "</details>"
   ]
  },
  {
   "cell_type": "markdown",
   "id": "08560335",
   "metadata": {},
   "source": [
    "## 33. WSGI vs. ASGI frameworks"
   ]
  },
  {
   "cell_type": "markdown",
   "id": "0f28f1b6",
   "metadata": {},
   "source": [
    "* **WSGI** – synchronous gateway (Flask, Django classic). One request → one thread/process.\n",
    "* **ASGI** – async gateway (FastAPI, Django 3.2+ optional) supporting WebSockets & long‑poll.\n",
    "Choosing:\n",
    "* CPU‑light API with many concurrent connections → ASGI.\n",
    "* Simple CRUD or legacy code → WSGI still fine."
   ]
  },
  {
   "cell_type": "markdown",
   "id": "824c6a27",
   "metadata": {},
   "source": [
    "```python\n",
    "# fastapi_example.py\n",
    "from fastapi import FastAPI\n",
    "app = FastAPI()\n",
    "@app.get('/hello')\n",
    "async def hello():\n",
    "    return {'msg':'hi'}\n",
    "# uvicorn fastapi_example:app --reload\n",
    "```"
   ]
  },
  {
   "cell_type": "markdown",
   "id": "c6b635eb",
   "metadata": {},
   "source": [
    "### Quick check\n",
    "\n",
    "1. WebSocket support requires:\n",
    "  a. ASGI  b. WSGI\n",
    "\n",
    "2. True / False ASGI apps can run on Gunicorn with `uvicorn.workers.UvicornWorker`.\n",
    "\n",
    "<details><summary>Answer key</summary>\n",
    "\n",
    "1. **a**.\n",
    "2. **True**.\n",
    "\n",
    "</details>"
   ]
  },
  {
   "cell_type": "markdown",
   "id": "caa6bb6b",
   "metadata": {},
   "source": [
    "## 34. JSON serialization pitfalls"
   ]
  },
  {
   "cell_type": "markdown",
   "id": "9958105b",
   "metadata": {},
   "source": [
    "Python `json` module:\n",
    "* **datetime** objects serialize? → need custom `default=str` or ISO format.\n",
    "* **Decimal** vs. float precision.\n",
    "* Large ints > 53‑bit lose precision in JavaScript.\n",
    "* Non‑UTF‑8 bytes invalid – base64 encode binary blobs."
   ]
  },
  {
   "cell_type": "markdown",
   "id": "2100a09d",
   "metadata": {},
   "source": [
    "```python\n",
    "import json, datetime, decimal\n",
    "data = {'ts': datetime.datetime.utcnow(), 'price': decimal.Decimal('19.99')}\n",
    "print(json.dumps(data, default=str))\n",
    "```"
   ]
  },
  {
   "cell_type": "markdown",
   "id": "41e32441",
   "metadata": {},
   "source": [
    "### Quick check\n",
    "\n",
    "1. JavaScript Number max safe integer is 2^?\n",
    "  a. 53  b. 64\n",
    "\n",
    "2. True / False `json.dumps` refuses bytes objects by default.\n",
    "\n",
    "<details><summary>Answer key</summary>\n",
    "\n",
    "1. **a**.\n",
    "2. **True**.\n",
    "\n",
    "</details>"
   ]
  },
  {
   "cell_type": "markdown",
   "id": "39ca8ec1",
   "metadata": {},
   "source": [
    "## 35. OpenAPI / Swagger basics"
   ]
  },
  {
   "cell_type": "markdown",
   "id": "f122f3cb",
   "metadata": {},
   "source": [
    "OpenAPI spec (YAML/JSON) documents REST endpoints, schemas, and auth. Tools generate docs (Swagger UI), client SDKs, and server stubs.\n",
    "\n",
    "Key fields:\n",
    "`paths`, `components.schemas`, `security`, `servers`.\n",
    "FastAPI and Flask‑RestX auto‑generate OpenAPI from code annotations."
   ]
  },
  {
   "cell_type": "markdown",
   "id": "0da001d4",
   "metadata": {},
   "source": [
    "```yaml\n",
    "openapi: 3.0.0\n",
    "info:\n",
    "  title: Demo\n",
    "  version: 1.0.0\n",
    "paths:\n",
    "  /items/{id}:\n",
    "    get:\n",
    "      parameters:\n",
    "        - in: path\n",
    "          name: id\n",
    "          required: true\n",
    "          schema: {type: integer}\n",
    "      responses:\n",
    "        '200': {description: OK}\n",
    "```"
   ]
  },
  {
   "cell_type": "markdown",
   "id": "486105fc",
   "metadata": {},
   "source": [
    "### Quick check\n",
    "\n",
    "1. Swagger UI renders OpenAPI spec in:\n",
    "  a. browser  b. Postman only\n",
    "\n",
    "2. True / False OpenAPI requires code changes to client when spec evolves backward‑compatibly.\n",
    "\n",
    "<details><summary>Answer key</summary>\n",
    "\n",
    "1. **a**.\n",
    "2. **False** – generate new client if needed, but runtime code unchanged.\n",
    "\n",
    "</details>"
   ]
  }
 ],
 "metadata": {},
 "nbformat": 4,
 "nbformat_minor": 5
}
