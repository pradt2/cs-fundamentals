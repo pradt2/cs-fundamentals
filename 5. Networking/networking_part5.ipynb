{
 "cells": [
  {
   "cell_type": "markdown",
   "id": "2eac043a",
   "metadata": {},
   "source": [
    "## 21. Designing URLs: nouns not verbs"
   ]
  },
  {
   "cell_type": "markdown",
   "id": "031d5970",
   "metadata": {},
   "source": [
    "URLs should identify **resources**, not actions. Prefer plural nouns and hierarchical paths; reserve query parameters for filtering or optional aspects.\n",
    "\n",
    "Good: `/users/123/posts?limit=10`   Bad: `/getUserPosts?id=123`"
   ]
  },
  {
   "cell_type": "markdown",
   "id": "b7928e3c",
   "metadata": {},
   "source": [
    "```text\n",
    "Collection   GET /books           ← list\n",
    "Item         GET /books/42        ← fetch one\n",
    "Subresource  GET /books/42/reviews\n",
    "```"
   ]
  },
  {
   "cell_type": "markdown",
   "id": "1b211173",
   "metadata": {},
   "source": [
    "### Quick check\n",
    "\n",
    "1. Which conveys resource hierarchy?\n",
    "  a. /authors/7/books  b. /getBooks?author=7\n",
    "\n",
    "2. True / False Query parameters are part of resource identity.\n",
    "\n",
    "<details><summary>Answer key</summary>\n",
    "\n",
    "1. **a**.\n",
    "2. **False** – path identifies; query modifies.\n",
    "\n",
    "</details>"
   ]
  },
  {
   "cell_type": "markdown",
   "id": "dd265a8c",
   "metadata": {},
   "source": [
    "## 22. Pagination patterns"
   ]
  },
  {
   "cell_type": "markdown",
   "id": "504481be",
   "metadata": {},
   "source": [
    "* **Limit/offset** – `?limit=20&offset=40`; easy but fragile to inserts.\n",
    "* **Cursor** – opaque token returned by server; stable ordering.\n",
    "RFC 5988 defines `Link: <next>; rel=\"next\"` header for navigation."
   ]
  },
  {
   "cell_type": "markdown",
   "id": "22848e91",
   "metadata": {},
   "source": [
    "```http\n",
    "HTTP/1.1 200 OK\n",
    "Link: </posts?cursor=abc>; rel=\"next\"\n",
    "\n",
    "[ {\"id\":101}, {\"id\":100} ]\n",
    "```"
   ]
  },
  {
   "cell_type": "markdown",
   "id": "dd2d3d4d",
   "metadata": {},
   "source": [
    "### Quick check\n",
    "\n",
    "1. Limit/offset suffers from duplicate/missing rows if:\n",
    "  a. data static  b. new inserts\n",
    "\n",
    "2. True / False Cursor pagination exposes internal IDs.\n",
    "\n",
    "<details><summary>Answer key</summary>\n",
    "\n",
    "1. **b**.\n",
    "2. **False** – token should be opaque.\n",
    "\n",
    "</details>"
   ]
  },
  {
   "cell_type": "markdown",
   "id": "6d29ef18",
   "metadata": {},
   "source": [
    "## 23. Versioning strategies"
   ]
  },
  {
   "cell_type": "markdown",
   "id": "ae8523b1",
   "metadata": {},
   "source": [
    "Ways to evolve API without breaking clients:\n",
    "1. URI segment: `/v2/users` – cache friendly but clutters routing.\n",
    "2. Custom header: `Accept-Version: 2` – keeps URLs clean.\n",
    "3. Content negotiation: `Accept: application/vnd.shop.v2+json`.\n",
    "Some teams advocate \"no breaking changes\" + additive evolution."
   ]
  },
  {
   "cell_type": "markdown",
   "id": "0ac90006",
   "metadata": {},
   "source": [
    "```bash\n",
    "curl -H 'Accept-Version: 2' https://api.example.com/users/1\n",
    "```"
   ]
  },
  {
   "cell_type": "markdown",
   "id": "7239faa8",
   "metadata": {},
   "source": [
    "### Quick check\n",
    "\n",
    "1. Which breaks browser cache least?\n",
    "  a. URI version  b. header version\n",
    "\n",
    "2. True / False Adding new optional response fields is a breaking change.\n",
    "\n",
    "<details><summary>Answer key</summary>\n",
    "\n",
    "1. **a** – different URL key.\n",
    "2. **False** – clients ignoring unknown fields stay fine.\n",
    "\n",
    "</details>"
   ]
  },
  {
   "cell_type": "markdown",
   "id": "ec6c40bd",
   "metadata": {},
   "source": [
    "## 24. Authentication basics"
   ]
  },
  {
   "cell_type": "markdown",
   "id": "b3bffa87",
   "metadata": {},
   "source": [
    "* **Basic Auth** – `Authorization: Basic base64(user:pass)`; HTTPS required.\n",
    "* **Bearer tokens / JWT** – `Authorization: Bearer <token>`; stateless.\n",
    "* **API keys** – simple string in header or query; easy but less flexible.\n",
    "Always use TLS; never log full tokens."
   ]
  },
  {
   "cell_type": "markdown",
   "id": "9ec9c3a2",
   "metadata": {},
   "source": [
    "```bash\n",
    "curl -H 'Authorization: Basic $(printf \":secret\"|base64)' https://httpbin.org/basic-auth/user/secret\n",
    "```"
   ]
  },
  {
   "cell_type": "markdown",
   "id": "b059a405",
   "metadata": {},
   "source": [
    "### Quick check\n",
    "\n",
    "1. JWT payload is:\n",
    "  a. encrypted  b. base64 JSON\n",
    "\n",
    "2. True / False API keys in query params can leak via access logs.\n",
    "\n",
    "<details><summary>Answer key</summary>\n",
    "\n",
    "1. **b**.\n",
    "2. **True**.\n",
    "\n",
    "</details>"
   ]
  },
  {
   "cell_type": "markdown",
   "id": "64ab9952",
   "metadata": {},
   "source": [
    "## 25. Content types beyond JSON"
   ]
  },
  {
   "cell_type": "markdown",
   "id": "4cf833be",
   "metadata": {},
   "source": [
    "* **multipart/form-data** – file uploads.\n",
    "* **application/x-www-form-urlencoded** – legacy HTML forms.\n",
    "* **application/protobuf** – compact binary with schema.\n",
    "* **text/event-stream** – Server-Sent Events streaming.\n",
    "Set correct `Content-Type` so server/parser behaves."
   ]
  },
  {
   "cell_type": "markdown",
   "id": "9ec0acb7",
   "metadata": {},
   "source": [
    "```bash\n",
    "curl -F 'file=@photo.jpg' https://api.example.com/upload\n",
    "```"
   ]
  },
  {
   "cell_type": "markdown",
   "id": "3ee94d13",
   "metadata": {},
   "source": [
    "### Quick check\n",
    "\n",
    "1. `application/x-www-form-urlencoded` encodes body as:\n",
    "  a. JSON  b. key1=val1&key2=val2\n",
    "\n",
    "2. True / False Multipart bodies require boundary marker.\n",
    "\n",
    "<details><summary>Answer key</summary>\n",
    "\n",
    "1. **b**.\n",
    "2. **True**.\n",
    "\n",
    "</details>"
   ]
  }
 ],
 "metadata": {},
 "nbformat": 4,
 "nbformat_minor": 5
}
