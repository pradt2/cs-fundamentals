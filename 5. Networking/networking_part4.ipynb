{
 "cells": [
  {
   "cell_type": "markdown",
   "id": "c8a61e1e",
   "metadata": {},
   "source": [
    "## 16. Everyday HTTP headers"
   ]
  },
  {
   "cell_type": "markdown",
   "id": "70e9bdaf",
   "metadata": {},
   "source": [
    "Headers are key–value pairs providing request/response metadata:\n",
    "* **Host** – virtual host selection (mandatory in HTTP/1.1).\n",
    "* **Content-Type** – media type of body (`application/json`).\n",
    "* **Accept** – formats the client is willing to receive.\n",
    "* **Authorization** – credentials (Basic, Bearer…).\n",
    "* **User-Agent** – client software string.\n",
    "* **Cookie / Set-Cookie** – session data.\n",
    "\n",
    "Missing or wrong headers are a top cause of 4xx errors."
   ]
  },
  {
   "cell_type": "markdown",
   "id": "23a8cce3",
   "metadata": {},
   "source": [
    "```bash\n",
    "curl -H 'Accept: application/json' -H 'Authorization: Bearer <token>' \\\n",
    "     https://httpbin.org/headers | jq .\n",
    "```"
   ]
  },
  {
   "cell_type": "markdown",
   "id": "b45daa4f",
   "metadata": {},
   "source": [
    "### Quick check\n",
    "\n",
    "1. `Host` header is mandatory since:\n",
    "  a. HTTP/1.0  b. HTTP/1.1\n",
    "\n",
    "2. True / False `Content-Type` is required on POST with JSON body.\n",
    "\n",
    "<details><summary>Answer key</summary>\n",
    "\n",
    "1. **b**.\n",
    "2. **True** – many APIs return 415 otherwise.\n",
    "\n",
    "</details>"
   ]
  },
  {
   "cell_type": "markdown",
   "id": "6d8294d9",
   "metadata": {},
   "source": [
    "## 17. Chunked transfer & keep‑alive"
   ]
  },
  {
   "cell_type": "markdown",
   "id": "0ae1fe12",
   "metadata": {},
   "source": [
    "`Transfer-Encoding: chunked` lets the server stream data without knowing total length.\n",
    "Each chunk: `<hex length>\\r\\n<data>\\r\\n` … finish with `0\\r\\n\\r\\n`.\n",
    "Persistent connections (`Connection: keep-alive`) reuse the TCP socket, avoiding handshake overhead."
   ]
  },
  {
   "cell_type": "markdown",
   "id": "19657c9a",
   "metadata": {},
   "source": [
    "```bash\n",
    "curl -N https://httpbin.org/stream/3\n",
    "```"
   ]
  },
  {
   "cell_type": "markdown",
   "id": "06aaea3e",
   "metadata": {},
   "source": [
    "### Quick check\n",
    "\n",
    "1. Chunk header length is encoded in:\n",
    "  a. decimal  b. hexadecimal\n",
    "\n",
    "2. True / False Keep‑alive is the default in HTTP/1.1.\n",
    "\n",
    "<details><summary>Answer key</summary>\n",
    "\n",
    "1. **b**.\n",
    "2. **True**.\n",
    "\n",
    "</details>"
   ]
  },
  {
   "cell_type": "markdown",
   "id": "996d5d95",
   "metadata": {},
   "source": [
    "## 18. CORS preflight"
   ]
  },
  {
   "cell_type": "markdown",
   "id": "24d5e110",
   "metadata": {},
   "source": [
    "Browsers enforce the Same‑Origin Policy. A cross‑site `fetch` with non‑simple method or headers sends a preflight `OPTIONS` request containing `Origin` and `Access-Control-Request-*` headers.\n",
    "Server must reply with corresponding `Access-Control-Allow-*` headers, else browser blocks the real request."
   ]
  },
  {
   "cell_type": "markdown",
   "id": "b5f4a98d",
   "metadata": {},
   "source": [
    "```bash\n",
    "curl -i -X OPTIONS https://httpbin.org/anything \\\n",
    "     -H 'Origin: https://foo.com' \\\n",
    "     -H 'Access-Control-Request-Method: PUT'\n",
    "```"
   ]
  },
  {
   "cell_type": "markdown",
   "id": "af8b4694",
   "metadata": {},
   "source": [
    "### Quick check\n",
    "\n",
    "1. `Access-Control-Allow-Origin: *` permits credentials cookies?\n",
    "  a. yes  b. no\n",
    "\n",
    "2. True / False CORS is enforced by browsers, not the server.\n",
    "\n",
    "<details><summary>Answer key</summary>\n",
    "\n",
    "1. **b** – wildcard forbids credentials.\n",
    "2. **True**.\n",
    "\n",
    "</details>"
   ]
  },
  {
   "cell_type": "markdown",
   "id": "9ddd979f",
   "metadata": {},
   "source": [
    "## 19. Idempotency & safety of HTTP verbs"
   ]
  },
  {
   "cell_type": "markdown",
   "id": "fa9aa57d",
   "metadata": {},
   "source": [
    "* **Safe**: GET, HEAD – no state change expected.\n",
    "* **Idempotent**: GET, PUT, DELETE – repeat → same end state.\n",
    "POST is neither; retries risk duplicates. Some APIs use an `Idempotency-Key` header to make POST safe."
   ]
  },
  {
   "cell_type": "markdown",
   "id": "c05710fe",
   "metadata": {},
   "source": [
    "```text\n",
    "Stripe recommends including `Idempotency-Key: <uuid>` on POST /charges so duplicate network retries don’t double‑charge.\n",
    "```"
   ]
  },
  {
   "cell_type": "markdown",
   "id": "8513542b",
   "metadata": {},
   "source": [
    "### Quick check\n",
    "\n",
    "1. DELETE repeated twice should:\n",
    "  a. error second time  b. succeed both with same result\n",
    "\n",
    "2. True / False PATCH is guaranteed idempotent by spec.\n",
    "\n",
    "<details><summary>Answer key</summary>\n",
    "\n",
    "1. **b**.\n",
    "2. **False** – depends on implementation.\n",
    "\n",
    "</details>"
   ]
  },
  {
   "cell_type": "markdown",
   "id": "58189ab4",
   "metadata": {},
   "source": [
    "## 20. REST constraints overview"
   ]
  },
  {
   "cell_type": "markdown",
   "id": "fccb2b06",
   "metadata": {},
   "source": [
    "Fielding’s REST constraints:\n",
    "1. **Client‑server** separation\n",
    "2. **Stateless** – no session stored server‑side\n",
    "3. **Cacheable** – responses mark themselves cacheable or not\n",
    "4. **Uniform interface** – resource identifiers (URIs) + standard verbs\n",
    "5. **Layered system** – intermediaries allowed (proxies, gateways)\n",
    "6. *(Optional)* **Code‑on‑demand** – server can send executable code to extend client\n",
    "HATEOAS: clients navigate via links in representations."
   ]
  },
  {
   "cell_type": "markdown",
   "id": "6075ab93",
   "metadata": {},
   "source": [
    "```json\n",
    "{\n",
    "  \"id\": 42,\n",
    "  \"state\": \"processing\",\n",
    "  \"_links\": {\n",
    "    \"cancel\": { \"href\": \"/orders/42/cancel\" }\n",
    "  }\n",
    "}\n",
    "```"
   ]
  },
  {
   "cell_type": "markdown",
   "id": "12289393",
   "metadata": {},
   "source": [
    "### Quick check\n",
    "\n",
    "1. REST requires server to store session state?\n",
    "  a. yes  b. no\n",
    "\n",
    "2. True / False HATEOAS is an optional but original REST principle.\n",
    "\n",
    "<details><summary>Answer key</summary>\n",
    "\n",
    "1. **b**.\n",
    "2. **True**.\n",
    "\n",
    "</details>"
   ]
  }
 ],
 "metadata": {},
 "nbformat": 4,
 "nbformat_minor": 5
}
