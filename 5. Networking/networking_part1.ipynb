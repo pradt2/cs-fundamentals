{
 "cells": [
  {
   "cell_type": "markdown",
   "id": "c66729ac",
   "metadata": {},
   "source": [
    "## 1. What is a socket?"
   ]
  },
  {
   "cell_type": "markdown",
   "id": "f40a01ef",
   "metadata": {},
   "source": [
    "Think of a **socket** as a two‑way pipe between programs. At the OS level it’s just a file descriptor, so you read/write bytes the same way you do with a file.  Identified by **(IP address, port number, protocol)** on each end.\n",
    "\n",
    "Why it matters:\n",
    "* Every higher‑level protocol—HTTP, FTP, gRPC—rides on sockets.\n",
    "* If a request “hangs,” knowing socket states helps you debug (SYN‑SENT, ESTABLISHED…)."
   ]
  },
  {
   "cell_type": "markdown",
   "id": "c00a113d",
   "metadata": {},
   "source": [
    "```python\n",
    "import socket\n",
    "# create TCP client socket\n",
    "sock = socket.socket(socket.AF_INET, socket.SOCK_STREAM)\n",
    "sock.connect(('example.com', 80))\n",
    "sock.sendall(b'HEAD / HTTP/1.0\\r\\nHost: example.com\\r\\n\\r\\n')\n",
    "print(sock.recv(40))\n",
    "sock.close()\n",
    "```"
   ]
  },
  {
   "cell_type": "markdown",
   "id": "8bffaf8f",
   "metadata": {},
   "source": [
    "### Quick check\n",
    "\n",
    "1. True / False Writing to a socket uses the same `send` sys‑call Linux uses for files.\n",
    "\n",
    "2. A socket endpoint is uniquely identified by:\n",
    "  a. port only   b. IP+port+protocol\n",
    "\n",
    "<details><summary>Answer key</summary>\n",
    "\n",
    "1. **True** – under the hood it’s `write()` on fd.\n",
    "2. **b**.\n",
    "\n",
    "</details>"
   ]
  },
  {
   "cell_type": "markdown",
   "id": "9a425423",
   "metadata": {},
   "source": [
    "## 2. IPv4 vs. IPv6 basics"
   ]
  },
  {
   "cell_type": "markdown",
   "id": "d163b849",
   "metadata": {},
   "source": [
    "*IPv4* uses 32‑bit dotted quad (e.g., `192.0.2.1`). Limited ~4 billion addresses.\n",
    "*IPv6* uses 128‑bit hex blocks (`2001:db8::1`). Built‑in ideas: link‑local (`fe80::/10`), loopback `::1`, and huge address space.\n",
    "\n",
    "Python constants: `socket.AF_INET` vs. `AF_INET6` when creating sockets."
   ]
  },
  {
   "cell_type": "markdown",
   "id": "8fc17a9c",
   "metadata": {},
   "source": [
    "```python\n",
    "import socket\n",
    "ipv4 = socket.getaddrinfo('localhost', 80, family=socket.AF_INET)\n",
    "ipv6 = socket.getaddrinfo('localhost', 80, family=socket.AF_INET6)\n",
    "print('v4', ipv4[0][4][0], 'v6', ipv6[0][4][0])\n",
    "```"
   ]
  },
  {
   "cell_type": "markdown",
   "id": "2fc591a2",
   "metadata": {},
   "source": [
    "### Quick check\n",
    "\n",
    "1. Loopback address in IPv6 is:\n",
    "  a. 127.0.0.1   b. ::1\n",
    "\n",
    "2. True / False IPv6 addresses can embed IPv4 in last 32 bits.\n",
    "\n",
    "<details><summary>Answer key</summary>\n",
    "\n",
    "1. **b**.\n",
    "2. **True** – called IPv4‑mapped.\n",
    "\n",
    "</details>"
   ]
  },
  {
   "cell_type": "markdown",
   "id": "d160d0dd",
   "metadata": {},
   "source": [
    "## 3. TCP vs. UDP"
   ]
  },
  {
   "cell_type": "markdown",
   "id": "8c326bb4",
   "metadata": {},
   "source": [
    "**TCP** – connection‑oriented, reliable, ordered bytes. Cost: handshake latency, state.\n",
    "**UDP** – connectionless datagrams, best‑effort, may drop or reorder packets. Useful for DNS, video, gaming where latency beats reliability."
   ]
  },
  {
   "cell_type": "markdown",
   "id": "9d9d022d",
   "metadata": {},
   "source": [
    "```python\n",
    "import socket\n",
    "# UDP echo\n",
    "s = socket.socket(socket.AF_INET, socket.SOCK_DGRAM)\n",
    "s.sendto(b'ping', ('8.8.8.8', 53))  # just fires, no connect\n",
    "```"
   ]
  },
  {
   "cell_type": "markdown",
   "id": "aae7c1b8",
   "metadata": {},
   "source": [
    "### Quick check\n",
    "\n",
    "1. Which guarantees in‑order delivery?\n",
    "  a. TCP   b. UDP\n",
    "\n",
    "2. True / False UDP requires handshake.\n",
    "\n",
    "<details><summary>Answer key</summary>\n",
    "\n",
    "1. **a**.\n",
    "2. **False**.\n",
    "\n",
    "</details>"
   ]
  },
  {
   "cell_type": "markdown",
   "id": "42b2fe98",
   "metadata": {},
   "source": [
    "## 4. Three‑way handshake & listen queue"
   ]
  },
  {
   "cell_type": "markdown",
   "id": "ca9d1c9d",
   "metadata": {},
   "source": [
    "Server `listen()` creates a *backlog queue*. TCP connect flow:\n",
    "1. **SYN** client→server\n",
    "2. **SYN‑ACK** server→client\n",
    "3. **ACK** client→server → connection ESTABLISHED.\n",
    "\n",
    "If backlog full, new SYNs are dropped → clients see timeout."
   ]
  },
  {
   "cell_type": "markdown",
   "id": "a30ea5c6",
   "metadata": {},
   "source": [
    "```python\n",
    "# Listing backlog size\n",
    "import socket\n",
    "srv = socket.socket(); srv.bind(('0.0.0.0',0)); srv.listen(5)\n",
    "print('listening', srv.getsockname(), 'backlog=5')\n",
    "```"
   ]
  },
  {
   "cell_type": "markdown",
   "id": "383e5331",
   "metadata": {},
   "source": [
    "### Quick check\n",
    "\n",
    "1. SYN flood targets which part of handshake?\n",
    "  a. final ACK   b. initial SYN\n",
    "\n",
    "2. True / False `listen(backlog)` larger number allows more half‑open connections.\n",
    "\n",
    "<details><summary>Answer key</summary>\n",
    "\n",
    "1. **b**.\n",
    "2. **True**.\n",
    "\n",
    "</details>"
   ]
  },
  {
   "cell_type": "markdown",
   "id": "6fa092e6",
   "metadata": {},
   "source": [
    "## 5. Client vs. server socket workflow"
   ]
  },
  {
   "cell_type": "markdown",
   "id": "623774ca",
   "metadata": {},
   "source": [
    "| Role | Steps |\n",
    "|------|-------|\n",
    "| Client | `socket()` → optional `settimeout()` → `connect()` → `send/recv` → `close()` |\n",
    "| Server | `socket()` → `bind()` → `listen()` → loop `accept()` → per‑client socket `recv/send` |\n",
    "\n",
    "Each `accept()` returns a *new* socket object bound to client’s address."
   ]
  },
  {
   "cell_type": "markdown",
   "id": "9f78aa30",
   "metadata": {},
   "source": [
    "```python\n",
    "import socket, threading\n",
    "def handle(csock, addr):\n",
    "    csock.sendall(b'hi'); csock.close()\n",
    "\n",
    "srv = socket.socket(); srv.bind(('localhost', 50007)); srv.listen()\n",
    "threading.Thread(target=lambda: srv.accept() and print('ready')).start()\n",
    "cl = socket.create_connection(('localhost', 50007)); print(cl.recv(10))\n",
    "```"
   ]
  },
  {
   "cell_type": "markdown",
   "id": "aa408692",
   "metadata": {},
   "source": [
    "### Quick check\n",
    "\n",
    "1. After `accept()`, server communicates using:\n",
    "  a. original listening socket   b. newly returned socket\n",
    "\n",
    "2. True / False `bind()` is required on client sockets.\n",
    "\n",
    "<details><summary>Answer key</summary>\n",
    "\n",
    "1. **b**.\n",
    "2. **False** – OS picks ephemeral port.\n",
    "\n",
    "</details>"
   ]
  }
 ],
 "metadata": {
  "kernelspec": {
   "display_name": "Python 3 (ipykernel)",
   "language": "python",
   "name": "python3"
  },
  "language_info": {
   "codemirror_mode": {
    "name": "ipython",
    "version": 3
   },
   "file_extension": ".py",
   "mimetype": "text/x-python",
   "name": "python",
   "nbconvert_exporter": "python",
   "pygments_lexer": "ipython3",
   "version": "3.13.3"
  }
 },
 "nbformat": 4,
 "nbformat_minor": 5
}
