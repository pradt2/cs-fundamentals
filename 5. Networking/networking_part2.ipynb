{
 "cells": [
  {
   "cell_type": "markdown",
   "id": "5193c46b",
   "metadata": {},
   "source": [
    "## 6. Blocking vs. non‑blocking sockets"
   ]
  },
  {
   "cell_type": "markdown",
   "id": "5278682d",
   "metadata": {},
   "source": [
    "By default, socket operations **block**: `recv()` halts the thread until data arrives.  Setting `sock.setblocking(False)` makes calls raise `BlockingIOError` instead of waiting—useful for event loops (`select`, `asyncio`).\n",
    "\n",
    "Two design patterns:\n",
    "* **Select loop** – wait for readiness, then `recv()`.\n",
    "* **Timeouts** – keep blocking sockets but call `settimeout(seconds)` to avoid hangs."
   ]
  },
  {
   "cell_type": "markdown",
   "id": "4ae5884c",
   "metadata": {},
   "source": [
    "```python\n",
    "import socket, select\n",
    "s = socket.socket(); s.setblocking(False)\n",
    "try:\n",
    "    s.connect(('example.com', 80))\n",
    "except BlockingIOError:\n",
    "    pass  # expected for non‑blocking connect\n",
    "ready,_,_ = select.select([], [s], [], 2)\n",
    "if ready:\n",
    "    s.send(b'')\n",
    "```"
   ]
  },
  {
   "cell_type": "markdown",
   "id": "a84a79da",
   "metadata": {},
   "source": [
    "### Quick check\n",
    "\n",
    "1. `settimeout(0)` is equivalent to:\n",
    "  a. blocking   b. non‑blocking\n",
    "\n",
    "2. True / False Non‑blocking `recv()` returns empty bytes if no data.\n",
    "\n",
    "<details><summary>Answer key</summary>\n",
    "\n",
    "1. **b**.\n",
    "2. **False** – raises BlockingIOError.\n",
    "\n",
    "</details>"
   ]
  },
  {
   "cell_type": "markdown",
   "id": "b4fa1fcd",
   "metadata": {},
   "source": [
    "## 7. Nagle’s algorithm & `TCP_NODELAY`"
   ]
  },
  {
   "cell_type": "markdown",
   "id": "d994ac11",
   "metadata": {},
   "source": [
    "TCP coalesces small packets (Nagle) to reduce overhead; great for telnet, bad for latency‑sensitive realtime apps.  Disable with `setsockopt(IPPROTO_TCP, TCP_NODELAY, 1)` when you need each write to hit the wire immediately."
   ]
  },
  {
   "cell_type": "markdown",
   "id": "9bd3dc55",
   "metadata": {},
   "source": [
    "```python\n",
    "import socket\n",
    "s=socket.create_connection(('example.com',80))\n",
    "s.setsockopt(socket.IPPROTO_TCP, socket.TCP_NODELAY, 1)\n",
    "```"
   ]
  },
  {
   "cell_type": "markdown",
   "id": "d673e169",
   "metadata": {},
   "source": [
    "### Quick check\n",
    "\n",
    "1. Disabling Nagle **increases**:\n",
    "  a. bandwidth efficiency  b. per‑packet latency\n",
    "\n",
    "2. True / False `TCP_NODELAY` affects UDP sockets.\n",
    "\n",
    "<details><summary>Answer key</summary>\n",
    "\n",
    "1. **b**.\n",
    "2. **False** – only TCP.\n",
    "\n",
    "</details>"
   ]
  },
  {
   "cell_type": "markdown",
   "id": "f7d6966f",
   "metadata": {},
   "source": [
    "## 8. Port numbers & privileges"
   ]
  },
  {
   "cell_type": "markdown",
   "id": "55c03779",
   "metadata": {},
   "source": [
    "Ports 0‑1023 = *well‑known* (HTTP 80, HTTPS 443). On Unix, binding <1024 requires root.  Ephemeral ports (49152‑65535) chosen by OS for client sockets.  Avoid hard‑coding server ports already reserved (see `/etc/services`)."
   ]
  },
  {
   "cell_type": "markdown",
   "id": "dbd4d388",
   "metadata": {},
   "source": [
    "```bash\n",
    "grep 8080 /etc/services | head -1  # list known mapping if any\n",
    "```"
   ]
  },
  {
   "cell_type": "markdown",
   "id": "df466ff7",
   "metadata": {},
   "source": [
    "### Quick check\n",
    "\n",
    "1. Binding port 80 as normal user likely raises:\n",
    "  a. PermissionError  b. Timeout\n",
    "\n",
    "2. True / False Two sockets can bind same port/IP simultaneously with TCP.\n",
    "\n",
    "<details><summary>Answer key</summary>\n",
    "\n",
    "1. **a**.\n",
    "2. **False** – unless using SO_REUSEPORT semantics.\n",
    "\n",
    "</details>"
   ]
  },
  {
   "cell_type": "markdown",
   "id": "afa773f7",
   "metadata": {},
   "source": [
    "## 9. Byte order & the `struct` module"
   ]
  },
  {
   "cell_type": "markdown",
   "id": "1ab8fc2c",
   "metadata": {},
   "source": [
    "Network byte order is **big‑endian**. Convert integers with `struct.pack('!I', num)` or `socket.htonl()`. Mismatched endian renders data garbage across architectures."
   ]
  },
  {
   "cell_type": "markdown",
   "id": "fa167dda",
   "metadata": {},
   "source": [
    "```python\n",
    "import struct\n",
    "x=0x12345678\n",
    "net=struct.pack('!I', x)\n",
    "host=struct.unpack('!I', net)[0]\n",
    "print(hex(host))\n",
    "```"
   ]
  },
  {
   "cell_type": "markdown",
   "id": "49685d7d",
   "metadata": {},
   "source": [
    "### Quick check\n",
    "\n",
    "1. `'!H'` in struct format means:\n",
    "  a. host endian short  b. network endian short\n",
    "\n",
    "2. True / False Endian issues disappear if you send text JSON.\n",
    "\n",
    "<details><summary>Answer key</summary>\n",
    "\n",
    "1. **b**.\n",
    "2. **True** – JSON is ASCII chars.\n",
    "\n",
    "</details>"
   ]
  },
  {
   "cell_type": "markdown",
   "id": "cdeaa828",
   "metadata": {},
   "source": [
    "## 10. DNS look‑ups and blocking `connect()`"
   ]
  },
  {
   "cell_type": "markdown",
   "id": "0983e965",
   "metadata": {},
   "source": [
    "`socket.getaddrinfo()` resolves names; it can stall seconds.  Use IP literals or run resolution in thread pool for low‑latency apps.  `connect()` includes DNS + TCP handshake + TLS by default."
   ]
  },
  {
   "cell_type": "markdown",
   "id": "9f894afd",
   "metadata": {},
   "source": [
    "```python\n",
    "import socket, time\n",
    "t=time.perf_counter(); socket.getaddrinfo('python.org', 443); print('lookup',time.perf_counter()-t)\n",
    "```"
   ]
  },
  {
   "cell_type": "markdown",
   "id": "56aa2174",
   "metadata": {},
   "source": [
    "### Quick check\n",
    "\n",
    "1. DNS uses which protocol by default?\n",
    "  a. UDP 53  b. TCP 80\n",
    "\n",
    "2. True / False `getaddrinfo()` can return multiple records for IPv4/IPv6.\n",
    "\n",
    "<details><summary>Answer key</summary>\n",
    "\n",
    "1. **a**.\n",
    "2. **True**.\n",
    "\n",
    "</details>"
   ]
  }
 ],
 "metadata": {},
 "nbformat": 4,
 "nbformat_minor": 5
}
