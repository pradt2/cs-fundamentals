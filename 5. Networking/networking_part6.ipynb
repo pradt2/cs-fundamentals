{
 "cells": [
  {
   "cell_type": "markdown",
   "id": "edf6b829",
   "metadata": {},
   "source": [
    "## 26. Rate limiting & 429 Too Many Requests"
   ]
  },
  {
   "cell_type": "markdown",
   "id": "a5f18341",
   "metadata": {},
   "source": [
    "Public APIs often cap request rate per API key or IP to protect capacity. The server returns **429 Too Many Requests** with optional `Retry-After` header (seconds or HTTP date) indicating back‑off time.\n",
    "\n",
    "Client etiquette:\n",
    "1. Observe `Retry-After` or exponential backoff.\n",
    "2. Batch requests when possible.\n",
    "3. Cache responses to cut hits."
   ]
  },
  {
   "cell_type": "markdown",
   "id": "d2de2440",
   "metadata": {},
   "source": [
    "```http\n",
    "HTTP/1.1 429 Too Many Requests\n",
    "Retry-After: 30\n",
    "\n",
    "{ \"error\": \"rate_limit\", \"remaining\": 0 }\n",
    "```"
   ]
  },
  {
   "cell_type": "markdown",
   "id": "7c5708cc",
   "metadata": {},
   "source": [
    "### Quick check\n",
    "\n",
    "1. `Retry-After: 120` means wait:\n",
    "  a. 2 min  b. 120 ms\n",
    "\n",
    "2. True / False 429 indicates a permanent ban.\n",
    "\n",
    "<details><summary>Answer key</summary>\n",
    "\n",
    "1. **a**.\n",
    "2. **False** – temporary throttle.\n",
    "\n",
    "</details>"
   ]
  },
  {
   "cell_type": "markdown",
   "id": "f0e756f6",
   "metadata": {},
   "source": [
    "## 27. Error payload conventions (RFC 7807 Problem Details)"
   ]
  },
  {
   "cell_type": "markdown",
   "id": "7dda0811",
   "metadata": {},
   "source": [
    "Instead of ad‑hoc JSON, RFC 7807 standardises error bodies:\n",
    "```json\n",
    "{\n",
    "  \"type\": \"https://example.com/probs/out-of-credit\",\n",
    "  \"title\": \"You do not have enough credit.\",\n",
    "  \"status\": 403,\n",
    "  \"detail\": \"Your current balance is 30, but that costs 50.\",\n",
    "  \"instance\": \"/account/12345/msgs/abc\"\n",
    "}\n",
    "```\n",
    "`Content-Type: application/problem+json`."
   ]
  },
  {
   "cell_type": "markdown",
   "id": "55416938",
   "metadata": {},
   "source": [
    "```python\n",
    "import requests, json\n",
    "r = requests.get('https://httpbin.org/status/418')\n",
    "problem = {\n",
    "    \"type\": \"about:blank\",\n",
    "    \"title\": \"I'm a teapot\",\n",
    "    \"status\": 418\n",
    "}\n",
    "print(json.dumps(problem, indent=2))\n",
    "```"
   ]
  },
  {
   "cell_type": "markdown",
   "id": "9bf3d9f7",
   "metadata": {},
   "source": [
    "### Quick check\n",
    "\n",
    "1. RFC 7807 media type is:\n",
    "  a. application/problem+json  b. text/problem\n",
    "\n",
    "2. True / False `title` should be human‑readable, not code.\n",
    "\n",
    "<details><summary>Answer key</summary>\n",
    "\n",
    "1. **a**.\n",
    "2. **True**.\n",
    "\n",
    "</details>"
   ]
  },
  {
   "cell_type": "markdown",
   "id": "5b999528",
   "metadata": {},
   "source": [
    "## 28. HTTP/2 vs. HTTP/1.1 quick tour"
   ]
  },
  {
   "cell_type": "markdown",
   "id": "3d185564",
   "metadata": {},
   "source": [
    "* **Multiplexing** – many streams share one TCP connection → no head‑of‑line blocking.\n",
    "* **Header compression** (HPACK) saves bandwidth.\n",
    "* Binary framing layer; still request/response semantics.\n",
    "Browsers negotiate via *ALPN* during TLS handshake."
   ]
  },
  {
   "cell_type": "markdown",
   "id": "af16f32a",
   "metadata": {},
   "source": [
    "```bash\n",
    "curl -I --http2 https://www.google.com | head -5\n",
    "```"
   ]
  },
  {
   "cell_type": "markdown",
   "id": "15e25426",
   "metadata": {},
   "source": [
    "### Quick check\n",
    "\n",
    "1. HTTP/2 messages are:\n",
    "  a. text  b. binary frames\n",
    "\n",
    "2. True / False HTTP/2 mandates TLS.\n",
    "\n",
    "<details><summary>Answer key</summary>\n",
    "\n",
    "1. **b**.\n",
    "2. **False** – though browsers require TLS.\n",
    "\n",
    "</details>"
   ]
  },
  {
   "cell_type": "markdown",
   "id": "5c10841c",
   "metadata": {},
   "source": [
    "## 29. Proxies: forward vs. reverse"
   ]
  },
  {
   "cell_type": "markdown",
   "id": "a492824b",
   "metadata": {},
   "source": [
    "* **Forward proxy** – client‑side, e.g., corporate firewall; set via `HTTP_PROXY` env.\n",
    "* **Reverse proxy** – server‑side load‑balancer (Nginx, Envoy) hiding backend pool.\n",
    "Environment variables `HTTP_PROXY`, `NO_PROXY` picked up by many libs (`requests`)."
   ]
  },
  {
   "cell_type": "markdown",
   "id": "d63f2930",
   "metadata": {},
   "source": [
    "```bash\n",
    "export HTTP_PROXY=http://proxy.lan:3128\n",
    "curl http://example.com\n",
    "```"
   ]
  },
  {
   "cell_type": "markdown",
   "id": "d24dd330",
   "metadata": {},
   "source": [
    "### Quick check\n",
    "\n",
    "1. Reverse proxy sits:\n",
    "  a. near client  b. in front of origin servers\n",
    "\n",
    "2. True / False `NO_PROXY=localhost` bypasses proxy for local calls.\n",
    "\n",
    "<details><summary>Answer key</summary>\n",
    "\n",
    "1. **b**.\n",
    "2. **True**.\n",
    "\n",
    "</details>"
   ]
  },
  {
   "cell_type": "markdown",
   "id": "025157b2",
   "metadata": {},
   "source": [
    "## 30. Toolbox tour: curl, httpie, Postman"
   ]
  },
  {
   "cell_type": "markdown",
   "id": "a63ae1a9",
   "metadata": {},
   "source": [
    "* **curl** – Swiss‑army knife CLI; `-v`, `-I`, `--http2`, `--data @file.json`.\n",
    "* **httpie** – human‑friendly: `http GET example.com X-API-Key:token`.\n",
    "* **Postman / Insomnia** – GUI for saved collections, auth flows, tests.\n",
    "Browser Network tab: right‑click → Copy as cURL."
   ]
  },
  {
   "cell_type": "markdown",
   "id": "f8681ec5",
   "metadata": {},
   "source": [
    "```bash\n",
    "http https://jsonplaceholder.typicode.com/posts title==foo userId==1\n",
    "```"
   ]
  },
  {
   "cell_type": "markdown",
   "id": "c45c582a",
   "metadata": {},
   "source": [
    "### Quick check\n",
    "\n",
    "1. `curl -I` performs:\n",
    "  a. GET  b. HEAD\n",
    "\n",
    "2. True / False Postman can export requests as code snippets.\n",
    "\n",
    "<details><summary>Answer key</summary>\n",
    "\n",
    "1. **b**.\n",
    "2. **True**.\n",
    "\n",
    "</details>"
   ]
  }
 ],
 "metadata": {},
 "nbformat": 4,
 "nbformat_minor": 5
}
