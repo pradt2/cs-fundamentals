{
 "cells": [
  {
   "cell_type": "markdown",
   "id": "e5ee5cd4",
   "metadata": {},
   "source": [
    "## 11. TLS handshake in one paragraph"
   ]
  },
  {
   "cell_type": "markdown",
   "id": "385f8a27",
   "metadata": {},
   "source": [
    "Transport Layer Security (TLS) wraps a TCP connection in **encryption + authentication**.\n",
    "\n",
    "Handshake flow (TLS 1.2 simplified):\n",
    "1. **ClientHello** – lists cipher suites & random.\n",
    "2. **ServerHello** – picks cipher, sends certificate (public key).\n",
    "3. **Key exchange** – client encrypts a *pre‑master secret* with server’s public key.\n",
    "4. Both derive the same session keys → **Finished** messages verified.\n",
    "\n",
    "STARTTLS upgrades an existing plaintext port (SMTP 25 → TLS). *Pure TLS* ports (e.g., HTTPS 443)\n",
    "start encrypted from byte 0."
   ]
  },
  {
   "cell_type": "markdown",
   "id": "1e2d11a2",
   "metadata": {},
   "source": [
    "```python\n",
    "import ssl, socket\n",
    "ctx = ssl.create_default_context()\n",
    "with ctx.wrap_socket(socket.socket(), server_hostname='example.com') as s:\n",
    "    s.connect(('example.com', 443))\n",
    "    print('TLS version', s.version())\n",
    "```"
   ]
  },
  {
   "cell_type": "markdown",
   "id": "2cb8e244",
   "metadata": {},
   "source": [
    "### Quick check\n",
    "\n",
    "1. True / False TLS works on top of UDP.\n",
    "\n",
    "2. Port 587 (mail submission) typically uses:\n",
    "  a. pure TLS   b. STARTTLS upgrade\n",
    "\n",
    "<details><summary>Answer key</summary>\n",
    "\n",
    "1. **False** – TLS assumes reliable stream (TCP).\n",
    "2. **b**.\n",
    "\n",
    "</details>"
   ]
  },
  {
   "cell_type": "markdown",
   "id": "348d2fa4",
   "metadata": {},
   "source": [
    "## 12. From raw bytes to protocols: framing"
   ]
  },
  {
   "cell_type": "markdown",
   "id": "900b8b3a",
   "metadata": {},
   "source": [
    "Sockets are byte streams; you must define **message boundaries**.\n",
    "\n",
    "* **Length‑prefix** – first 4‑byte int gives payload size.\n",
    "* **Delimiter** – e.g., `\\r\\n` ends a line (SMTP, HTTP headers).\n",
    "* **Fixed‑size records** – always 512 bytes (DNS over UDP).\n",
    "\n",
    "Wrong framing ⇒ sender/receiver fall out of sync, producing corrupted data or hangs."
   ]
  },
  {
   "cell_type": "markdown",
   "id": "c284b549",
   "metadata": {},
   "source": [
    "```python\n",
    "import struct, socket\n",
    "msg = b'hello'\n",
    "payload = struct.pack('!I', len(msg)) + msg  # length‑prefixed\n",
    "print(payload)\n",
    "```"
   ]
  },
  {
   "cell_type": "markdown",
   "id": "b47a905f",
   "metadata": {},
   "source": [
    "### Quick check\n",
    "\n",
    "1. Using `\\0` as terminator is safe for binary data?\n",
    "  a. yes   b. no\n",
    "\n",
    "2. True / False Length‑prefix lets receiver allocate exact buffer size.\n",
    "\n",
    "<details><summary>Answer key</summary>\n",
    "\n",
    "1. **b** – null byte may appear in binary.\n",
    "2. **True**.\n",
    "\n",
    "</details>"
   ]
  },
  {
   "cell_type": "markdown",
   "id": "45bde2c1",
   "metadata": {},
   "source": [
    "## 13. HTTP request anatomy"
   ]
  },
  {
   "cell_type": "markdown",
   "id": "4b1185bc",
   "metadata": {},
   "source": [
    "HTTP 1.1 request layout:\n",
    "```\n",
    "GET /path?x=1 HTTP/1.1  ← request line\n",
    "Host: example.com        ← headers\n",
    "User-Agent: curl/8.5\n",
    "                         ← blank line\n",
    "{ \"json\": true }       ← optional body\n",
    "```\n",
    "Headers are ASCII key–value pairs ending with CR‑LF. Path may include query string; body length signalled by `Content-Length` or `Transfer-Encoding: chunked`."
   ]
  },
  {
   "cell_type": "markdown",
   "id": "827c69b0",
   "metadata": {},
   "source": [
    "```bash\n",
    "curl -v -X POST https://httpbin.org/post -H 'Content-Type: application/json' \\\n",
    "     -d '{\"hi\":true}'\n",
    "```"
   ]
  },
  {
   "cell_type": "markdown",
   "id": "1bde5009",
   "metadata": {},
   "source": [
    "### Quick check\n",
    "\n",
    "1. Missing blank line before body will cause server to:\n",
    "  a. parse body as header   b. accept anyway\n",
    "\n",
    "2. True / False HTTP headers are case‑insensitive.\n",
    "\n",
    "<details><summary>Answer key</summary>\n",
    "\n",
    "1. **a**.\n",
    "2. **True**.\n",
    "\n",
    "</details>"
   ]
  },
  {
   "cell_type": "markdown",
   "id": "3de03133",
   "metadata": {},
   "source": [
    "## 14. HTTP methods: GET, POST, PUT, PATCH, DELETE"
   ]
  },
  {
   "cell_type": "markdown",
   "id": "cb8093b1",
   "metadata": {},
   "source": [
    "* **GET** – safe, idempotent, no body semantics (though body allowed by spec). Use for reads.\n",
    "* **POST** – non‑idempotent create/execute.\n",
    "* **PUT** – full replace; idempotent.\n",
    "* **PATCH** – partial update.\n",
    "* **DELETE** – idempotent removal.\n",
    "\n",
    "**Idempotent** = same call repeated → same end state. Important for retries."
   ]
  },
  {
   "cell_type": "markdown",
   "id": "8a3a8353",
   "metadata": {},
   "source": [
    "```python\n",
    "import requests\n",
    "r=requests.put('https://httpbin.org/put', json={'x':1})\n",
    "print(r.status_code)\n",
    "```"
   ]
  },
  {
   "cell_type": "markdown",
   "id": "d16dc9a4",
   "metadata": {},
   "source": [
    "### Quick check\n",
    "\n",
    "1. Which method is NOT idempotent by spec?\n",
    "  a. PUT   b. POST\n",
    "\n",
    "2. True / False GET requests should change server state.\n",
    "\n",
    "<details><summary>Answer key</summary>\n",
    "\n",
    "1. **b**.\n",
    "2. **False**.\n",
    "\n",
    "</details>"
   ]
  },
  {
   "cell_type": "markdown",
   "id": "cb6c417e",
   "metadata": {},
   "source": [
    "## 15. Status code classes & common meanings"
   ]
  },
  {
   "cell_type": "markdown",
   "id": "9b5804ba",
   "metadata": {},
   "source": [
    "| Class | Meaning |\n",
    "|-------|---------|\n",
    "| 1xx | informational, rarely seen |\n",
    "| 2xx | success (200 OK, 201 Created, 204 No Content) |\n",
    "| 3xx | redirects (301 permanent, 302 temporary) |\n",
    "| 4xx | client error (400 Bad Request, 401 Unauthorized, 403 Forbidden, 404 Not Found) |\n",
    "| 5xx | server error (500 Internal Server Error, 503 Service Unavailable) |\n",
    "\n",
    "Rule of thumb: **Anything 4xx is caller’s fault; 5xx is server’s fault.**"
   ]
  },
  {
   "cell_type": "markdown",
   "id": "7b634994",
   "metadata": {},
   "source": [
    "```bash\n",
    "curl -i https://httpbin.org/status/404\n",
    "```"
   ]
  },
  {
   "cell_type": "markdown",
   "id": "603bb2d7",
   "metadata": {},
   "source": [
    "### Quick check\n",
    "\n",
    "1. `204` response contains body?\n",
    "  a. yes   b. no\n",
    "\n",
    "2. True / False `301` should include `Location` header.\n",
    "\n",
    "<details><summary>Answer key</summary>\n",
    "\n",
    "1. **b** – no payload.\n",
    "2. **True**.\n",
    "\n",
    "</details>"
   ]
  }
 ],
 "metadata": {},
 "nbformat": 4,
 "nbformat_minor": 5
}
