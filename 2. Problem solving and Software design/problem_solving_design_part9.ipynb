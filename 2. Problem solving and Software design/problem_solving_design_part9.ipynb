{
 "cells": [
  {
   "cell_type": "markdown",
   "id": "8e51f653",
   "metadata": {},
   "source": [
    "## 41. Balancing YAGNI vs. anticipatory design"
   ]
  },
  {
   "cell_type": "markdown",
   "id": "bdb3081f",
   "metadata": {},
   "source": [
    "**YAGNI (You Aren’t Gonna Need It)** warns against building features “just in case.”  \n",
    "**Anticipatory design** prepares hooks for plausible near‑future needs (extensible enums, plug‑in interfaces).\n",
    "\n",
    "How to balance:\n",
    "• Implement the simplest solution that meets *today’s* requirement.  \n",
    "• Design code **open for extension, closed for modification** (add new class, not edit old logic).  \n",
    "• Use refactoring + tests as insurance—you can evolve later instead of gold‑plating now."
   ]
  },
  {
   "cell_type": "markdown",
   "id": "a906cbf2",
   "metadata": {},
   "source": [
    "```text\n",
    "YAGNI violation: Add XML exporter when only JSON requested.\n",
    "Balanced: Design IExporter interface; implement JSON. Add XML later if needed.\n",
    "```"
   ]
  },
  {
   "cell_type": "markdown",
   "id": "e3219fd2",
   "metadata": {},
   "source": [
    "### Quick check\n",
    "\n",
    "1. True / False YAGNI suggests never creating abstractions.\n",
    "\n",
    "2. Anticipatory design focuses on:\n",
    "  a. future-proof hooks   b. delivering unused features now\n",
    "\n",
    "<details><summary>Answer key</summary>\n",
    "\n",
    "1. **False** – abstractions fine if they solve today’s need cleanly.\n",
    "2. **a**.\n",
    "\n",
    "</details>"
   ]
  },
  {
   "cell_type": "markdown",
   "id": "6b3a05a5",
   "metadata": {},
   "source": [
    "## 42. When and how to spike an experiment vs. build production code"
   ]
  },
  {
   "cell_type": "markdown",
   "id": "34c78c0e",
   "metadata": {},
   "source": [
    "A **spike** is a throw‑away proof‑of‑concept to answer an unknown: API viability, lib feasibility, performance.\n",
    "\n",
    "Rules:\n",
    "• Time‑box (e.g., 4 h) and set a learning goal.\n",
    "• **Do not** polish tests/docs—focus on learning.  \n",
    "• Afterwards decide: discard, or re‑implement cleanly for prod.\n",
    "\n",
    "Danger: spike‑and‑stabilise (turn PoC into prod) can leave hacks; prefer rewrite guided by spike learnings."
   ]
  },
  {
   "cell_type": "markdown",
   "id": "d3b8f518",
   "metadata": {},
   "source": [
    "```text\n",
    "Spike goal: Can we generate a 1M‑row Excel in <30 s with openpyxl?\n",
    "Steps: write quick script, profile; result 45 s → unacceptable. Decision: search alt libs.\n",
    "```"
   ]
  },
  {
   "cell_type": "markdown",
   "id": "7ea6844e",
   "metadata": {},
   "source": [
    "### Quick check\n",
    "\n",
    "1. Spikes should be merged into main branch?\n",
    "  a. yes   b. no\n",
    "\n",
    "2. True / False A spike’s code coverage matters less than its findings.\n",
    "\n",
    "<details><summary>Answer key</summary>\n",
    "\n",
    "1. **b** – usually kept separate/discarded.\n",
    "2. **True**.\n",
    "\n",
    "</details>"
   ]
  },
  {
   "cell_type": "markdown",
   "id": "f1264d07",
   "metadata": {},
   "source": [
    "## 43. Estimating effort with story points or T‑shirt sizes"
   ]
  },
  {
   "cell_type": "markdown",
   "id": "243b6b47",
   "metadata": {},
   "source": [
    "Relative estimates express **complexity + uncertainty** rather than hours.  Two scales:\n",
    "• **Story points** – Fibonacci (1,2,3,5,8…).  \n",
    "• **T‑shirt sizes** – XS,S,M,L,XL.\n",
    "\n",
    "Benefits: embraces unknowns, avoids false precision. Team velocity calibrates points to calendar over time."
   ]
  },
  {
   "cell_type": "markdown",
   "id": "6f51afdd",
   "metadata": {},
   "source": [
    "```text\n",
    "Task: add OAuth login\n",
    "Discussion factors: new lib, security review, UI tweaks → 8 points (L).\n",
    "```"
   ]
  },
  {
   "cell_type": "markdown",
   "id": "3cdc8f1f",
   "metadata": {},
   "source": [
    "### Quick check\n",
    "\n",
    "1. True / False Points convert directly to hours at planning.\n",
    "\n",
    "2. T‑shirt sizing is useful when:\n",
    "  a. new team lacks velocity data   b. CFO asks for exact dates\n",
    "\n",
    "<details><summary>Answer key</summary>\n",
    "\n",
    "1. **False** – they’re relative.\n",
    "2. **a**.\n",
    "\n",
    "</details>"
   ]
  },
  {
   "cell_type": "markdown",
   "id": "420dc6ae",
   "metadata": {},
   "source": [
    "## 44. Code review etiquette: small diffs, rationale comments, blocking issues"
   ]
  },
  {
   "cell_type": "markdown",
   "id": "58e97fbe",
   "metadata": {},
   "source": [
    "Effective reviews focus on **code quality & knowledge sharing**, not personal critique.\n",
    "\n",
    "Best practices:\n",
    "• Keep PRs < 400 lines; easier to review thoroughly.  \n",
    "• Explain *why* along with *what* in comments.  \n",
    "• Separate nitpicks (style) from blocking issues (logic bug).\n",
    "• Reviewer responsibilities: be timely, ask clarifying Qs, suggest diff‑link to docs.\n",
    "• Author responsibilities: respond courteously, update PR description after force‑push."
   ]
  },
  {
   "cell_type": "markdown",
   "id": "843aec88",
   "metadata": {},
   "source": [
    "```text\n",
    "Bad comment: \"This is wrong.\"\n",
    "Better: \"This loop risks O(n²); could we use dict lookup like in foo.py?\"\n",
    "```"
   ]
  },
  {
   "cell_type": "markdown",
   "id": "538774ac",
   "metadata": {},
   "source": [
    "### Quick check\n",
    "\n",
    "1. Ideal PR size encourages:\n",
    "  a. shallow review   b. thorough review\n",
    "\n",
    "2. True / False Force‑push without mention is OK if tests stay green.\n",
    "\n",
    "<details><summary>Answer key</summary>\n",
    "\n",
    "1. **b**.\n",
    "2. **False** – communicate force‑push.\n",
    "\n",
    "</details>"
   ]
  },
  {
   "cell_type": "markdown",
   "id": "649e62da",
   "metadata": {},
   "source": [
    "## 45. Continuous integration as design feedback loop"
   ]
  },
  {
   "cell_type": "markdown",
   "id": "0c7536a1",
   "metadata": {},
   "source": [
    "CI runs automated tests, linters, builds on every push.  **Fast feedback** (<10 min) turns integration pain into steady progress.\n",
    "\n",
    "CI as design tool:\n",
    "• Forces modularity – code hard to test fails CI.\n",
    "• Encourages small commits – big commits break more tests.  \n",
    "• Surfaces flaky dependencies early.\n",
    "\n",
    "Good CI includes static type checks, security scanning, and artifacts (Docker image)."
   ]
  },
  {
   "cell_type": "markdown",
   "id": "db46faf3",
   "metadata": {},
   "source": [
    "```yaml\n",
    "name: python-ci\n",
    "on: [push]\n",
    "jobs:\n",
    "  test:\n",
    "    runs-on: ubuntu-latest\n",
    "    steps:\n",
    "      - uses: actions/checkout@v4\n",
    "      - uses: actions/setup-python@v5\n",
    "      - run: pip install -r req.txt\n",
    "      - run: pytest -q\n",
    "```"
   ]
  },
  {
   "cell_type": "markdown",
   "id": "3df61808",
   "metadata": {},
   "source": [
    "### Quick check\n",
    "\n",
    "1. CI feedback >30 min leads to:\n",
    "  a. slow iteration   b. faster iteration\n",
    "\n",
    "2. True / False CI replaces need for code review.\n",
    "\n",
    "<details><summary>Answer key</summary>\n",
    "\n",
    "1. **a**.\n",
    "2. **False**.\n",
    "\n",
    "</details>"
   ]
  }
 ],
 "metadata": {},
 "nbformat": 4,
 "nbformat_minor": 5
}
