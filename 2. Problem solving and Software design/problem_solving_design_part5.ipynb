{
 "cells": [
  {
   "cell_type": "markdown",
   "id": "95e6b2dd",
   "metadata": {},
   "source": [
    "## 21. Dependency direction & inversion (passing in a collaborator)"
   ]
  },
  {
   "cell_type": "markdown",
   "id": "e80dbfc5",
   "metadata": {},
   "source": [
    "High‑level components shouldn’t depend on low‑level concrete details. Instead, both depend on **abstractions** (a principle known as *Dependency Inversion*).  \n",
    "\n",
    "Practical recipe in Python:\n",
    "1. Define a small interface (protocol / ABC) describing what you need.  \n",
    "2. Pass an implementation to your class/function via constructor or argument.  \n",
    "\n",
    "Benefits:\n",
    "• Swap implementations (e.g., real DB ↔ in‑memory fake) without code changes.  \n",
    "• Breaks import cycles, lowering coupling.  \n",
    "• Tests inject stubs/mocks easily.\n",
    "\n",
    "Common gotcha → service classes that *new‑up* their own dependencies inside `__init__`, making them hard to fake during tests."
   ]
  },
  {
   "cell_type": "markdown",
   "id": "3885be34",
   "metadata": {},
   "source": [
    "```python\n",
    "class INotifier:\n",
    "    def send(self, msg: str) -> None: ...\n",
    "\n",
    "class EmailNotifier(INotifier):\n",
    "    def send(self, msg):\n",
    "        print(f'Email: {msg}')\n",
    "\n",
    "class SignupService:\n",
    "    def __init__(self, notifier: INotifier):\n",
    "        self.notifier = notifier  # injected dependency\n",
    "    def signup(self, user):\n",
    "        # save user ...\n",
    "        self.notifier.send('welcome')\n",
    "\n",
    "SignupService(EmailNotifier()).signup('alice')\n",
    "```"
   ]
  },
  {
   "cell_type": "markdown",
   "id": "403db492",
   "metadata": {},
   "source": [
    "### Quick check\n",
    "\n",
    "1. True / False Creating `EmailNotifier()` *inside* `SignupService` aids testability.\n",
    "\n",
    "2. A key benefit of dependency inversion is:\n",
    "  a. Faster execution   b. Swappable implementations\n",
    "\n",
    "<details><summary>Answer key</summary>\n",
    "\n",
    "1. **False** — hard‑codes concrete class, blocking injection.\n",
    "2. **b**.\n",
    "\n",
    "</details>"
   ]
  },
  {
   "cell_type": "markdown",
   "id": "91d38a13",
   "metadata": {},
   "source": [
    "## 22. Interfaces / protocols for swappable components"
   ]
  },
  {
   "cell_type": "markdown",
   "id": "62cbccaf",
   "metadata": {},
   "source": [
    "An **interface** captures a *behavior contract* without tying you to a concrete type.  \n",
    "In Python ≥3.8, use `typing.Protocol` for lightweight structural interfaces (duck typing).  \n",
    "\n",
    "Why:\n",
    "• Enables static checking (`mypy`) that replacements actually fit.  \n",
    "• Documents expectations for future maintainers.  \n",
    "• Power pattern for plugin systems.\n",
    "\n",
    "Gotcha: wide ‘God’ interfaces—keep only the methods truly required by callers."
   ]
  },
  {
   "cell_type": "markdown",
   "id": "49f56ea7",
   "metadata": {},
   "source": [
    "```python\n",
    "from typing import Protocol\n",
    "\n",
    "class Storage(Protocol):\n",
    "    def put(self, key: str, data: bytes) -> None: ...\n",
    "    def get(self, key: str) -> bytes | None: ...\n",
    "\n",
    "class MemoryStorage(dict):\n",
    "    def put(self, k, d): self[k] = d\n",
    "    def get(self, k):    return self.get(k)\n",
    "\n",
    "def cache_avatar(storage: Storage, user_id: str, img: bytes):\n",
    "    storage.put(user_id, img)\n",
    "\n",
    "cache_avatar(MemoryStorage(), '42', b'raw')\n",
    "```"
   ]
  },
  {
   "cell_type": "markdown",
   "id": "4ea2b9d8",
   "metadata": {},
   "source": [
    "### Quick check\n",
    "\n",
    "1. `Protocol` checks happen:\n",
    "  a. at runtime   b. during static analysis\n",
    "\n",
    "2. True / False A concrete class must explicitly subclass `Protocol` to conform.\n",
    "\n",
    "<details><summary>Answer key</summary>\n",
    "\n",
    "1. **b** — via tools like mypy/pyright.\n",
    "2. **False** — structural conformity suffices.\n",
    "\n",
    "</details>"
   ]
  },
  {
   "cell_type": "markdown",
   "id": "8c6e3c83",
   "metadata": {},
   "source": [
    "## 23. Basic refactor moves: extract function, inline variable, rename symbol"
   ]
  },
  {
   "cell_type": "markdown",
   "id": "890716c9",
   "metadata": {},
   "source": [
    "Refactoring = **changing code structure without changing behavior**.  Three low‑risk moves:\n",
    "• **Extract Function** – break a long block into a named function; improves reuse & readability.  \n",
    "• **Inline Variable** – remove needless temp vars that add no meaning.  \n",
    "• **Rename Symbol** – choose clearer names, guided by tests & IDE rename‑all tools.\n",
    "\n",
    "Always run tests before & after to ensure behaviour unchanged."
   ]
  },
  {
   "cell_type": "markdown",
   "id": "2d124ea5",
   "metadata": {},
   "source": [
    "```python\n",
    "# before\n",
    "tax = price * 0.07\n",
    "total = price + tax\n",
    "\n",
    "# inline variable\n",
    "total = price * 1.07\n",
    "\n",
    "# extract function\n",
    "def price_with_tax(p):\n",
    "    return p * 1.07\n",
    "total = price_with_tax(price)\n",
    "```"
   ]
  },
  {
   "cell_type": "markdown",
   "id": "9cdae76f",
   "metadata": {},
   "source": [
    "### Quick check\n",
    "\n",
    "1. True / False Refactoring should be done only when adding new features.\n",
    "\n",
    "2. Which refactor risks changing external API?\n",
    "  a. rename internal var   b. extract private helper\n",
    "\n",
    "<details><summary>Answer key</summary>\n",
    "\n",
    "1. **False** — can be purely cleanup.\n",
    "2. **a** if the variable is part of public interface.\n",
    "\n",
    "</details>"
   ]
  },
  {
   "cell_type": "markdown",
   "id": "5fdf07a4",
   "metadata": {},
   "source": [
    "## 24. Writing *pure functions* and isolating side‑effects"
   ]
  },
  {
   "cell_type": "markdown",
   "id": "4f8840e2",
   "metadata": {},
   "source": [
    "A **pure function**: output depends *only* on inputs; no external state mutated, no I/O.  \n",
    "Side‑effects (logs, DB writes) should live at the edges of the system.  Benefits:\n",
    "• Easy unit tests — pass inputs, assert output.  \n",
    "• Naturally thread‑safe and cache‑friendly.\n",
    "\n",
    "Strategy: keep core logic pure, wrap with thin impure adapter layer."
   ]
  },
  {
   "cell_type": "markdown",
   "id": "33256d9e",
   "metadata": {},
   "source": [
    "```python\n",
    "def pure_discount(price: float, pct: float) -> float:\n",
    "    return price * (1 - pct)\n",
    "\n",
    "def apply_discount_and_log(price, pct, logger):\n",
    "    new_price = pure_discount(price, pct)   # pure core\n",
    "    logger.info('discount applied')         # side‑effect at boundary\n",
    "    return new_price\n",
    "```"
   ]
  },
  {
   "cell_type": "markdown",
   "id": "ed9cee87",
   "metadata": {},
   "source": [
    "### Quick check\n",
    "\n",
    "1. Pure functions help with:\n",
    "  a. deterministic tests  b. file DB writes\n",
    "\n",
    "2. True / False Random number generation keeps a function pure.\n",
    "\n",
    "<details><summary>Answer key</summary>\n",
    "\n",
    "1. **a**.\n",
    "2. **False** — randomness makes output non‑deterministic.\n",
    "\n",
    "</details>"
   ]
  },
  {
   "cell_type": "markdown",
   "id": "ec83a1ff",
   "metadata": {},
   "source": [
    "## 25. Memoisation & caching as performance straps"
   ]
  },
  {
   "cell_type": "markdown",
   "id": "a52f83dd",
   "metadata": {},
   "source": [
    "If a pure (or effectively pure) function is **expensive** and called repeatedly with the same inputs, store previously computed results → instant lookup.  Python ships `functools.lru_cache`.\n",
    "\n",
    "Be mindful of:\n",
    "• Cache key = function args; mutable/unhashable args need transformation.  \n",
    "• Eviction policy and memory footprint.\n",
    "• Stale data for non‑pure functions."
   ]
  },
  {
   "cell_type": "markdown",
   "id": "b427e034",
   "metadata": {},
   "source": [
    "```python\n",
    "from functools import lru_cache\n",
    "import math, time\n",
    "\n",
    "@lru_cache(maxsize=128)\n",
    "def slow_sin(x):\n",
    "    time.sleep(0.1)\n",
    "    return math.sin(x)\n",
    "\n",
    "for _ in range(2):\n",
    "    start=time.perf_counter(); slow_sin(1.23); print(time.perf_counter()-start)\n",
    "```"
   ]
  },
  {
   "cell_type": "markdown",
   "id": "d5f9de6d",
   "metadata": {},
   "source": [
    "### Quick check\n",
    "\n",
    "1. `lru_cache` identifies results using:\n",
    "  a. object identity  b. function arguments value\n",
    "\n",
    "2. True / False Caching impure functions can yield inconsistent behaviour.\n",
    "\n",
    "<details><summary>Answer key</summary>\n",
    "\n",
    "1. **b** — args must be hashable.\n",
    "2. **True**.\n",
    "\n",
    "</details>"
   ]
  }
 ],
 "metadata": {
  "kernelspec": {
   "display_name": "Python 3 (ipykernel)",
   "language": "python",
   "name": "python3"
  },
  "language_info": {
   "codemirror_mode": {
    "name": "ipython",
    "version": 3
   },
   "file_extension": ".py",
   "mimetype": "text/x-python",
   "name": "python",
   "nbconvert_exporter": "python",
   "pygments_lexer": "ipython3",
   "version": "3.13.3"
  }
 },
 "nbformat": 4,
 "nbformat_minor": 5
}
