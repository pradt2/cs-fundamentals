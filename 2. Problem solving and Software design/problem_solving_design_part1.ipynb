{
 "cells": [
  {
   "cell_type": "markdown",
   "id": "bf4a0a6f",
   "metadata": {},
   "source": [
    "## 1. From requirement to *user story*"
   ]
  },
  {
   "cell_type": "markdown",
   "id": "7ce855e2",
   "metadata": {},
   "source": [
    "Raw requirements often arrive as vague conversations: *“We need a report for finance.”*  A **user story** reframes that nebulous ask into a concise, testable sentence using the template: **As a `<role>`, I want `<feature>` so that `<benefit>`.**\n",
    "\n",
    "Why bother?\n",
    "- Forces you to **name the beneficiary** (user or system actor).\n",
    "- Narrows scope to a single *behavior* rather than a bundle of hidden tasks.\n",
    "- Provides a built‑in acceptance test: if the named role can’t gain the stated benefit, the story isn’t done.\n",
    "\n",
    "Common gotcha → jumping straight to UI details (*“Add a green button”*) before clarifying the underlying goal.  Button color is design; the story is about *capability*."
   ]
  },
  {
   "cell_type": "markdown",
   "id": "cbac63fc",
   "metadata": {},
   "source": [
    "```text\n",
    "Conversation fragment:\n",
    "    CFO: \"Our auditors need proof that every invoice was sent to the client.\"\n",
    "\n",
    "Bad story:\n",
    "    \"Add an export button to download all invoices as PDF.\"\n",
    "\n",
    "Better story:\n",
    "    As a *finance auditor*, I want to *receive a consolidated PDF bundle of all monthly invoices* so that *I can verify delivery compliance during audits*.\n",
    "```"
   ]
  },
  {
   "cell_type": "markdown",
   "id": "3cbfce03",
   "metadata": {},
   "source": [
    "### Quick check\n",
    "\n",
    "1. True / False A user story must specify **how** the feature will be implemented.\n",
    "\n",
    "2. Which element is **missing** in the bad story above?\n",
    "  a. Role   b. Benefit   c. Feature\n",
    "\n",
    "<details><summary>Answer key</summary>\n",
    "\n",
    "1. **False** — implementation details live elsewhere (tasks, design docs).\n",
    "2. **b** — it lacks the explicit benefit/why.\n",
    "\n",
    "</details>"
   ]
  },
  {
   "cell_type": "markdown",
   "id": "597cbac0",
   "metadata": {},
   "source": [
    "## 2. Writing a *problem statement* & defining success criteria"
   ]
  },
  {
   "cell_type": "markdown",
   "id": "9834973d",
   "metadata": {},
   "source": [
    "A problem statement captures the gap between current state and desired outcome in one paragraph.  It should include **context**, **pain**, and **impact**.  After that, you list **success criteria**—measurable conditions that prove the gap is closed.\n",
    "\n",
    "Benefits:\n",
    "* Aligns team on *what “done” means* before any code.\n",
    "* Gives QA and stakeholders an objective checklist.\n",
    "\n",
    "Gotcha: statements that embed the presumed solution (\"We need Kubernetes\"), which blurs problem vs. implementation."
   ]
  },
  {
   "cell_type": "markdown",
   "id": "ba22e953",
   "metadata": {},
   "source": [
    "```text\n",
    "Problem statement\n",
    "-----------------\n",
    "Right now customer support reps must open each ticket individually to see if the client has an active subscription plan.  This manual lookup takes ~30 seconds per ticket and creates frustration for callers who must wait on hold.\n",
    "\n",
    "Success criteria\n",
    "----------------\n",
    "- The agent can see subscription status < 2 s after ticket open.\n",
    "- Hold time attributable to plan lookups drops by 80 % within one month.\n",
    "- Feature works for ≥ 95 % of tickets in the staging data set.\n",
    "```"
   ]
  },
  {
   "cell_type": "markdown",
   "id": "a241e210",
   "metadata": {},
   "source": [
    "### Quick check\n",
    "\n",
    "1. Which of these is a **success criterion**, not part of the problem statement?\n",
    "  a. \"Agents wait 30 s per lookup\"  b. \"Lookup time under 2 s\"\n",
    "\n",
    "2. True / False Including numeric targets in success criteria makes them less useful because they may be hard to hit.\n",
    "\n",
    "<details><summary>Answer key</summary>\n",
    "\n",
    "1. **b** — it states the desired measurable future.\n",
    "2. **False** — numeric targets create clarity and testability.\n",
    "\n",
    "</details>"
   ]
  },
  {
   "cell_type": "markdown",
   "id": "b14fcea4",
   "metadata": {},
   "source": [
    "## 3. Input → Processing → Output (IPO) frame"
   ]
  },
  {
   "cell_type": "markdown",
   "id": "dba79dda",
   "metadata": {},
   "source": [
    "A classic way to reason about any program: break it into three buckets:\n",
    "1. **Input** — data from users, files, APIs.\n",
    "2. **Processing** — pure computations or transformations.\n",
    "3. **Output** — what the system produces: files, DB rows, UI, network calls.\n",
    "\n",
    "Why it matters:\n",
    "* Keeps you from mixing side‑effects with logic, which simplifies testing.\n",
    "* Helps spot missing pieces (e.g., we planned output but no input path).\n",
    "* Encourages *pure* functions in the processing step—easier to cache & parallelize."
   ]
  },
  {
   "cell_type": "markdown",
   "id": "b0e6d61b",
   "metadata": {},
   "source": [
    "```python\n",
    "# Mini IPO example: Celsius→Fahrenheit batch converter\n",
    "def read_inputs(path):                # Input\n",
    "    with open(path) as f:\n",
    "        return [float(line) for line in f]\n",
    "\n",
    "def c_to_f(c):                        # Processing (pure)\n",
    "    return c * 9/5 + 32\n",
    "\n",
    "def write_outputs(values, path):      # Output\n",
    "    with open(path, 'w') as f:\n",
    "        for v in values:\n",
    "            f.write(f\"{v:.1f}\\n\")\n",
    "\n",
    "temps_c = read_inputs('celsius.txt')\n",
    "temps_f = [c_to_f(t) for t in temps_c]\n",
    "write_outputs(temps_f, 'fahrenheit.txt')\n",
    "```"
   ]
  },
  {
   "cell_type": "markdown",
   "id": "d5e364f8",
   "metadata": {},
   "source": [
    "### Quick check\n",
    "\n",
    "1. Which part of the IPO example is **easiest to unit‑test** in isolation?\n",
    "\n",
    "2. True / False Combining reading, converting, and writing in one big function makes caching the conversion results easier.\n",
    "\n",
    "<details><summary>Answer key</summary>\n",
    "\n",
    "1. The *processing* function `c_to_f`—pure, deterministic, no I/O.\n",
    "2. **False** — side‑effects tie the function to I/O, hindering reuse and caching.\n",
    "\n",
    "</details>"
   ]
  },
  {
   "cell_type": "markdown",
   "id": "e194d60d",
   "metadata": {},
   "source": [
    "## 4. Tracing with paper & pencil (desk‑checking)"
   ]
  },
  {
   "cell_type": "markdown",
   "id": "fdd01860",
   "metadata": {},
   "source": [
    "Before running code, step through it manually on a small data set.  This old‑school habit uncovers off‑by‑one errors, wrong initialisations, and reveals whether you truly understand the algorithm.\n",
    "\n",
    "Technique:\n",
    "1. Draw columns for each variable.\n",
    "2. Write initial values.\n",
    "3. For every line of code, update the table.\n",
    "\n",
    "Gotcha: skipping branch conditions—always mark whether the ‘if’ was taken or not."
   ]
  },
  {
   "cell_type": "markdown",
   "id": "6e0c397a",
   "metadata": {},
   "source": [
    "```text\n",
    "Code:\n",
    "    total = 0\n",
    "    for n in [1, 2, 3]:\n",
    "        total += n\n",
    "\n",
    "Trace table:\n",
    "+-------+-------+\n",
    "|  n    | total |\n",
    "+-------+-------+\n",
    "| start |   0   |\n",
    "|   1   |   1   |\n",
    "|   2   |   3   |\n",
    "|   3   |   6   |\n",
    "+-------+-------+\n",
    "```"
   ]
  },
  {
   "cell_type": "markdown",
   "id": "22b2ef48",
   "metadata": {},
   "source": [
    "### Quick check\n",
    "\n",
    "1. True / False Desk‑checking is obsolete because modern debuggers show variable state.\n",
    "\n",
    "2. The trace table helps spot:\n",
    "  a. Typo in print formatting  b. Off‑by‑one summation error\n",
    "\n",
    "<details><summary>Answer key</summary>\n",
    "\n",
    "1. **False** — quick pencil tracing is faster than firing up a debugger for tiny snippets.\n",
    "2. **b** — step‑by‑step totals reveal indexing/count errors.\n",
    "\n",
    "</details>"
   ]
  },
  {
   "cell_type": "markdown",
   "id": "97e97727",
   "metadata": {},
   "source": [
    "## 5. Identifying nouns → verbs → data vs. behaviour"
   ]
  },
  {
   "cell_type": "markdown",
   "id": "5859cd97",
   "metadata": {},
   "source": [
    "In early design discussions, underline **nouns** (candidate data objects) and **verbs** (candidate behaviours).  Nouns often map to classes or DB tables; verbs to methods or service calls.\n",
    "\n",
    "Example conversation: *“The **customer** uploads a **photo**, the system **scales** it and **stores** the thumbnail.”*\n",
    "- Nouns → *customer*, *photo*, *thumbnail*\n",
    "- Verbs → *upload*, *scale*, *store*\n",
    "\n",
    "Gotcha: sometimes a verb becomes a noun (*upload* queue) or vice versa, so iterate."
   ]
  },
  {
   "cell_type": "markdown",
   "id": "35470bce",
   "metadata": {},
   "source": [
    "```python\n",
    "class Photo:\n",
    "    def __init__(self, original_bytes):\n",
    "        self.original = original_bytes\n",
    "        self.thumbnail = None\n",
    "\n",
    "    def scale(self):\n",
    "        # behaviour attached to data\n",
    "        self.thumbnail = self.original[:10]  # fake resize\n",
    "```"
   ]
  },
  {
   "cell_type": "markdown",
   "id": "8dca2e00",
   "metadata": {},
   "source": [
    "### Quick check\n",
    "\n",
    "1. Turning every noun into a class risks:\n",
    "  a. anemic domain model  b. class explosion\n",
    "\n",
    "2. True / False Methods that don’t use `self` should probably live outside the class.\n",
    "\n",
    "<details><summary>Answer key</summary>\n",
    "\n",
    "1. **b** — too many tiny classes increase complexity.\n",
    "2. **True** — they’re utility functions, better as module‑level helpers.\n",
    "\n",
    "</details>"
   ]
  }
 ],
 "metadata": {
  "kernelspec": {
   "display_name": "Python 3 (ipykernel)",
   "language": "python",
   "name": "python3"
  },
  "language_info": {
   "codemirror_mode": {
    "name": "ipython",
    "version": 3
   },
   "file_extension": ".py",
   "mimetype": "text/x-python",
   "name": "python",
   "nbconvert_exporter": "python",
   "pygments_lexer": "ipython3",
   "version": "3.13.3"
  }
 },
 "nbformat": 4,
 "nbformat_minor": 5
}
