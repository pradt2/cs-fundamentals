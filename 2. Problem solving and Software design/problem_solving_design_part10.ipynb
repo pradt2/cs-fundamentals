{
 "cells": [
  {
   "cell_type": "markdown",
   "id": "7a3ae626",
   "metadata": {},
   "source": [
    "## 46. Technical debt trade‑offs & when to pay it down"
   ]
  },
  {
   "cell_type": "markdown",
   "id": "3c388b40",
   "metadata": {},
   "source": [
    "**Technical debt** is the gap between the quick solution you shipped and the cleaner design you skipped.\n",
    "\n",
    "*Good debt*: conscious, documented shortcut with a pay‑back plan (e.g., TODO #123 fix SQL injection).\n",
    "*Bad debt*: unknown hacks that rot silently.\n",
    "\n",
    "**Decision factors** for paying debt:\n",
    "1. **Interest rate** – How fast does it slow dev speed?  \n",
    "2. **Compound effect** – Does it block new features?  \n",
    "3. **Risk** – Security, data loss.\n",
    "\n",
    "Rule: budget regular “debt sprints” or fold fixes into each story’s definition of done."
   ]
  },
  {
   "cell_type": "markdown",
   "id": "aa51ccef",
   "metadata": {},
   "source": [
    "```text\n",
    "Shortcut: use plain string concatenation for SQL query.\n",
    "Risk: SQL injection. Interest: need custom escaping every new query.\n",
    "Plan: migrate to parameterised queries next sprint (ticket DEV‑98).\n",
    "```"
   ]
  },
  {
   "cell_type": "markdown",
   "id": "68eecf3a",
   "metadata": {},
   "source": [
    "### Quick check\n",
    "\n",
    "1. True / False All technical debt must be paid immediately.\n",
    "\n",
    "2. Debt “interest” refers to:\n",
    "  a. cost of leaving debt   b. money owed to finance\n",
    "\n",
    "<details><summary>Answer key</summary>\n",
    "\n",
    "1. **False** – weigh cost vs. benefit.\n",
    "2. **a**.\n",
    "\n",
    "</details>"
   ]
  },
  {
   "cell_type": "markdown",
   "id": "2109f8b3",
   "metadata": {},
   "source": [
    "## 47. Designing for observability: structured logs, metrics, traces"
   ]
  },
  {
   "cell_type": "markdown",
   "id": "b23bebbb",
   "metadata": {},
   "source": [
    "Observable systems expose **what** they’re doing and **why**.\n",
    "\n",
    "* **Structured logs** – JSON/ key‑value pairs → easy search.  \n",
    "* **Metrics** – numeric time‑series (latency, QPS).  \n",
    "* **Distributed traces** – end‑to‑end request graph.\n",
    "\n",
    "Design tips:\n",
    "• Include correlation IDs across services.  \n",
    "• Emit RED metrics (Rate, Errors, Duration).  \n",
    "• Log at decision points (retry, fallback) with context."
   ]
  },
  {
   "cell_type": "markdown",
   "id": "fa58cee2",
   "metadata": {},
   "source": [
    "```python\n",
    "import json, uuid, time, logging\n",
    "req_id = str(uuid.uuid4())\n",
    "start = time.time()\n",
    "try:\n",
    "    result = do_work()\n",
    "    logging.info(json.dumps({'req': req_id, 'status':'ok', 'ms': int(1000*(time.time()-start))}))\n",
    "except Exception as e:\n",
    "    logging.error(json.dumps({'req': req_id, 'error': str(e)}))\n",
    "```"
   ]
  },
  {
   "cell_type": "markdown",
   "id": "37ca8def",
   "metadata": {},
   "source": [
    "### Quick check\n",
    "\n",
    "1. Which tells you *duration* of a request chain?\n",
    "  a. metric   b. trace\n",
    "\n",
    "2. True / False Free‑text logs are easier to query than structured logs.\n",
    "\n",
    "<details><summary>Answer key</summary>\n",
    "\n",
    "1. **b**.\n",
    "2. **False** – structured logs are machine‑friendly.\n",
    "\n",
    "</details>"
   ]
  },
  {
   "cell_type": "markdown",
   "id": "88931b19",
   "metadata": {},
   "source": [
    "## 48. Graceful degradation & fallback strategies"
   ]
  },
  {
   "cell_type": "markdown",
   "id": "73ee33f0",
   "metadata": {},
   "source": [
    "When parts of your system fail, aim for **degraded but functional** user experience.\n",
    "\n",
    "Patterns:\n",
    "• **Timeout + cached data** if live call slow.  \n",
    "• **Circuit breaker** to stop hammering failing dependency.  \n",
    "• **Feature flags** to disable non‑critical widgets.\n",
    "Always surface clear but polite error messages."
   ]
  },
  {
   "cell_type": "markdown",
   "id": "741462a3",
   "metadata": {},
   "source": [
    "```python\n",
    "def get_exchange_rate():\n",
    "    try:\n",
    "        return live_rate_service.fetch()\n",
    "    except TimeoutError:\n",
    "        return stale_rate_cache.get()  # fallback\n",
    "```"
   ]
  },
  {
   "cell_type": "markdown",
   "id": "f26a1720",
   "metadata": {},
   "source": [
    "### Quick check\n",
    "\n",
    "1. Circuit breaker trips after:\n",
    "  a. success   b. repeated failures\n",
    "\n",
    "2. True / False Graceful degradation is less important in internal tools.\n",
    "\n",
    "<details><summary>Answer key</summary>\n",
    "\n",
    "1. **b**.\n",
    "2. **False** – operators are users too.\n",
    "\n",
    "</details>"
   ]
  },
  {
   "cell_type": "markdown",
   "id": "875e267e",
   "metadata": {},
   "source": [
    "## 49. Security‑first thinking: threat modelling lite"
   ]
  },
  {
   "cell_type": "markdown",
   "id": "977e88b6",
   "metadata": {},
   "source": [
    "Before coding, ask: **What could go wrong?**  Steps:\n",
    "1. Draw data flow diagram.  \n",
    "2. Identify trust boundaries (internet ↔ backend).  \n",
    "3. Apply STRIDE mnemonic (Spoofing, Tampering, Repudiation, Information disclosure, Denial, Elevation).\n",
    "\n",
    "Mitigations then map to code (auth, validation, encryption)."
   ]
  },
  {
   "cell_type": "markdown",
   "id": "98708329",
   "metadata": {},
   "source": [
    "```text\n",
    "Web form → API → DB\n",
    "Threat: Tampering – user modifies price field.\n",
    "Mitigation: server‑side price lookup; ignore client value.\n",
    "```"
   ]
  },
  {
   "cell_type": "markdown",
   "id": "9ebe5e79",
   "metadata": {},
   "source": [
    "### Quick check\n",
    "\n",
    "1. STRIDE letter for data leak:\n",
    "  a. I   b. D\n",
    "\n",
    "2. True / False Client‑side validation alone prevents tampering.\n",
    "\n",
    "<details><summary>Answer key</summary>\n",
    "\n",
    "1. **a** – Information disclosure.\n",
    "2. **False** – must validate server‑side.\n",
    "\n",
    "</details>"
   ]
  },
  {
   "cell_type": "markdown",
   "id": "e23b5240",
   "metadata": {},
   "source": [
    "## 50. Designing for scalability: horizontal vs. vertical, stateless vs. sticky"
   ]
  },
  {
   "cell_type": "markdown",
   "id": "0b8ed62e",
   "metadata": {},
   "source": [
    "* **Vertical scaling**: bigger box; simple but limits.  \n",
    "* **Horizontal scaling**: more boxes; needs load balancer.\n",
    "\n",
    "Design services to be **stateless** so any instance can handle any request → easy horizontal scale.  \n",
    "Avoid *sticky* sessions storing user state in memory; use shared DB/cache instead."
   ]
  },
  {
   "cell_type": "markdown",
   "id": "fecca5de",
   "metadata": {},
   "source": [
    "```text\n",
    "Stateless web → AWS ALB distributes users; session stored in Redis.\n",
    "Vertical scale fallback: temporarily raise CPU/RAM until traffic subsides.\n",
    "```"
   ]
  },
  {
   "cell_type": "markdown",
   "id": "00b461e6",
   "metadata": {},
   "source": [
    "### Quick check\n",
    "\n",
    "1. Adding CPUs to same server is:\n",
    "  a. vertical   b. horizontal\n",
    "\n",
    "2. True / False Stateless design simplifies auto‑scaling.\n",
    "\n",
    "<details><summary>Answer key</summary>\n",
    "\n",
    "1. **a**.\n",
    "2. **True**.\n",
    "\n",
    "</details>"
   ]
  }
 ],
 "metadata": {},
 "nbformat": 4,
 "nbformat_minor": 5
}
