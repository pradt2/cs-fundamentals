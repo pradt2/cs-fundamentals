{
 "cells": [
  {
   "cell_type": "markdown",
   "id": "442b7ff3",
   "metadata": {},
   "source": [
    "## 26. When to add logging and how much"
   ]
  },
  {
   "cell_type": "markdown",
   "id": "8b181a92",
   "metadata": {},
   "source": [
    "Logging is your runtime **black box recorder**—it answers *“What was the system doing right before things went wrong?”*  \n",
    "\n",
    "Guidelines:\n",
    "* **INFO**: high‑level application events (user login, job started/finished).\n",
    "* **DEBUG**: developer details (SQL queries, loop counters) – verbose, disabled in prod.\n",
    "* **WARNING/ERROR**: unexpected conditions that deserve attention.\n",
    "\n",
    "Common pitfalls:\n",
    "• Oversharing at INFO level → log noise hides real issues.\n",
    "• Forgetting context – include IDs, user, request path for correlation."
   ]
  },
  {
   "cell_type": "markdown",
   "id": "087215d7",
   "metadata": {},
   "source": [
    "```python\n",
    "import logging\n",
    "logging.basicConfig(level=logging.INFO, format='%(levelname)s:%(message)s')\n",
    "\n",
    "def process(order_id):\n",
    "    logging.info('start order %s', order_id)\n",
    "    # ... do work ...\n",
    "    logging.info('finish order %s', order_id)\n",
    "\n",
    "process('A12')\n",
    "```"
   ]
  },
  {
   "cell_type": "markdown",
   "id": "6405a664",
   "metadata": {},
   "source": [
    "### Quick check\n",
    "\n",
    "1. Which level is best for noisy loop diagnostics?\n",
    "  a. DEBUG   b. WARNING\n",
    "\n",
    "2. True / False Writing errors to `print()` is equivalent to proper logging.\n",
    "\n",
    "<details><summary>Answer key</summary>\n",
    "\n",
    "1. **a**.\n",
    "2. **False** – logging provides levels, timestamps, handlers.\n",
    "\n",
    "</details>"
   ]
  },
  {
   "cell_type": "markdown",
   "id": "97c03272",
   "metadata": {},
   "source": [
    "## 27. Designing with basic UML: class & sequence sketches"
   ]
  },
  {
   "cell_type": "markdown",
   "id": "800c8256",
   "metadata": {},
   "source": [
    "UML diagrams act as **visual shorthand**.  Two light flavours worth knowing:\n",
    "\n",
    "* **Class diagram** – boxes with class name, key attrs, and methods; arrows show is‑a or has‑a relationships.\n",
    "* **Sequence diagram** – vertical lifelines and horizontal messages; clarifies who calls whom and order of operations.\n",
    "\n",
    "Use a whiteboard version – no need for full tool suite.  The goal is *shared understanding*, not pixel‑perfect art."
   ]
  },
  {
   "cell_type": "markdown",
   "id": "655126a5",
   "metadata": {},
   "source": [
    "```text\n",
    "Class diagram sketch\n",
    "  +------------+      uses      +------------+\n",
    "  |  Checkout  |--------------->|  Payment   |\n",
    "  +------------+                +------------+\n",
    "  | - cart     |                | - gateway  |\n",
    "  | + pay()    |                | + charge() |\n",
    "  +------------+                +------------+\n",
    "\n",
    "Sequence (pay)\n",
    "Checkout -> Payment: charge()\n",
    "Payment  -> Gateway: HTTP POST\n",
    "Gateway  --> Payment: 201 OK\n",
    "Payment  --> Checkout: success\n",
    "```"
   ]
  },
  {
   "cell_type": "markdown",
   "id": "321174a4",
   "metadata": {},
   "source": [
    "### Quick check\n",
    "\n",
    "1. True / False A UML class arrow with a hollow triangle denotes inheritance.\n",
    "\n",
    "2. Sequence diagrams depict:\n",
    "  a. data schema   b. call order\n",
    "\n",
    "<details><summary>Answer key</summary>\n",
    "\n",
    "1. **True**.\n",
    "2. **b**.\n",
    "\n",
    "</details>"
   ]
  },
  {
   "cell_type": "markdown",
   "id": "15a7c04b",
   "metadata": {},
   "source": [
    "## 28. Simple design patterns “lite”: factory, adapter, strategy, decorator"
   ]
  },
  {
   "cell_type": "markdown",
   "id": "94993f57",
   "metadata": {},
   "source": [
    "* **Factory**: centralises object creation, hides concrete classes.\n",
    "* **Adapter**: wraps incompatible interface to match expected one.\n",
    "* **Strategy**: interchangeable algorithms behind common interface.\n",
    "* **Decorator**: adds behaviour around object without modifying original.\n",
    "\n",
    "Think of them as *vocabulary words* for common shapes, not rigid templates."
   ]
  },
  {
   "cell_type": "markdown",
   "id": "d2faf028",
   "metadata": {},
   "source": [
    "```python\n",
    "# Strategy example: different shipping cost algorithms\n",
    "class ShippingStrategy:\n",
    "    def cost(self, order): ...\n",
    "\n",
    "class FlatRate(ShippingStrategy):\n",
    "    def cost(self, _): return 5\n",
    "\n",
    "class ByWeight(ShippingStrategy):\n",
    "    def cost(self, order): return order.kg * 1.2\n",
    "\n",
    "def checkout(order, strategy: ShippingStrategy):\n",
    "    return order.total + strategy.cost(order)\n",
    "```"
   ]
  },
  {
   "cell_type": "markdown",
   "id": "120e46b6",
   "metadata": {},
   "source": [
    "### Quick check\n",
    "\n",
    "1. Decorator pattern is mainly for:\n",
    "  a. creation   b. augmentation\n",
    "\n",
    "2. True / False A factory eliminates the need for dependency inversion.\n",
    "\n",
    "<details><summary>Answer key</summary>\n",
    "\n",
    "1. **b**.\n",
    "2. **False** – factory complements but doesn’t replace inversion.\n",
    "\n",
    "</details>"
   ]
  },
  {
   "cell_type": "markdown",
   "id": "34ce7486",
   "metadata": {},
   "source": [
    "## 29. Layered architecture: UI → service → data access"
   ]
  },
  {
   "cell_type": "markdown",
   "id": "08c2383c",
   "metadata": {},
   "source": [
    "Classic 3‑layer stack:\n",
    "• **UI** – presentation, controllers, API endpoints.\n",
    "• **Service/domain** – business rules.\n",
    "• **Data access** – persistence, external systems.\n",
    "\n",
    "Each layer depends *only downward*.  Benefits: swap UI (web ↔ CLI) or storage (SQL ↔ in‑memory) without touching core logic."
   ]
  },
  {
   "cell_type": "markdown",
   "id": "b7737c05",
   "metadata": {},
   "source": [
    "```text\n",
    "Request -> Flask route (UI)\n",
    "        -> InvoiceService.generate() (service)\n",
    "        -> InvoiceRepo.save() (data access)\n",
    "```"
   ]
  },
  {
   "cell_type": "markdown",
   "id": "f12b160a",
   "metadata": {},
   "source": [
    "### Quick check\n",
    "\n",
    "1. True / False Data access layer may import UI layer utilities.\n",
    "\n",
    "2. Changing DB driver should affect primarily:\n",
    "  a. service layer   b. data layer\n",
    "\n",
    "<details><summary>Answer key</summary>\n",
    "\n",
    "1. **False** – violates downward dependency rule.\n",
    "2. **b**.\n",
    "\n",
    "</details>"
   ]
  },
  {
   "cell_type": "markdown",
   "id": "2f7f16ab",
   "metadata": {},
   "source": [
    "## 30. Hexagonal / ports‑and‑adapters view"
   ]
  },
  {
   "cell_type": "markdown",
   "id": "15974af8",
   "metadata": {},
   "source": [
    "Hexagonal architecture (a.k.a. Ports & Adapters) puts **domain logic at the core**.  External actors (UIs, databases, message brokers) interact through **ports** (interfaces) implemented by **adapters**.\n",
    "\n",
    "Advantages over straight layers:\n",
    "• Core is **framework‑agnostic** – easier to unit‑test and migrate tech.\n",
    "• Multiple adapters can plug into same core (REST, CLI, scheduler).\n",
    "\n",
    "Key idea: dependencies point *inward*; outer parts know core, core knows only ports."
   ]
  },
  {
   "cell_type": "markdown",
   "id": "1e953fe1",
   "metadata": {},
   "source": [
    "```text\n",
    "           +-------------+\n",
    "CLI ---->  |             |  <---- DB Adapter\n",
    "HTTP --->  |  DOMAIN     |  <---- Email Adapter\n",
    "           +-------------+\n",
    "```"
   ]
  },
  {
   "cell_type": "markdown",
   "id": "c1e367f3",
   "metadata": {},
   "source": [
    "### Quick check\n",
    "\n",
    "1. Ports reside in:\n",
    "  a. domain core   b. outer adapter\n",
    "\n",
    "2. True / False Hexagonal allows replacing REST API with gRPC without touching domain logic.\n",
    "\n",
    "<details><summary>Answer key</summary>\n",
    "\n",
    "1. **a** – interfaces live in core.\n",
    "2. **True**.\n",
    "\n",
    "</details>"
   ]
  }
 ],
 "metadata": {},
 "nbformat": 4,
 "nbformat_minor": 5
}
