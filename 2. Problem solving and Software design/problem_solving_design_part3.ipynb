{
 "cells": [
  {
   "cell_type": "markdown",
   "id": "48bb6379",
   "metadata": {},
   "source": [
    "## 11. Writing *happy‑path* tests before edge cases"
   ]
  },
  {
   "cell_type": "markdown",
   "id": "bd36011e",
   "metadata": {},
   "source": [
    "Start testing with the **simplest scenario that must always work**—the *happy path*.  \n",
    "Why first? It:\n",
    "• Confirms the function’s core contract.  \n",
    "• Gives instant feedback that the plumbing is connected.  \n",
    "• Provides a confidence baseline before handling rare inputs.\n",
    "\n",
    "After green on happy path, add **edge cases** (empty list, `None`, boundary numbers). Common gotcha → diving straight into exotic inputs and never shipping a basic feature."
   ]
  },
  {
   "cell_type": "markdown",
   "id": "af4b6ebe",
   "metadata": {},
   "source": [
    "```python\n",
    "def median(nums):\n",
    "    nums = sorted(nums)\n",
    "    mid = len(nums) // 2\n",
    "    return nums[mid]\n",
    "\n",
    "# happy‑path test (odd length)\n",
    "def test_median_happy():\n",
    "    assert median([3,1,2]) == 2\n",
    "\n",
    "# edge‑case test (even length) – to add next\n",
    "```"
   ]
  },
  {
   "cell_type": "markdown",
   "id": "ec334a64",
   "metadata": {},
   "source": [
    "### Quick check\n",
    "\n",
    "1. True / False Edge‑case tests should pass before merging code.\n",
    "\n",
    "2. The happy‑path of `median` for `[1,2,3]` expects result:\n",
    "  a. 2  b. 1.5\n",
    "\n",
    "<details><summary>Answer key</summary>\n",
    "\n",
    "1. **True** — but write them after happy path.\n",
    "2. **a**.\n",
    "\n",
    "</details>"
   ]
  },
  {
   "cell_type": "markdown",
   "id": "4e88eb14",
   "metadata": {},
   "source": [
    "## 12. Loop invariants & guard clauses"
   ]
  },
  {
   "cell_type": "markdown",
   "id": "8f5e04ab",
   "metadata": {},
   "source": [
    "A **loop invariant** is a condition that stays true before and after each iteration; reasoning about it proves correctness.  \n",
    "**Guard clauses** are early exits that keep functions shallow—fail fast if pre‑conditions aren’t met.\n",
    "\n",
    "Why care?\n",
    "• Invariants help avoid off‑by‑one errors.  \n",
    "• Guard clauses reduce nested `if` pyramids, boosting readability."
   ]
  },
  {
   "cell_type": "markdown",
   "id": "bd088420",
   "metadata": {},
   "source": [
    "```python\n",
    "def find_first_even(nums):\n",
    "    if not nums:               # guard clause\n",
    "        return None\n",
    "    for idx, n in enumerate(nums):\n",
    "        # Invariant: all elements before idx were odd\n",
    "        if n % 2 == 0:\n",
    "            return idx\n",
    "    return None\n",
    "```"
   ]
  },
  {
   "cell_type": "markdown",
   "id": "c622609a",
   "metadata": {},
   "source": [
    "### Quick check\n",
    "\n",
    "1. Which reduces nesting?\n",
    "  a. guard clause   b. extra `else` blocks\n",
    "\n",
    "2. True / False Loop invariants can be documented as comments to aid future maintainers.\n",
    "\n",
    "<details><summary>Answer key</summary>\n",
    "\n",
    "1. **a**.\n",
    "2. **True**.\n",
    "\n",
    "</details>"
   ]
  },
  {
   "cell_type": "markdown",
   "id": "34815826",
   "metadata": {},
   "source": [
    "## 13. Recognising and extracting repeated code (DRY principle)"
   ]
  },
  {
   "cell_type": "markdown",
   "id": "6f4a7503",
   "metadata": {},
   "source": [
    "DRY = **D**on’t **R**epeat **Y**ourself. Repetition breeds bugs when one copy changes and the other doesn’t.  Extract common logic into a function, method, or utility module.\n",
    "\n",
    "Warning: over‑eager DRY can create abstractions harder to understand than duplication; prefer *rule of three*: duplicate twice, refactor on third."
   ]
  },
  {
   "cell_type": "markdown",
   "id": "ea7ae7e8",
   "metadata": {},
   "source": [
    "```python\n",
    "# before – duplicated date parsing\n",
    "start = datetime.strptime(start_str, '%Y-%m-%d')\n",
    "end   = datetime.strptime(end_str,   '%Y-%m-%d')\n",
    "\n",
    "# after\n",
    "def parse_ymd(s):\n",
    "    return datetime.strptime(s, '%Y-%m-%d')\n",
    "\n",
    "start = parse_ymd(start_str)\n",
    "end   = parse_ymd(end_str)\n",
    "```"
   ]
  },
  {
   "cell_type": "markdown",
   "id": "2b8dc615",
   "metadata": {},
   "source": [
    "### Quick check\n",
    "\n",
    "1. True / False DRY should be applied after code is working and tests are green.\n",
    "\n",
    "2. Refactoring duplicate `strptime` calls improves:\n",
    "  a. readability   b. performance only\n",
    "\n",
    "<details><summary>Answer key</summary>\n",
    "\n",
    "1. **True** — refactor phase.\n",
    "2. **a**.\n",
    "\n",
    "</details>"
   ]
  },
  {
   "cell_type": "markdown",
   "id": "a6344098",
   "metadata": {},
   "source": [
    "## 14. The Single‑Responsibility Rule (SRR)"
   ]
  },
  {
   "cell_type": "markdown",
   "id": "583790c0",
   "metadata": {},
   "source": [
    "SRR: *“A module or class should have one, and only one, reason to change.”*  \n",
    "If a class both **parses** a file and **renders** HTML, changes in either domain touch the same code → higher risk.\n",
    "\n",
    "Benefits:\n",
    "• Smaller, focused units easier to test.  \n",
    "• Fewer merge conflicts when teams work on different concerns."
   ]
  },
  {
   "cell_type": "markdown",
   "id": "8c26fcfe",
   "metadata": {},
   "source": [
    "```python\n",
    "# SRR violation\n",
    "class Report:\n",
    "    def load_csv(self): ...\n",
    "    def to_html(self): ...\n",
    "\n",
    "# Refactored\n",
    "class ReportData:\n",
    "    def load_csv(self): ...\n",
    "\n",
    "class ReportRenderer:\n",
    "    def to_html(self, data): ...\n",
    "```"
   ]
  },
  {
   "cell_type": "markdown",
   "id": "2477a91f",
   "metadata": {},
   "source": [
    "### Quick check\n",
    "\n",
    "1. Combining DB access and UI logic in one class breaks SRR?\n",
    "  a. Yes  b. No\n",
    "\n",
    "2. True / False SRR implies you must always split classes with more than five methods.\n",
    "\n",
    "<details><summary>Answer key</summary>\n",
    "\n",
    "1. **a** — two change reasons.\n",
    "2. **False** — number of responsibilities matters, not method count.\n",
    "\n",
    "</details>"
   ]
  },
  {
   "cell_type": "markdown",
   "id": "da519144",
   "metadata": {},
   "source": [
    "## 15. Cohesion vs. Coupling"
   ]
  },
  {
   "cell_type": "markdown",
   "id": "db1364da",
   "metadata": {},
   "source": [
    "**Cohesion**: how closely related the tasks inside a module are. High cohesion = focused.  \n",
    "**Coupling**: how much modules depend on each other. Low coupling = easier to change one module without ripple effects.\n",
    "\n",
    "Aim for **high cohesion, low coupling**.  Trade‑off exists: some coupling is inevitable.\n",
    "Techniques to lower coupling:\n",
    "• Pass abstractions (interfaces) not concrete classes.  \n",
    "• Use dependency injection.  \n",
    "• Limit global state."
   ]
  },
  {
   "cell_type": "markdown",
   "id": "6dacfbc8",
   "metadata": {},
   "source": [
    "```text\n",
    "Tight coupling example: Module A imports B, C, D and calls deep internals.\n",
    "Loose coupling: A depends on IStorage interface; concrete S3Storage injected at runtime.\n",
    "```"
   ]
  },
  {
   "cell_type": "markdown",
   "id": "060f8758",
   "metadata": {},
   "source": [
    "### Quick check\n",
    "\n",
    "1. High cohesion means:\n",
    "  a. module does many unrelated things  b. module’s functions share a common purpose\n",
    "\n",
    "2. True / False Reducing coupling often increases testability.\n",
    "\n",
    "<details><summary>Answer key</summary>\n",
    "\n",
    "1. **b**.\n",
    "2. **True**.\n",
    "\n",
    "</details>"
   ]
  }
 ],
 "metadata": {},
 "nbformat": 4,
 "nbformat_minor": 5
}
