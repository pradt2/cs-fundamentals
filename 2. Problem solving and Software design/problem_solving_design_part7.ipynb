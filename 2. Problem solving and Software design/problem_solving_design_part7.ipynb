{
 "cells": [
  {
   "cell_type": "markdown",
   "id": "01b64d8c",
   "metadata": {},
   "source": [
    "## 31. Event‑driven vs. request/response thinking"
   ]
  },
  {
   "cell_type": "markdown",
   "id": "3a85d871",
   "metadata": {},
   "source": [
    "**Request/response**: caller waits for a direct reply (HTTP, RPC).  \n",
    "**Event‑driven**: component emits an event; many listeners may react asynchronously.  \n",
    "\n",
    "When to choose events:\n",
    "• Loose coupling between producers and consumers.  \n",
    "• Fan‑out (1 → N) or fan‑in (N → 1 aggregate) flows.\n",
    "\n",
    "Watch‑outs:\n",
    "• Harder to trace flow; need correlation IDs.  \n",
    "• Delivery guarantees (at‑least‑once, exactly‑once) add complexity."
   ]
  },
  {
   "cell_type": "markdown",
   "id": "e4168e62",
   "metadata": {},
   "source": [
    "```text\n",
    "Request/response:   UI → GET /balance → 200  $123.45\n",
    "Event‑driven:       BankCore publishes 'BalanceChanged', accounting, email, mobile apps consume.\n",
    "```"
   ]
  },
  {
   "cell_type": "markdown",
   "id": "d695d895",
   "metadata": {},
   "source": [
    "### Quick check\n",
    "\n",
    "1. True / False Event producers know how many consumers will handle the event.\n",
    "\n",
    "2. Which style is better for *real‑time UI updates* to many clients?\n",
    "  a. request/response   b. event‑driven\n",
    "\n",
    "<details><summary>Answer key</summary>\n",
    "\n",
    "1. **False** — decoupled.\n",
    "2. **b**.\n",
    "\n",
    "</details>"
   ]
  },
  {
   "cell_type": "markdown",
   "id": "b53a7a31",
   "metadata": {},
   "source": [
    "## 32. Choosing sync vs. async API surfaces"
   ]
  },
  {
   "cell_type": "markdown",
   "id": "8c99f5a1",
   "metadata": {},
   "source": [
    "**Sync** call blocks caller until result; simpler mental model.  \n",
    "**Async** returns future/promise or uses callback/webhook.\n",
    "\n",
    "Heuristics:\n",
    "• If operation < 100 ms and caller can’t proceed without result → sync.  \n",
    "• Long‑running, retry‑prone, or batch jobs → async with job ID + status poll/webhook.\n",
    "\n",
    "Tip: design *both* – sync wrapper that internally polls async backend."
   ]
  },
  {
   "cell_type": "markdown",
   "id": "afd6957f",
   "metadata": {},
   "source": [
    "```python\n",
    "# sync facade over async email send\n",
    "def send_email_sync(client, msg):\n",
    "    job = client.enqueue(msg)\n",
    "    while not job.done():\n",
    "        time.sleep(0.2)\n",
    "    return job.result\n",
    "```"
   ]
  },
  {
   "cell_type": "markdown",
   "id": "fc6b5efd",
   "metadata": {},
   "source": [
    "### Quick check\n",
    "\n",
    "1. Async APIs often return:\n",
    "  a. raw value   b. job identifier\n",
    "\n",
    "2. True / False Synchronous wrappers around async jobs violate REST.\n",
    "\n",
    "<details><summary>Answer key</summary>\n",
    "\n",
    "1. **b**.\n",
    "2. **False** — pattern is common and acceptable.\n",
    "\n",
    "</details>"
   ]
  },
  {
   "cell_type": "markdown",
   "id": "dc093b86",
   "metadata": {},
   "source": [
    "## 33. Transaction boundaries & idempotency basics"
   ]
  },
  {
   "cell_type": "markdown",
   "id": "36fbdf7c",
   "metadata": {},
   "source": [
    "A **transaction boundary** is the span where all changes commit atomically or roll back.  \n",
    "Define them around *business invariants* (e.g., funds move from A to B).  \n",
    "\n",
    "**Idempotent** operation: executing it once or many times has the same effect (PUT resource, deduplicated message IDs).  Crucial for retries in distributed systems."
   ]
  },
  {
   "cell_type": "markdown",
   "id": "ee6fa839",
   "metadata": {},
   "source": [
    "```python\n",
    "# idempotent debit using idempotency key\n",
    "def debit(account, amount, key):\n",
    "    if key in account.seen:\n",
    "        return  # already applied\n",
    "    with db.transaction():\n",
    "        account.balance -= amount\n",
    "        account.seen.add(key)\n",
    "```"
   ]
  },
  {
   "cell_type": "markdown",
   "id": "f08758ff",
   "metadata": {},
   "source": [
    "### Quick check\n",
    "\n",
    "1. Executing an idempotent endpoint twice should:\n",
    "  a. double effect   b. have single effect\n",
    "\n",
    "2. True / False POST is idempotent by HTTP spec.\n",
    "\n",
    "<details><summary>Answer key</summary>\n",
    "\n",
    "1. **b**.\n",
    "2. **False** — POST is not required to be idempotent.\n",
    "\n",
    "</details>"
   ]
  },
  {
   "cell_type": "markdown",
   "id": "d6f55b9d",
   "metadata": {},
   "source": [
    "## 34. Reading cyclomatic complexity & when to split code"
   ]
  },
  {
   "cell_type": "markdown",
   "id": "64f6beee",
   "metadata": {},
   "source": [
    "**Cyclomatic complexity (CC)** counts independent paths through a function (#branches + 1).  \n",
    "High CC (>10) → harder to test all paths, maintain.  Split large functions, extract policies into strategy objects.\n",
    "\n",
    "Tools: `radon`, `ruff`, IDE plugins show CC in gutter."
   ]
  },
  {
   "cell_type": "markdown",
   "id": "1762a3b3",
   "metadata": {},
   "source": [
    "```python\n",
    "def rating(score, age, region):\n",
    "    if region == 'EU':\n",
    "        if age < 18:\n",
    "            return 'deny'\n",
    "        if score > 700:\n",
    "            return 'gold'\n",
    "    else:\n",
    "        if score > 650 and age > 21:\n",
    "            return 'gold'\n",
    "    return 'standard'  # CC = 5 paths\n",
    "```"
   ]
  },
  {
   "cell_type": "markdown",
   "id": "9f3c452a",
   "metadata": {},
   "source": [
    "### Quick check\n",
    "\n",
    "1. High CC means:\n",
    "  a. few test cases needed  b. many test cases needed\n",
    "\n",
    "2. True / False Early returns can *reduce* CC.\n",
    "\n",
    "<details><summary>Answer key</summary>\n",
    "\n",
    "1. **b**.\n",
    "2. **True** — simplify branching.\n",
    "\n",
    "</details>"
   ]
  },
  {
   "cell_type": "markdown",
   "id": "b75b9e31",
   "metadata": {},
   "source": [
    "## 35. Code smells checklist"
   ]
  },
  {
   "cell_type": "markdown",
   "id": "319a6163",
   "metadata": {},
   "source": [
    "Common **smells** indicating future pain:\n",
    "• **Long function / class** – does too much.  \n",
    "• **Primitive obsession** – raw strings/ints instead of rich types.  \n",
    "• **Shotgun surgery** – single change requires edits across many files.  \n",
    "• **Feature envy** – method uses data from another object more than its own.  \n",
    "• **Duplicated code** – violates DRY.  \n",
    "\n",
    "Smells aren’t bugs; they’re *warning signals* prompting refactor."
   ]
  },
  {
   "cell_type": "markdown",
   "id": "e35686d6",
   "metadata": {},
   "source": [
    "```text\n",
    "Smell: Primitive obsession\n",
    "    price = 1999  # cents? dollars? unclear\n",
    "\n",
    "Refactor:\n",
    "    class Money(NamedTuple):\n",
    "        amount: int  # cents\n",
    "    price = Money(1999)\n",
    "```"
   ]
  },
  {
   "cell_type": "markdown",
   "id": "270a96e7",
   "metadata": {},
   "source": [
    "### Quick check\n",
    "\n",
    "1. Shotgun surgery indicates:\n",
    "  a. low coupling   b. high coupling\n",
    "\n",
    "2. True / False Duplicated code is harmless if tests pass.\n",
    "\n",
    "<details><summary>Answer key</summary>\n",
    "\n",
    "1. **b**.\n",
    "2. **False** – duplication increases maintenance cost.\n",
    "\n",
    "</details>"
   ]
  }
 ],
 "metadata": {},
 "nbformat": 4,
 "nbformat_minor": 5
}
