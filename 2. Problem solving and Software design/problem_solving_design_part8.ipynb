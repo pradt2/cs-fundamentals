{
 "cells": [
  {
   "cell_type": "markdown",
   "id": "cb830b67",
   "metadata": {},
   "source": [
    "## 36. Refactoring legacy code with characterisation tests"
   ]
  },
  {
   "cell_type": "markdown",
   "id": "fd9903d4",
   "metadata": {},
   "source": [
    "When you inherit **legacy code** with no tests, changing it feels risky.  \n",
    "Solution: write **characterisation tests** that pin down current behaviour (even if wrong).  \n",
    "\n",
    "Steps:\n",
    "1. Treat legacy function as black box; feed sample inputs, capture outputs.  \n",
    "2. Write tests asserting those outputs.  \n",
    "3. Refactor internal structure while keeping tests green.  \n",
    "\n",
    "Later, update tests when you intentionally change behaviour."
   ]
  },
  {
   "cell_type": "markdown",
   "id": "5903b8e1",
   "metadata": {},
   "source": [
    "```python\n",
    "# legacy\n",
    "def weird_add(a, b):\n",
    "    return a + b + 0.1  # bug!\n",
    "\n",
    "# characterisation test\n",
    "def test_weird_add():\n",
    "    assert weird_add(1, 2) == 3.1\n",
    "```"
   ]
  },
  {
   "cell_type": "markdown",
   "id": "b8fe2a0d",
   "metadata": {},
   "source": [
    "### Quick check\n",
    "\n",
    "1. True / False Characterisation tests should be deleted after refactor.\n",
    "\n",
    "2. Their main role is to:\n",
    "  a. Ensure existing behaviour preserved   b. Enforce new spec\n",
    "\n",
    "<details><summary>Answer key</summary>\n",
    "\n",
    "1. **False** – keep until replaced by spec tests.\n",
    "2. **a**.\n",
    "\n",
    "</details>"
   ]
  },
  {
   "cell_type": "markdown",
   "id": "4657e0c4",
   "metadata": {},
   "source": [
    "## 37. Measuring performance: big‑O intuition & profiling first"
   ]
  },
  {
   "cell_type": "markdown",
   "id": "54a1bae4",
   "metadata": {},
   "source": [
    "Before micro‑optimising, measure!  Use a profiler (`cProfile`) to find hotspots.  \n",
    "Then reason about **algorithmic complexity** (big‑O).  A poor O(n²) loop rarely beats an O(n log n) algorithm, even with C‑level tweaks."
   ]
  },
  {
   "cell_type": "markdown",
   "id": "a7aed9b3",
   "metadata": {},
   "source": [
    "```python\n",
    "import cProfile, pstats\n",
    "def bubblesort(arr):\n",
    "    for i in range(len(arr)):\n",
    "        for j in range(len(arr)-1):\n",
    "            if arr[j]>arr[j+1]:\n",
    "                arr[j],arr[j+1]=arr[j+1],arr[j]\n",
    "    return arr\n",
    "\n",
    "cProfile.run('bubblesort(list(range(100,0,-1)))')\n",
    "```"
   ]
  },
  {
   "cell_type": "markdown",
   "id": "50cbc9cd",
   "metadata": {},
   "source": [
    "### Quick check\n",
    "\n",
    "1. Big‑O describes:\n",
    "  a. exact runtime   b. growth trend\n",
    "\n",
    "2. True / False Optimising constants matters more than picking better complexity class.\n",
    "\n",
    "<details><summary>Answer key</summary>\n",
    "\n",
    "1. **b**.\n",
    "2. **False** – complexity often dominates.\n",
    "\n",
    "</details>"
   ]
  },
  {
   "cell_type": "markdown",
   "id": "969abe97",
   "metadata": {},
   "source": [
    "## 38. Feature toggles and branch‑by‑abstraction"
   ]
  },
  {
   "cell_type": "markdown",
   "id": "a94e3a0e",
   "metadata": {},
   "source": [
    "**Feature toggle**: runtime flag to enable/disable code; lets you merge incomplete work without breaking prod.  \n",
    "**Branch‑by‑abstraction**: create new interface, implement old & new behind it, switch via config, then delete old path.\n",
    "\n",
    "Good toggles are **short‑lived**; long‑lived flags become tech debt."
   ]
  },
  {
   "cell_type": "markdown",
   "id": "276d9689",
   "metadata": {},
   "source": [
    "```python\n",
    "USE_NEW_ENGINE = os.getenv('NEW', '0') == '1'\n",
    "\n",
    "def search(q):\n",
    "    if USE_NEW_ENGINE:\n",
    "        return new_search(q)\n",
    "    return old_search(q)\n",
    "```"
   ]
  },
  {
   "cell_type": "markdown",
   "id": "bd9182b4",
   "metadata": {},
   "source": [
    "### Quick check\n",
    "\n",
    "1. Toggles help with:\n",
    "  a. dark launches   b. code cleanup only\n",
    "\n",
    "2. True / False Leaving toggles for years is acceptable.\n",
    "\n",
    "<details><summary>Answer key</summary>\n",
    "\n",
    "1. **a**.\n",
    "2. **False**.\n",
    "\n",
    "</details>"
   ]
  },
  {
   "cell_type": "markdown",
   "id": "b7ccd4be",
   "metadata": {},
   "source": [
    "## 39. Designing for testability (injection, seams, mocks)"
   ]
  },
  {
   "cell_type": "markdown",
   "id": "9a309dbb",
   "metadata": {},
   "source": [
    "Code is **testable** when you can exercise paths with predictable inputs & outputs.  \n",
    "• **Seams**: places to swap real dependencies for fakes (constructor args, env vars).  \n",
    "• **Mocks/stubs**: dummy objects capturing calls or returning canned data.\n",
    "\n",
    "Guideline: pass collaborators in; avoid hard‑coded singletons/global state."
   ]
  },
  {
   "cell_type": "markdown",
   "id": "44cc262a",
   "metadata": {},
   "source": [
    "```python\n",
    "class Clock:\n",
    "    def now(self):\n",
    "        import time; return time.time()\n",
    "\n",
    "def greeting(name, clock: Clock):\n",
    "    return f\"Hi {name}, it's {clock.now()}\"\n",
    "\n",
    "class FakeClock(Clock):\n",
    "    def __init__(self, t): self.t=t\n",
    "    def now(self): return self.t\n",
    "\n",
    "assert greeting('Ada', FakeClock(0)) == \"Hi Ada, it's 0\"\n",
    "```"
   ]
  },
  {
   "cell_type": "markdown",
   "id": "01285d96",
   "metadata": {},
   "source": [
    "### Quick check\n",
    "\n",
    "1. Injecting time source makes greeting():\n",
    "  a. more testable   b. less testable\n",
    "\n",
    "2. True / False Global `datetime.now()` calls are easy to fake.\n",
    "\n",
    "<details><summary>Answer key</summary>\n",
    "\n",
    "1. **a**.\n",
    "2. **False**.\n",
    "\n",
    "</details>"
   ]
  },
  {
   "cell_type": "markdown",
   "id": "b807f276",
   "metadata": {},
   "source": [
    "## 40. Documenting decisions—lightweight ADR"
   ]
  },
  {
   "cell_type": "markdown",
   "id": "fd23a75f",
   "metadata": {},
   "source": [
    "**Architecture Decision Record (ADR)** is a one‑pager capturing *context → decision → consequences*. Keeps tribal knowledge alive and avoids re‑litigating past choices.\n",
    "\n",
    "Template:\n",
    "1. Title & date  \n",
    "2. Status (accepted, superseded)  \n",
    "3. Context  \n",
    "4. Decision  \n",
    "5. Consequences\n",
    "\n",
    "Store ADRs alongside code in version control."
   ]
  },
  {
   "cell_type": "markdown",
   "id": "b007385e",
   "metadata": {},
   "source": [
    "```text\n",
    "#5 Use Postgres over MySQL (2025‑06‑24)\n",
    "Status: Accepted\n",
    "Context: Need JSON querying and mature partitioning.\n",
    "Decision: Choose Postgres 16.\n",
    "Consequences: Ops must manage logical replication; devs learn psql.\n",
    "```"
   ]
  },
  {
   "cell_type": "markdown",
   "id": "443a214a",
   "metadata": {},
   "source": [
    "### Quick check\n",
    "\n",
    "1. ADRs are typically stored:\n",
    "  a. in email   b. in repo\n",
    "\n",
    "2. True / False Once accepted, an ADR should never be superseded.\n",
    "\n",
    "<details><summary>Answer key</summary>\n",
    "\n",
    "1. **b**.\n",
    "2. **False**.\n",
    "\n",
    "</details>"
   ]
  }
 ],
 "metadata": {},
 "nbformat": 4,
 "nbformat_minor": 5
}
