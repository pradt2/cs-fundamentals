{
 "cells": [
  {
   "cell_type": "markdown",
   "id": "db5d6179",
   "metadata": {},
   "source": [
    "## 16. Defining clear function contracts: pre‑conditions / post‑conditions"
   ]
  },
  {
   "cell_type": "markdown",
   "id": "2db43b74",
   "metadata": {},
   "source": [
    "Every callable should advertise **what it expects** (pre‑conditions) and **what it guarantees** (post‑conditions).  You can document these in docstrings, enforce them with `assert`, or encode them as type hints.  \n",
    "\n",
    "Benefits:\n",
    "• Makes the function predictable for callers.  \n",
    "• Lets tests focus on behaviour, not implementation.  \n",
    "• Encourages small, single‑purpose functions.\n",
    "\n",
    "Common gotcha → hidden side‑effects that violate the contract (*modifies global state*)."
   ]
  },
  {
   "cell_type": "markdown",
   "id": "273c2f61",
   "metadata": {},
   "source": [
    "```python\n",
    "def divide(a: float, b: float) -> float:\n",
    "    \"\"\"Return a / b.\n",
    "    Pre: b ≠ 0\n",
    "    Post: result * b == a (within float eps)\"\"\"\n",
    "    if b == 0:\n",
    "        raise ValueError('b must be non‑zero')\n",
    "    return a / b\n",
    "```"
   ]
  },
  {
   "cell_type": "markdown",
   "id": "593de8c5",
   "metadata": {},
   "source": [
    "### Quick check\n",
    "\n",
    "1. True / False Documenting side‑effects is part of a function contract.\n",
    "\n",
    "2. A post‑condition is checked **after** execution to ensure:\n",
    "  a. inputs valid  b. output meets guarantee\n",
    "\n",
    "<details><summary>Answer key</summary>\n",
    "\n",
    "1. **True** — side‑effects influence callers.\n",
    "2. **b**\n",
    "\n",
    "</details>"
   ]
  },
  {
   "cell_type": "markdown",
   "id": "0c98f068",
   "metadata": {},
   "source": [
    "## 17. Choosing between composition and inheritance"
   ]
  },
  {
   "cell_type": "markdown",
   "id": "41c16055",
   "metadata": {},
   "source": [
    "Inheritance expresses an **is‑a** relationship; composition an **has‑a**.  Prefer composition when you only need to reuse behaviour, not the type identity.  Deep inheritance trees become brittle; swapped components via composition keep systems flexible."
   ]
  },
  {
   "cell_type": "markdown",
   "id": "a0a75774",
   "metadata": {},
   "source": [
    "```python\n",
    "class Engine:\n",
    "    def start(self): print('vroom')\n",
    "\n",
    "# Composition\n",
    "class Car:\n",
    "    def __init__(self, engine: Engine):\n",
    "        self.engine = engine\n",
    "    def drive(self):\n",
    "        self.engine.start(); print('go')\n",
    "\n",
    "# Inheritance misuse\n",
    "class CarEngine(Engine):\n",
    "    pass  # Car is not a kind of Engine!\n",
    "```"
   ]
  },
  {
   "cell_type": "markdown",
   "id": "39155ffd",
   "metadata": {},
   "source": [
    "### Quick check\n",
    "\n",
    "1. Which is safer for swapping implementations at runtime?\n",
    "  a. inheritance  b. composition\n",
    "\n",
    "2. True / False Inheritance automatically exposes all parent public methods.\n",
    "\n",
    "<details><summary>Answer key</summary>\n",
    "\n",
    "1. **b** — inject new component.\n",
    "2. **True** — unless deliberately hidden, all are inherited.\n",
    "\n",
    "</details>"
   ]
  },
  {
   "cell_type": "markdown",
   "id": "469d56d1",
   "metadata": {},
   "source": [
    "## 18. Data‑oriented design vs behaviour‑oriented design"
   ]
  },
  {
   "cell_type": "markdown",
   "id": "2b86d911",
   "metadata": {},
   "source": [
    "*Data‑oriented*: emphasise plain data structures (dicts, tuples) + separate processing functions.  Great for analytics, functional pipelines, concurrency.\n",
    "\n",
    "*Behaviour‑oriented* (OO): bundle data *and* behaviour inside objects.  Useful when invariants must be enforced or when polymorphism matters.\n",
    "\n",
    "Choosing:\n",
    "• High throughput over huge homogeneous data? → data‑oriented.  \n",
    "• Rich domain rules, needing method polymorphism? → behaviour‑oriented."
   ]
  },
  {
   "cell_type": "markdown",
   "id": "a09b01a6",
   "metadata": {},
   "source": [
    "```python\n",
    "# Data‑oriented ETL row\n",
    "row = {'id': 1, 'kwh': 42}\n",
    "def bill(row): return row['kwh'] * 0.15\n",
    "\n",
    "# Behaviour‑oriented domain model\n",
    "class MeterReading:\n",
    "    rate = 0.15\n",
    "    def __init__(self, kwh): self.kwh = kwh\n",
    "    def bill(self): return self.kwh * self.rate\n",
    "```"
   ]
  },
  {
   "cell_type": "markdown",
   "id": "9a8eca1b",
   "metadata": {},
   "source": [
    "### Quick check\n",
    "\n",
    "1. Data‑oriented design favours:\n",
    "  a. cache‑friendly loops  b. polymorphic dispatch\n",
    "\n",
    "2. True / False Behaviour‑oriented design makes it easier to enforce invariants.\n",
    "\n",
    "<details><summary>Answer key</summary>\n",
    "\n",
    "1. **a**\n",
    "2. **True**\n",
    "\n",
    "</details>"
   ]
  },
  {
   "cell_type": "markdown",
   "id": "42e2a53c",
   "metadata": {},
   "source": [
    "## 19. Error‑handling strategy: fail fast vs fail safe"
   ]
  },
  {
   "cell_type": "markdown",
   "id": "074aa823",
   "metadata": {},
   "source": [
    "**Fail fast**: stop at first sign of invalid state, raise error loudly.  Valuable in core business rules where silent corruption is unacceptable.  \n",
    "\n",
    "**Fail safe**: continue with degraded service — e.g., retry, default values, circuit breakers.  Useful at system boundaries (network glitches, user typos).  \n",
    "\n",
    "Decide per layer: domain logic → fail fast, integration/adapters → fail safe."
   ]
  },
  {
   "cell_type": "markdown",
   "id": "de886b34",
   "metadata": {},
   "source": [
    "```python\n",
    "# fail fast\n",
    "price = db.fetch_price('SKU1')\n",
    "if price is None:\n",
    "    raise LookupError('Missing price!')\n",
    "\n",
    "# fail safe wrapper\n",
    "try:\n",
    "    send_email(msg)\n",
    "except TimeoutError:\n",
    "    log.warning('Email service down, queuing retry')\n",
    "    queue_retry(msg)\n",
    "```"
   ]
  },
  {
   "cell_type": "markdown",
   "id": "31245e8b",
   "metadata": {},
   "source": [
    "### Quick check\n",
    "\n",
    "1. Which layer typically adopts **fail safe**?\n",
    "  a. core domain math  b. HTTP client adapter\n",
    "\n",
    "2. True / False Fail fast means masking the error and moving on.\n",
    "\n",
    "<details><summary>Answer key</summary>\n",
    "\n",
    "1. **b**\n",
    "2. **False** — fail fast surfaces error immediately.\n",
    "\n",
    "</details>"
   ]
  },
  {
   "cell_type": "markdown",
   "id": "4f5d2de1",
   "metadata": {},
   "source": [
    "## 20. Using assertions vs raising exceptions"
   ]
  },
  {
   "cell_type": "markdown",
   "id": "5fd1540b",
   "metadata": {},
   "source": [
    "`assert` is for **internal sanity checks** — conditions that should never happen if your code is correct.  They can be stripped with the `-O` flag, so never rely on them for user‑facing validation.  \n",
    "\n",
    "Use `raise` to signal **recoverable errors** caused by external factors (bad input, missing file)."
   ]
  },
  {
   "cell_type": "markdown",
   "id": "01a44c43",
   "metadata": {},
   "source": [
    "```python\n",
    "def sqrt(x):\n",
    "    assert x >= 0, 'x must be non‑negative'  # dev check\n",
    "    return x ** 0.5\n",
    "\n",
    "def read_file(path):\n",
    "    try:\n",
    "        with open(path) as f:\n",
    "            return f.read()\n",
    "    except FileNotFoundError as e:\n",
    "        raise e  # proper exception\n",
    "```"
   ]
  },
  {
   "cell_type": "markdown",
   "id": "8a71ee34",
   "metadata": {},
   "source": [
    "### Quick check\n",
    "\n",
    "1. Assertions may be skipped when Python runs with:\n",
    "  a. -O   b. default flags\n",
    "\n",
    "2. True / False Use `assert` to validate user form inputs.\n",
    "\n",
    "<details><summary>Answer key</summary>\n",
    "\n",
    "1. **a**\n",
    "2. **False** — raise exceptions: assertions might be stripped.\n",
    "\n",
    "</details>"
   ]
  }
 ],
 "metadata": {},
 "nbformat": 4,
 "nbformat_minor": 5
}
