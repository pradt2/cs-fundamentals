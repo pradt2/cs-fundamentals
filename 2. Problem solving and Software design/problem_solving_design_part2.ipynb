{
 "cells": [
  {
   "cell_type": "markdown",
   "id": "124cbceb",
   "metadata": {},
   "source": [
    "## 6. Decomposing with *verb‑noun* task lists (top‑down outline)"
   ]
  },
  {
   "cell_type": "markdown",
   "id": "7ef4519d",
   "metadata": {},
   "source": [
    "After you’ve drafted a user story, the next step is to **explode it into concrete tasks**.  \n",
    "A quick, low‑tech method is to write every task as a **verb followed by a noun**.  \n",
    "\n",
    "Example workflow for “Generate monthly invoice bundle”:\n",
    "\n",
    "* *Query invoices*  \n",
    "* *Render PDFs*  \n",
    "* *Merge pages*  \n",
    "* *Store archive*  \n",
    "* *Notify auditor*  \n",
    "\n",
    "Why it helps:\n",
    "* Forces an *action mindset* — every bullet is something you or the computer **does**.  \n",
    "* Highlights missing steps (no verb? No action!).  \n",
    "* Leaves out low‑value fluff like UI colours; stay solution‑agnostic early on.  \n",
    "\n",
    "Common gotcha → verbs that hide multiple operations, e.g. *“Process invoices”*; split until each line feels trivially small."
   ]
  },
  {
   "cell_type": "markdown",
   "id": "1be427c5",
   "metadata": {},
   "source": [
    "```text\n",
    "Bad outline (noun soup):\n",
    "    Data layer\n",
    "    PDF service\n",
    "    Notifications\n",
    "\n",
    "Improved verb‑noun outline:\n",
    "    ✔ Fetch paid invoices\n",
    "    ✔ Convert invoice HTML → PDF\n",
    "    ✔ Stitch PDFs into single file\n",
    "    ✔ Upload archive to S3\n",
    "    ✔ Post Slack summary to #fin‑audit\n",
    "```"
   ]
  },
  {
   "cell_type": "markdown",
   "id": "6126caea",
   "metadata": {},
   "source": [
    "### Quick check\n",
    "\n",
    "1. True / False Each bullet in a verb‑noun list should be doable in one sitting (≈30–90 min).\n",
    "\n",
    "2. Which item **breaks** the verb‑noun rule?\n",
    "  a. *Validate CSV*  b. *Email report*  c. *PDF generator*\n",
    "\n",
    "<details><summary>Answer key</summary>\n",
    "\n",
    "1. **True** — if it’s bigger, break it down again.\n",
    "2. **c** — starts with a noun, not a verb.\n",
    "\n",
    "</details>"
   ]
  },
  {
   "cell_type": "markdown",
   "id": "6b7a1673",
   "metadata": {},
   "source": [
    "## 7. Choosing data structures to match operations"
   ]
  },
  {
   "cell_type": "markdown",
   "id": "68030cea",
   "metadata": {},
   "source": [
    "Selecting the right container is half the battle.  Think in terms of the **operations you’ll run most often**:\n",
    "\n",
    "| Need…                       | Prefer… | Because… |\n",
    "|-----------------------------|----------|-----------|\n",
    "| Fast **membership test**    | `set`    | O(1) hash lookup |\n",
    "| **Ordered** iteration       | `list` / `deque` | predictable position |\n",
    "| Key → Value mapping         | `dict`   | O(1) average access |\n",
    "| Constant‑time **append left** | `collections.deque` | avoids O(n) list insert |\n",
    "\n",
    "Gotcha: prematurely optimising.  If the data set is a few dozen items, readability beats micro‑perf."
   ]
  },
  {
   "cell_type": "markdown",
   "id": "cfcd0472",
   "metadata": {},
   "source": [
    "```python\n",
    "names = ['Ada', 'Alan', 'Grace', 'Alan']\n",
    "\n",
    "# Operation: remove duplicates, preserve order\n",
    "seen = set()\n",
    "unique_preserve = []\n",
    "for n in names:\n",
    "    if n not in seen:\n",
    "        seen.add(n)\n",
    "        unique_preserve.append(n)\n",
    "print(unique_preserve)  # ['Ada', 'Alan', 'Grace']\n",
    "```"
   ]
  },
  {
   "cell_type": "markdown",
   "id": "07a219a0",
   "metadata": {},
   "source": [
    "### Quick check\n",
    "\n",
    "1. `dict` lookup is typically ___ complexity.\n",
    "  a. O(1)   b. O(log n)   c. O(n)\n",
    "\n",
    "2. True / False A Python `list` is implemented as a linked list, so random index access is O(n).\n",
    "\n",
    "<details><summary>Answer key</summary>\n",
    "\n",
    "1. **a** — average‑case constant time.\n",
    "2. **False** — lists are dynamic arrays; indexing is O(1).\n",
    "\n",
    "</details>"
   ]
  },
  {
   "cell_type": "markdown",
   "id": "162aa8f5",
   "metadata": {},
   "source": [
    "## 8. Flow‑chart vs. pseudocode vs. real code — when each is useful"
   ]
  },
  {
   "cell_type": "markdown",
   "id": "ded4b736",
   "metadata": {},
   "source": [
    "**Flow‑chart**: boxes & arrows, great for non‑technical stakeholders or to visualise branching in approvals, retries, etc.  \n",
    "**Pseudocode**: plain‑language code sketch, good bridge between ideas and syntax.  \n",
    "**Real code**: authoritative single source, but expensive to rewrite if the idea changes.  \n",
    "\n",
    "Guideline: sketch *flow‑chart ⟶ pseudocode ⟶ code* as fidelity rises.\n",
    "\n",
    "Gotcha: staying stuck in flow‑charts and never validating with running code — false sense of progress."
   ]
  },
  {
   "cell_type": "markdown",
   "id": "992815b6",
   "metadata": {},
   "source": [
    "```text\n",
    "Flow‑chart (ASCII):\n",
    "  [Start] → (Fetch user) →{found?} yes→(Send email)→[End]\n",
    "                          no →[End]\n",
    "\n",
    "Pseudocode:\n",
    "  if user_exists(id):\n",
    "      send_email(user)\n",
    "  else:\n",
    "      return\n",
    "```"
   ]
  },
  {
   "cell_type": "markdown",
   "id": "91b25953",
   "metadata": {},
   "source": [
    "### Quick check\n",
    "\n",
    "1. True / False High‑detail flow‑charts are *easier* to maintain than code comments.\n",
    "\n",
    "2. Pseudocode is most valuable:\n",
    "  a. After code is written  b. Before committing to a specific language\n",
    "\n",
    "<details><summary>Answer key</summary>\n",
    "\n",
    "1. **False** — they drift quickly once code changes.\n",
    "2. **b**.\n",
    "\n",
    "</details>"
   ]
  },
  {
   "cell_type": "markdown",
   "id": "5d1f0e4c",
   "metadata": {},
   "source": [
    "## 9. Building the *walking skeleton* (thin vertical slice)"
   ]
  },
  {
   "cell_type": "markdown",
   "id": "735cadda",
   "metadata": {},
   "source": [
    "A **walking skeleton** is the **smallest slice** of functionality that touches every layer of the system and *actually runs in production*.\n",
    "\n",
    "Why do it first?\n",
    "* Validates CI/CD, hosting, monitoring early — infrastructure bugs surface sooner.\n",
    "* Provides a demo baseline; boosts morale.\n",
    "* Lets you iterate by **filling flesh onto bones** instead of chasing integration hell at the end.\n",
    "\n",
    "Common pitfall → over‑engineering the skeleton; keep it *ridiculously thin*."
   ]
  },
  {
   "cell_type": "markdown",
   "id": "c349acb1",
   "metadata": {},
   "source": [
    "```text\n",
    "For a REST API:\n",
    "  • Endpoint: GET /ping → returns {\"status\": \"ok\"}\n",
    "  • Deployed via CI to staging\n",
    "  • Healthcheck alert wired to Slack\n",
    "Nothing else yet — but the pipeline, web server, routing, and monitoring all proved.\n",
    "```"
   ]
  },
  {
   "cell_type": "markdown",
   "id": "73ed77d8",
   "metadata": {},
   "source": [
    "### Quick check\n",
    "\n",
    "1. The walking skeleton should be deployed:\n",
    "  a. After 80 % of features  b. As the first increment\n",
    "\n",
    "2. True / False Skipping monitoring on the skeleton is fine because there’s no real load yet.\n",
    "\n",
    "<details><summary>Answer key</summary>\n",
    "\n",
    "1. **b** — first increment.\n",
    "2. **False** — verifying alerts early is a main benefit.\n",
    "\n",
    "</details>"
   ]
  },
  {
   "cell_type": "markdown",
   "id": "ef214354",
   "metadata": {},
   "source": [
    "## 10. Incremental development & the *red‑green‑refactor* loop"
   ]
  },
  {
   "cell_type": "markdown",
   "id": "90422cc6",
   "metadata": {},
   "source": [
    "This is the classic **TDD** micro‑cycle:\n",
    "\n",
    "1. **Red** — write a small failing test that expresses intent.\n",
    "2. **Green** — write just enough code to pass.\n",
    "3. **Refactor** — clean up, keeping tests green.\n",
    "\n",
    "Benefits:\n",
    "* Forces you to define behaviour before implementation.\n",
    "* Keeps functions small and design flexible.\n",
    "* Provides a safety net for tomorrow’s changes.\n",
    "\n",
    "Gotcha: writing monster tests — if a test fails for 3 different reasons, break it apart."
   ]
  },
  {
   "cell_type": "markdown",
   "id": "b1ea1df1",
   "metadata": {},
   "source": [
    "```python\n",
    "# red\n",
    "def test_add():\n",
    "    assert add(2, 3) == 5  # NameError: add undefined\n",
    "\n",
    "# green (minimal)\n",
    "def add(a, b):\n",
    "    return a + b\n",
    "\n",
    "# refactor (trivial here, but imagine bigger code)\n",
    "```"
   ]
  },
  {
   "cell_type": "markdown",
   "id": "3ab768c4",
   "metadata": {},
   "source": [
    "### Quick check\n",
    "\n",
    "1. Which phase allows broader code cleanup without fear?\n",
    "  a. Red   b. Green   c. Refactor\n",
    "\n",
    "2. True / False Skipping the red step and starting with green still counts as TDD.\n",
    "\n",
    "<details><summary>Answer key</summary>\n",
    "\n",
    "1. **c** — refactor step.\n",
    "2. **False** — test‑first is fundamental to TDD.\n",
    "\n",
    "</details>"
   ]
  }
 ],
 "metadata": {
  "kernelspec": {
   "display_name": "Python 3 (ipykernel)",
   "language": "python",
   "name": "python3"
  },
  "language_info": {
   "codemirror_mode": {
    "name": "ipython",
    "version": 3
   },
   "file_extension": ".py",
   "mimetype": "text/x-python",
   "name": "python",
   "nbconvert_exporter": "python",
   "pygments_lexer": "ipython3",
   "version": "3.13.3"
  }
 },
 "nbformat": 4,
 "nbformat_minor": 5
}
