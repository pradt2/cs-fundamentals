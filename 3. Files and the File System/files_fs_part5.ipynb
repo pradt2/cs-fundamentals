{
 "cells": [
  {
   "cell_type": "markdown",
   "id": "884627f6",
   "metadata": {},
   "source": [
    "## 24. Monitoring file‑system events"
   ]
  },
  {
   "cell_type": "markdown",
   "id": "9beb88c8",
   "metadata": {},
   "source": [
    "Real‑time watchers (Linux inotify, macOS FSEvents, Windows ReadDirectoryChangesW) notify your app when files change. In Python, use **watchdog** library for a cross‑platform wrapper—great for auto‑reload, build tools."
   ]
  },
  {
   "cell_type": "markdown",
   "id": "6722698c",
   "metadata": {},
   "source": [
    "```python\n",
    "from watchdog.observers import Observer\n",
    "from watchdog.events import FileSystemEventHandler\n",
    "import time, pathlib\n",
    "\n",
    "class Handler(FileSystemEventHandler):\n",
    "    def on_modified(self, event):\n",
    "        print('modified', event.src_path)\n",
    "\n",
    "path = pathlib.Path('.').resolve()\n",
    "observer = Observer()\n",
    "observer.schedule(Handler(), path=str(path), recursive=False)\n",
    "observer.start()\n",
    "print('Watching', path)\n",
    "time.sleep(2); observer.stop(); observer.join()\n",
    "```"
   ]
  },
  {
   "cell_type": "markdown",
   "id": "0fb31320",
   "metadata": {},
   "source": [
    "### Quick check\n",
    "\n",
    "1. watchdog relies on polling when native API missing?\n",
    "  a. True   b. False\n",
    "\n",
    "2. True / False inotify works on Windows.\n",
    "\n",
    "<details><summary>Answer key</summary>\n",
    "\n",
    "1. **a**.\n",
    "2. **False**.\n",
    "\n",
    "</details>"
   ]
  },
  {
   "cell_type": "markdown",
   "id": "88fcd5ec",
   "metadata": {},
   "source": [
    "## 25. Case sensitivity & path separators across OSes"
   ]
  },
  {
   "cell_type": "markdown",
   "id": "76105cad",
   "metadata": {},
   "source": [
    "Windows file‑system is case‑insensitive by default; Linux/mac (APFS) often case‑sensitive. Use `Path` methods, not string compares. Path separator: `/` on Unix, `\\` on Windows—`pathlib` handles both."
   ]
  },
  {
   "cell_type": "markdown",
   "id": "3847d03d",
   "metadata": {},
   "source": [
    "```python\n",
    "from pathlib import PurePath\n",
    "print(PurePath('a/b').as_posix())\n",
    "print(PurePath('a\\\\b').parts)\n",
    "```"
   ]
  },
  {
   "cell_type": "markdown",
   "id": "be18deda",
   "metadata": {},
   "source": [
    "### Quick check\n",
    "\n",
    "1. Comparing 'Readme.md' vs 'README.MD' on Windows returns equal?\n",
    "  a. yes   b. no\n",
    "\n",
    "2. True / False Using forward slashes in Python paths on Windows usually works.\n",
    "\n",
    "<details><summary>Answer key</summary>\n",
    "\n",
    "1. **a**.\n",
    "2. **True** – Windows API accepts '/'.\n",
    "\n",
    "</details>"
   ]
  },
  {
   "cell_type": "markdown",
   "id": "10831eb2",
   "metadata": {},
   "source": [
    "## 26. Unicode filenames and cross‑platform pitfalls"
   ]
  },
  {
   "cell_type": "markdown",
   "id": "6a788bed",
   "metadata": {},
   "source": [
    "Filenames are bytes on Unix, UTF‑16 on Windows. Python decodes to `str` using filesystem encoding (`utf‑8` on modern distros). Always store paths as `Path` objects; beware of normalisation (NFC vs NFD) when exchanging between macOS and Linux."
   ]
  },
  {
   "cell_type": "markdown",
   "id": "dc951d80",
   "metadata": {},
   "source": [
    "```python\n",
    "from pathlib import Path\n",
    "name = 'żółć.txt'\n",
    "Path(name).write_text('hi', encoding='utf-8')\n",
    "print(list(Path('.').glob('*.txt')))\n",
    "```"
   ]
  },
  {
   "cell_type": "markdown",
   "id": "7c64d95a",
   "metadata": {},
   "source": [
    "### Quick check\n",
    "\n",
    "1. macOS normalises filenames to:\n",
    "  a. NFC   b. NFD\n",
    "\n",
    "2. True / False Bytes path APIs (`os.listdir(b'.')`) bypass decoding.\n",
    "\n",
    "<details><summary>Answer key</summary>\n",
    "\n",
    "1. **b**.\n",
    "2. **True**.\n",
    "\n",
    "</details>"
   ]
  },
  {
   "cell_type": "markdown",
   "id": "d279dc26",
   "metadata": {},
   "source": [
    "## 27. Filesystem timestamps (`atime`, `mtime`, `ctime`)"
   ]
  },
  {
   "cell_type": "markdown",
   "id": "40b56d35",
   "metadata": {},
   "source": [
    "`stat()` returns:  \n",
    "* **st_atime** – last access; often disabled for performance.  \n",
    "* **st_mtime** – last modification.  \n",
    "* **st_ctime** – metadata change (Unix) or creation time (Windows)."
   ]
  },
  {
   "cell_type": "markdown",
   "id": "0fda908b",
   "metadata": {},
   "source": [
    "```python\n",
    "import os, time, pathlib\n",
    "p = pathlib.Path('pi.txt')\n",
    "stat = p.stat()\n",
    "print(time.ctime(stat.st_mtime))\n",
    "```"
   ]
  },
  {
   "cell_type": "markdown",
   "id": "f40c5f6f",
   "metadata": {},
   "source": [
    "### Quick check\n",
    "\n",
    "1. `ctime` on Windows means:\n",
    "  a. metadata change   b. creation\n",
    "\n",
    "2. True / False Touching file updates mtime.\n",
    "\n",
    "<details><summary>Answer key</summary>\n",
    "\n",
    "1. **b**.\n",
    "2. **True** – unless using utime keep flag.\n",
    "\n",
    "</details>"
   ]
  },
  {
   "cell_type": "markdown",
   "id": "62575eef",
   "metadata": {},
   "source": [
    "## 28. Sparse files and holes"
   ]
  },
  {
   "cell_type": "markdown",
   "id": "bf68d2e1",
   "metadata": {},
   "source": [
    "Sparse files reserve virtually large size but physical blocks allocated on write. Databases and VM images use them. Reading unwritten region yields zeros. `fallocate` on Linux or `SetFileValidData` on Windows creates holes."
   ]
  },
  {
   "cell_type": "markdown",
   "id": "fa9ae3e5",
   "metadata": {},
   "source": [
    "```python\n",
    "with open('sparse.bin','wb') as f:\n",
    "    f.seek(10**9)  # 1 GB hole\n",
    "    f.write(b'X')\n",
    "```"
   ]
  },
  {
   "cell_type": "markdown",
   "id": "c21630b0",
   "metadata": {},
   "source": [
    "### Quick check\n",
    "\n",
    "1. Disk usage (`du`) shows small size for sparse?\n",
    "  a. True   b. False\n",
    "\n",
    "2. True / False Copying sparse file with `cp` always preserves holes.\n",
    "\n",
    "<details><summary>Answer key</summary>\n",
    "\n",
    "1. **a**.\n",
    "2. **False** – need `--sparse`.\n",
    "\n",
    "</details>"
   ]
  },
  {
   "cell_type": "markdown",
   "id": "16d34482",
   "metadata": {},
   "source": [
    "## 29. Quotas, limits, and handling “disk full”"
   ]
  },
  {
   "cell_type": "markdown",
   "id": "f1162b78",
   "metadata": {},
   "source": [
    "Always catch `OSError` `ENOSPC` on writes; application should clean temp or alert user. Check free space with `shutil.disk_usage`. Quotas may hit before physical full."
   ]
  },
  {
   "cell_type": "markdown",
   "id": "4fda77e7",
   "metadata": {},
   "source": [
    "```python\n",
    "import shutil, pathlib\n",
    "total, used, free = shutil.disk_usage(pathlib.Path('.'))\n",
    "print('free MB', free//1_000_000)\n",
    "```"
   ]
  },
  {
   "cell_type": "markdown",
   "id": "24dcb771",
   "metadata": {},
   "source": [
    "### Quick check\n",
    "\n",
    "1. `ENOSPC` stands for:\n",
    "  a. No space left   b. No such file\n",
    "\n",
    "2. True / False Disk quota errors raise same errno as disk full.\n",
    "\n",
    "<details><summary>Answer key</summary>\n",
    "\n",
    "1. **a**.\n",
    "2. **True** – both ENOSPC.\n",
    "\n",
    "</details>"
   ]
  },
  {
   "cell_type": "markdown",
   "id": "131d2be7",
   "metadata": {},
   "source": [
    "## 30. Atomic file writes (temp + rename)"
   ]
  },
  {
   "cell_type": "markdown",
   "id": "6ffe73be",
   "metadata": {},
   "source": [
    "Write to temp file in same dir → `flush`+`fsync` → `os.replace(temp, target)`; rename is atomic on same filesystem, preventing readers from seeing half-written data."
   ]
  },
  {
   "cell_type": "markdown",
   "id": "4863f3fe",
   "metadata": {},
   "source": [
    "```python\n",
    "import os, tempfile, pathlib\n",
    "target = pathlib.Path('config.json')\n",
    "with tempfile.NamedTemporaryFile('w', dir=target.parent, delete=False) as tmp:\n",
    "    tmp.write('{}')\n",
    "    tmp.flush(); os.fsync(tmp.fileno())\n",
    "os.replace(tmp.name, target)\n",
    "```"
   ]
  },
  {
   "cell_type": "markdown",
   "id": "9edb02f3",
   "metadata": {},
   "source": [
    "### Quick check\n",
    "\n",
    "1. Atomic rename fails across:\n",
    "  a. same FS   b. different FS\n",
    "\n",
    "2. True / False `os.replace` overwrites existing file.\n",
    "\n",
    "<details><summary>Answer key</summary>\n",
    "\n",
    "1. **b**.\n",
    "2. **True**.\n",
    "\n",
    "</details>"
   ]
  }
 ],
 "metadata": {},
 "nbformat": 4,
 "nbformat_minor": 5
}
