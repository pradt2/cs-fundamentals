{
 "cells": [
  {
   "cell_type": "markdown",
   "id": "0d535b20",
   "metadata": {},
   "source": [
    "## 1. Absolute vs. relative paths"
   ]
  },
  {
   "cell_type": "markdown",
   "id": "e951f065",
   "metadata": {},
   "source": [
    "An **absolute path** starts at the filesystem root (`/` on Unix, `C:\\` on Windows) and uniquely identifies a file no matter the current working directory.  A **relative path** is interpreted **relative to `os.getcwd()`** (the process’s current folder).  Mixing them is a common source of *“file not found”* errors when scripts run from cron, IDEs, or CI—always build absolute paths for anything outside working dir."
   ]
  },
  {
   "cell_type": "markdown",
   "id": "1e2a13bb",
   "metadata": {},
   "source": [
    "```python\n",
    "import os, pathlib\n",
    "print('cwd =', os.getcwd())\n",
    "rel = pathlib.Path('README.md')\n",
    "abs_path = rel.resolve()\n",
    "print('Absolute:', abs_path)\n",
    "```"
   ]
  },
  {
   "cell_type": "markdown",
   "id": "d16830cc",
   "metadata": {},
   "source": [
    "### Quick check\n",
    "\n",
    "1. Changing working directory with `os.chdir()` affects **relative** path resolution?\n",
    "\n",
    "2. True / False An absolute path can contain `..` segments.\n",
    "\n",
    "<details><summary>Answer key</summary>\n",
    "\n",
    "1. **Yes**—relative paths are evaluated after the cwd change.\n",
    "2. **True**—though `Path.resolve()` will normalise them away.\n",
    "\n",
    "</details>"
   ]
  },
  {
   "cell_type": "markdown",
   "id": "288dbf7c",
   "metadata": {},
   "source": [
    "## 2. Opening and closing files with `open()` and `with`"
   ]
  },
  {
   "cell_type": "markdown",
   "id": "f7a031ba",
   "metadata": {},
   "source": [
    "Always wrap `open()` in a `with` block: it guarantees the file descriptor is **closed** even if an exception happens.  Leaving files open leaks OS resources and can corrupt data on Windows where open handles lock the file."
   ]
  },
  {
   "cell_type": "markdown",
   "id": "ce7d72e9",
   "metadata": {},
   "source": [
    "```python\n",
    "with open('notes.txt', 'w') as f:\n",
    "    f.write('remember to close me')\n",
    "# file is closed here\n",
    "```"
   ]
  },
  {
   "cell_type": "markdown",
   "id": "b63f3abd",
   "metadata": {},
   "source": [
    "### Quick check\n",
    "\n",
    "1. `with open(...) as f` closes the file:\n",
    "  a. at end of block   b. when GC runs\n",
    "\n",
    "2. True / False Calling `f.close()` manually *inside* the block is necessary.\n",
    "\n",
    "<details><summary>Answer key</summary>\n",
    "\n",
    "1. **a**.\n",
    "2. **False**—context manager handles it.\n",
    "\n",
    "</details>"
   ]
  },
  {
   "cell_type": "markdown",
   "id": "75e2b221",
   "metadata": {},
   "source": [
    "## 3. Read vs. write vs. append modes"
   ]
  },
  {
   "cell_type": "markdown",
   "id": "ee3a7baa",
   "metadata": {},
   "source": [
    "`open(path, 'r')` reads existing file; `'w'` **truncates** or creates; `'a'` appends to end.  Add `'+'` for read+write. Forgetting and opening logs in `'w'` is a classic *data wipe* bug."
   ]
  },
  {
   "cell_type": "markdown",
   "id": "0904e1af",
   "metadata": {},
   "source": [
    "```python\n",
    "# demo: append preserves previous content\n",
    "with open('demo.log', 'w') as f:\n",
    "    f.write('first\\n')\n",
    "with open('demo.log', 'a') as f:\n",
    "    f.write('second\\n')\n",
    "print(open('demo.log').read())\n",
    "```"
   ]
  },
  {
   "cell_type": "markdown",
   "id": "0a7a071d",
   "metadata": {},
   "source": [
    "### Quick check\n",
    "\n",
    "1. Mode `'w'` on non‑existent file will:\n",
    "  a. raise error   b. create file\n",
    "\n",
    "2. True / False `'r+'` truncates the file on open.\n",
    "\n",
    "<details><summary>Answer key</summary>\n",
    "\n",
    "1. **b**.\n",
    "2. **False**—it preserves size.\n",
    "\n",
    "</details>"
   ]
  },
  {
   "cell_type": "markdown",
   "id": "55030797",
   "metadata": {},
   "source": [
    "## 4. Text vs. binary mode & encodings"
   ]
  },
  {
   "cell_type": "markdown",
   "id": "12a19334",
   "metadata": {},
   "source": [
    "`'t'` (default) decodes bytes to `str` using a chosen **encoding** (UTF‑8 by default on modern Python).  `'b'` returns raw `bytes`.  Use binary when reading images, PDFs, or when you intend to handle encoding yourself."
   ]
  },
  {
   "cell_type": "markdown",
   "id": "044d4208",
   "metadata": {},
   "source": [
    "```python\n",
    "data = bytes([0x48,0x49])\n",
    "with open('bin.dat','wb') as f: f.write(data)\n",
    "print(open('bin.dat','rb').read(), open('bin.dat','rt', encoding='latin-1').read())\n",
    "```"
   ]
  },
  {
   "cell_type": "markdown",
   "id": "52844c90",
   "metadata": {},
   "source": [
    "### Quick check\n",
    "\n",
    "1. Opening image.jpg in text mode likely raises:\n",
    "  a. UnicodeDecodeError  b. FileNotFoundError\n",
    "\n",
    "2. True / False `open(..., 'rb')` returns `str` objects.\n",
    "\n",
    "<details><summary>Answer key</summary>\n",
    "\n",
    "1. **a**.\n",
    "2. **False**—returns `bytes`.\n",
    "\n",
    "</details>"
   ]
  },
  {
   "cell_type": "markdown",
   "id": "de844b36",
   "metadata": {},
   "source": [
    "## 5. Line-by-line iteration vs. `read()` vs. `readlines()`"
   ]
  },
  {
   "cell_type": "markdown",
   "id": "f0715704",
   "metadata": {},
   "source": [
    "Iterating `for line in f:` streams one line at a time—constant memory.  `f.read()` loads the **entire file** into memory; dangerous for GB logs.  `f.readlines()` returns list of lines; also memory‑heavy."
   ]
  },
  {
   "cell_type": "markdown",
   "id": "1d384d60",
   "metadata": {},
   "source": [
    "```python\n",
    "big = open(__file__)  # this script\n",
    "first3 = [next(big) for _ in range(3)]\n",
    "print(first3)\n",
    "```"
   ]
  },
  {
   "cell_type": "markdown",
   "id": "dfc9efd7",
   "metadata": {},
   "source": [
    "### Quick check\n",
    "\n",
    "1. Which method is **most** memory efficient for huge files?\n",
    "  a. read()   b. readlines()   c. iteration\n",
    "\n",
    "2. True / False `readlines()` strips newline characters.\n",
    "\n",
    "<details><summary>Answer key</summary>\n",
    "\n",
    "1. **c**.\n",
    "2. **False**—lines keep trailing `\\n`.\n",
    "\n",
    "</details>"
   ]
  },
  {
   "cell_type": "markdown",
   "id": "743b032b",
   "metadata": {},
   "source": [
    "## 6. Common text encodings & the `encoding=` param"
   ]
  },
  {
   "cell_type": "markdown",
   "id": "79050521",
   "metadata": {},
   "source": [
    "UTF‑8 dominates, but CSVs from Excel may be UTF‑16‑LE or old Latin‑1.  Always pass `encoding=` when data source is known; relying on locale leads to bugs on other machines."
   ]
  },
  {
   "cell_type": "markdown",
   "id": "9558a224",
   "metadata": {},
   "source": [
    "```python\n",
    "# Write Polish word in UTF‑8\n",
    "word = 'żółć'\n",
    "open('pl.txt','w', encoding='utf-8').write(word)\n",
    "print(open('pl.txt','rb').read())\n",
    "```"
   ]
  },
  {
   "cell_type": "markdown",
   "id": "3b7b49f0",
   "metadata": {},
   "source": [
    "### Quick check\n",
    "\n",
    "1. UTF‑8 encodes ASCII bytes **unchanged**?\n",
    "  a. True   b. False\n",
    "\n",
    "2. True / False Passing wrong encoding causes silent data corruption but no exception.\n",
    "\n",
    "<details><summary>Answer key</summary>\n",
    "\n",
    "1. **a**.\n",
    "2. **True**—bytes decode to mojibake.\n",
    "\n",
    "</details>"
   ]
  }
 ],
 "metadata": {
  "kernelspec": {
   "display_name": "Python 3 (ipykernel)",
   "language": "python",
   "name": "python3"
  },
  "language_info": {
   "codemirror_mode": {
    "name": "ipython",
    "version": 3
   },
   "file_extension": ".py",
   "mimetype": "text/x-python",
   "name": "python",
   "nbconvert_exporter": "python",
   "pygments_lexer": "ipython3",
   "version": "3.13.3"
  }
 },
 "nbformat": 4,
 "nbformat_minor": 5
}
