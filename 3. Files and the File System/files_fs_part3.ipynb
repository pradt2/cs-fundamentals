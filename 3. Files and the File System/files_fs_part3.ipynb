{
 "cells": [
  {
   "cell_type": "markdown",
   "id": "640410a0",
   "metadata": {},
   "source": [
    "## 13. Temporary files and directories (`tempfile`)"
   ]
  },
  {
   "cell_type": "markdown",
   "id": "cb1301dd",
   "metadata": {},
   "source": [
    "`tempfile.NamedTemporaryFile()` and `TemporaryDirectory()` create files/dirs that auto‑delete on close/context exit. Useful for tests, staging uploads. Default location is OS temp ( `/tmp` or `%TEMP%`)."
   ]
  },
  {
   "cell_type": "markdown",
   "id": "8d8e6162",
   "metadata": {},
   "source": [
    "```python\n",
    "import tempfile, pathlib\n",
    "with tempfile.NamedTemporaryFile(delete=True) as tmp:\n",
    "    print('path', tmp.name)\n",
    "    tmp.write(b'data')\n",
    "print('file exists after?', pathlib.Path(tmp.name).exists())\n",
    "```"
   ]
  },
  {
   "cell_type": "markdown",
   "id": "e63d32e9",
   "metadata": {},
   "source": [
    "### Quick check\n",
    "\n",
    "1. True / False `TemporaryDirectory()` removes itself even on unhandled exception.\n",
    "\n",
    "2. Default temp directory determined by:\n",
    "  a. Python hardcode   b. OS environment\n",
    "\n",
    "<details><summary>Answer key</summary>\n",
    "\n",
    "1. **True** — context cleanup.\n",
    "2. **b**.\n",
    "\n",
    "</details>"
   ]
  },
  {
   "cell_type": "markdown",
   "id": "d4054159",
   "metadata": {},
   "source": [
    "## 14. File permissions & execution bit"
   ]
  },
  {
   "cell_type": "markdown",
   "id": "3dbba2a5",
   "metadata": {},
   "source": [
    "Unix permission triplet rwx for owner/group/others. `chmod +x script.py` sets execute bit. Python’s `stat` gives numeric modes. On Windows, permissions map to ACLs—`os.chmod` limited."
   ]
  },
  {
   "cell_type": "markdown",
   "id": "44065326",
   "metadata": {},
   "source": [
    "```python\n",
    "import os, stat\n",
    "os.chmod('pi.txt', 0o644)  # rw-r--r--\n",
    "mode = stat.S_IMODE(os.stat('pi.txt').st_mode)\n",
    "print(oct(mode))\n",
    "```"
   ]
  },
  {
   "cell_type": "markdown",
   "id": "d6704490",
   "metadata": {},
   "source": [
    "### Quick check\n",
    "\n",
    "1. 0o755 grants execute to:\n",
    "  a. owner only   b. everyone\n",
    "\n",
    "2. True / False Windows ignores chmod execute bit.\n",
    "\n",
    "<details><summary>Answer key</summary>\n",
    "\n",
    "1. **b** — owner rwx, group/others rx.\n",
    "2. **True** — needs .exe flag.\n",
    "\n",
    "</details>"
   ]
  },
  {
   "cell_type": "markdown",
   "id": "bb107349",
   "metadata": {},
   "source": [
    "## 15. Reading & writing JSON, CSV, pickle"
   ]
  },
  {
   "cell_type": "markdown",
   "id": "f1e79b9e",
   "metadata": {},
   "source": [
    "Choose format per use‑case: JSON human‑readable, CSV tabular, pickle Python‑specific binary. Never unpickle untrusted data → code execution risk."
   ]
  },
  {
   "cell_type": "markdown",
   "id": "4defa83e",
   "metadata": {},
   "source": [
    "```python\n",
    "import json, csv, pickle\n",
    "json.dump({'k':1}, open('d.json','w'))\n",
    "with open('d.csv','w', newline='') as f:\n",
    "    csv.writer(f).writerow(['a','b'])\n",
    "pickle.dump({'secret':42}, open('d.pkl','wb'))\n",
    "```"
   ]
  },
  {
   "cell_type": "markdown",
   "id": "01c5b3fb",
   "metadata": {},
   "source": [
    "### Quick check\n",
    "\n",
    "1. Loading pickle from user input is:\n",
    "  a. safe   b. dangerous\n",
    "\n",
    "2. True / False CSV keeps type information.\n",
    "\n",
    "<details><summary>Answer key</summary>\n",
    "\n",
    "1. **b**.\n",
    "2. **False**.\n",
    "\n",
    "</details>"
   ]
  },
  {
   "cell_type": "markdown",
   "id": "0cd716b0",
   "metadata": {},
   "source": [
    "## 16. Copying, moving, and renaming files"
   ]
  },
  {
   "cell_type": "markdown",
   "id": "70f4b49e",
   "metadata": {},
   "source": [
    "`shutil.copy2` copies with metadata, `shutil.move` moves across devices, `Path.rename` is atomic on same filesystem. Prefer atomic rename for overwriting output."
   ]
  },
  {
   "cell_type": "markdown",
   "id": "4631b9c4",
   "metadata": {},
   "source": [
    "```python\n",
    "from pathlib import Path\n",
    "Path('pi.txt').rename('pi.old')\n",
    "```"
   ]
  },
  {
   "cell_type": "markdown",
   "id": "5cd2441a",
   "metadata": {},
   "source": [
    "### Quick check\n",
    "\n",
    "1. `shutil.move(src, dst)` acts like rename when:\n",
    "  a. same filesystem   b. different devices\n",
    "\n",
    "2. True / False `rename` is always atomic across filesystems.\n",
    "\n",
    "<details><summary>Answer key</summary>\n",
    "\n",
    "1. **a**.\n",
    "2. **False**.\n",
    "\n",
    "</details>"
   ]
  },
  {
   "cell_type": "markdown",
   "id": "926c14b6",
   "metadata": {},
   "source": [
    "## 17. File buffering & flushing"
   ]
  },
  {
   "cell_type": "markdown",
   "id": "fd8deaf1",
   "metadata": {},
   "source": [
    "Python buffers writes; `f.flush()` pushes OS buffer, `os.fsync()` flushes to disk. For logging, open file with `buffering=1` line‑buffering or use `force=True` flush parameter in `print`."
   ]
  },
  {
   "cell_type": "markdown",
   "id": "2de0aadc",
   "metadata": {},
   "source": [
    "```python\n",
    "with open('log.txt','w', buffering=1) as f:\n",
    "    print('hello', file=f, flush=True)\n",
    "```"
   ]
  },
  {
   "cell_type": "markdown",
   "id": "87a40039",
   "metadata": {},
   "source": [
    "### Quick check\n",
    "\n",
    "1. Calling `f.flush()` guarantees bytes on disk?\n",
    "  a. yes   b. no\n",
    "\n",
    "2. True / False `print(..., flush=True)` calls `f.flush()` under the hood.\n",
    "\n",
    "<details><summary>Answer key</summary>\n",
    "\n",
    "1. **b** – still in OS page cache.\n",
    "2. **True**.\n",
    "\n",
    "</details>"
   ]
  }
 ],
 "metadata": {
  "kernelspec": {
   "display_name": "Python 3 (ipykernel)",
   "language": "python",
   "name": "python3"
  },
  "language_info": {
   "codemirror_mode": {
    "name": "ipython",
    "version": 3
   },
   "file_extension": ".py",
   "mimetype": "text/x-python",
   "name": "python",
   "nbconvert_exporter": "python",
   "pygments_lexer": "ipython3",
   "version": "3.13.3"
  }
 },
 "nbformat": 4,
 "nbformat_minor": 5
}
