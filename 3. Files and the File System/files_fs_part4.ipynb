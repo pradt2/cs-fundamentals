{
 "cells": [
  {
   "cell_type": "markdown",
   "id": "87b04fd1",
   "metadata": {},
   "source": [
    "## 18. Random access with `seek()` / `tell()`"
   ]
  },
  {
   "cell_type": "markdown",
   "id": "756c192d",
   "metadata": {},
   "source": [
    "Files are like byte arrays. `f.seek(offset, whence)` moves the cursor; `whence` 0 = start, 1 = current, 2 = end. Useful for fixed‑size records or editing headers."
   ]
  },
  {
   "cell_type": "markdown",
   "id": "ed4e6e40",
   "metadata": {},
   "source": [
    "```python\n",
    "with open('demo.bin','wb+') as f:\n",
    "    f.write(b'HELLOworld')\n",
    "    f.seek(5)\n",
    "    f.write(b'WORLD')\n",
    "    f.seek(0)\n",
    "    print(f.read())  # b'HELLOWORLD'\n",
    "```"
   ]
  },
  {
   "cell_type": "markdown",
   "id": "470f9698",
   "metadata": {},
   "source": [
    "### Quick check\n",
    "\n",
    "1. `tell()` returns:\n",
    "  a. bytes remaining   b. current offset\n",
    "\n",
    "2. True / False `seek(-1, 2)` moves to last byte.\n",
    "\n",
    "<details><summary>Answer key</summary>\n",
    "\n",
    "1. **b**.\n",
    "2. **True**.\n",
    "\n",
    "</details>"
   ]
  },
  {
   "cell_type": "markdown",
   "id": "51597380",
   "metadata": {},
   "source": [
    "## 19. Memory‑mapped files (`mmap`)"
   ]
  },
  {
   "cell_type": "markdown",
   "id": "42b8cbbd",
   "metadata": {},
   "source": [
    "`mmap.mmap()` maps a file into memory → random access to big files without reading all bytes. Changes in slice mutate file. Works only on real files, not stdin."
   ]
  },
  {
   "cell_type": "markdown",
   "id": "edab5138",
   "metadata": {},
   "source": [
    "```python\n",
    "import mmap, os\n",
    "with open('big.txt','wb+') as f:\n",
    "    f.truncate(10)\n",
    "    mm = mmap.mmap(f.fileno(), 0)\n",
    "    mm[0:4] = b'data'\n",
    "    mm.flush()\n",
    "    mm.close()\n",
    "print(open('big.txt','rb').read())\n",
    "```"
   ]
  },
  {
   "cell_type": "markdown",
   "id": "8289de01",
   "metadata": {},
   "source": [
    "### Quick check\n",
    "\n",
    "1. Memory maps can exceed RAM?\n",
    "  a. yes   b. no\n",
    "\n",
    "2. True / False Closing mmap writes changes to disk.\n",
    "\n",
    "<details><summary>Answer key</summary>\n",
    "\n",
    "1. **a** – OS pages in/out.\n",
    "2. **True**.\n",
    "\n",
    "</details>"
   ]
  },
  {
   "cell_type": "markdown",
   "id": "e872f1b1",
   "metadata": {},
   "source": [
    "## 20. File locking basics"
   ]
  },
  {
   "cell_type": "markdown",
   "id": "383db54c",
   "metadata": {},
   "source": [
    "Multiple writers risk corruption. Use OS locks: `fcntl.flock` on Unix, `msvcrt.locking` on Windows, or cross‑platform libs like `portalocker`."
   ]
  },
  {
   "cell_type": "markdown",
   "id": "fdd22b27",
   "metadata": {},
   "source": [
    "```python\n",
    "import portalocker, time\n",
    "with open('lock.txt','w') as f:\n",
    "    portalocker.lock(f, portalocker.LOCK_EX)\n",
    "    f.write('exclusive')\n",
    "    time.sleep(1)\n",
    "    portalocker.unlock(f)\n",
    "```"
   ]
  },
  {
   "cell_type": "markdown",
   "id": "24b18c58",
   "metadata": {},
   "source": [
    "### Quick check\n",
    "\n",
    "1. Advisory lock means:\n",
    "  a. kernel enforced   b. cooperative\n",
    "\n",
    "2. True / False Windows and Unix use same lock API.\n",
    "\n",
    "<details><summary>Answer key</summary>\n",
    "\n",
    "1. **b** – other processes must honor.\n",
    "2. **False**.\n",
    "\n",
    "</details>"
   ]
  },
  {
   "cell_type": "markdown",
   "id": "206d4c2a",
   "metadata": {},
   "source": [
    "## 21. Streaming large files with chunked reads"
   ]
  },
  {
   "cell_type": "markdown",
   "id": "b3bed341",
   "metadata": {},
   "source": [
    "Read in chunks to avoid memory blowup: `for chunk in iter(lambda: f.read(8192), b''):`. Combine with gzip or upload APIs."
   ]
  },
  {
   "cell_type": "markdown",
   "id": "f2eeff98",
   "metadata": {},
   "source": [
    "```python\n",
    "total=0\n",
    "with open('big.txt','rb') as f:\n",
    "    for chunk in iter(lambda: f.read(4096), b''):\n",
    "        total += len(chunk)\n",
    "print('bytes', total)\n",
    "```"
   ]
  },
  {
   "cell_type": "markdown",
   "id": "8991d93b",
   "metadata": {},
   "source": [
    "### Quick check\n",
    "\n",
    "1. Chunk read loop stops when `read()` returns:\n",
    "  a. None   b. b''\n",
    "\n",
    "2. True / False `readinto()` fills existing buffer to avoid allocation.\n",
    "\n",
    "<details><summary>Answer key</summary>\n",
    "\n",
    "1. **b**.\n",
    "2. **True**.\n",
    "\n",
    "</details>"
   ]
  },
  {
   "cell_type": "markdown",
   "id": "b7922e6c",
   "metadata": {},
   "source": [
    "## 22. Compression on the fly"
   ]
  },
  {
   "cell_type": "markdown",
   "id": "dd5b1144",
   "metadata": {},
   "source": [
    "`gzip.open`, `bz2.open`, `lzma.open` act like `open()` but compress  transparently. Or use `tarfile`/`zipfile` for archives."
   ]
  },
  {
   "cell_type": "markdown",
   "id": "256ed84f",
   "metadata": {},
   "source": [
    "```python\n",
    "import gzip\n",
    "with gzip.open('hello.gz','wt') as g:\n",
    "    g.write('hello world')\n",
    "print(gzip.open('hello.gz','rt').read())\n",
    "```"
   ]
  },
  {
   "cell_type": "markdown",
   "id": "d7c9169a",
   "metadata": {},
   "source": [
    "### Quick check\n",
    "\n",
    "1. Writing text to gzip requires mode:\n",
    "  a. 'wb'   b. 'wt'\n",
    "\n",
    "2. True / False `zipfile` preserves file permissions by default.\n",
    "\n",
    "<details><summary>Answer key</summary>\n",
    "\n",
    "1. **b**.\n",
    "2. **False** – permissions lost unless set.\n",
    "\n",
    "</details>"
   ]
  },
  {
   "cell_type": "markdown",
   "id": "fa56522d",
   "metadata": {},
   "source": [
    "## 23. Symbolic vs. hard links"
   ]
  },
  {
   "cell_type": "markdown",
   "id": "12133577",
   "metadata": {},
   "source": [
    "Symlink points to pathname; hard link points to inode (same file entry). Deleting original breaks symlink but not hard link."
   ]
  },
  {
   "cell_type": "markdown",
   "id": "1f5b4575",
   "metadata": {},
   "source": [
    "```bash\n",
    "ln file1 original.txt\n",
    "ln -s original.txt alias.txt\n",
    "```"
   ]
  },
  {
   "cell_type": "markdown",
   "id": "02145c86",
   "metadata": {},
   "source": [
    "### Quick check\n",
    "\n",
    "1. Which can cross filesystem boundaries?\n",
    "  a. hard link   b. symlink\n",
    "\n",
    "2. True / False Removing original file keeps hard link data.\n",
    "\n",
    "<details><summary>Answer key</summary>\n",
    "\n",
    "1. **b**.\n",
    "2. **True** – inode lives until last link removed.\n",
    "\n",
    "</details>"
   ]
  }
 ],
 "metadata": {},
 "nbformat": 4,
 "nbformat_minor": 5
}
