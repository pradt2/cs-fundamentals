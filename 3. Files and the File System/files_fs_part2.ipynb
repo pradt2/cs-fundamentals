{
 "cells": [
  {
   "cell_type": "markdown",
   "id": "2c47998e",
   "metadata": {},
   "source": [
    "## 7. Writing numbers and other data as strings"
   ]
  },
  {
   "cell_type": "markdown",
   "id": "fbf004b9",
   "metadata": {},
   "source": [
    "Files store **bytes**; numbers must be converted to text or binary first. Use `str()`, f‑strings, or `json.dumps` for text. Writing a float directly without conversion raises `TypeError`. Binary protocols (struct, numpy) store raw bytes but require matching read logic."
   ]
  },
  {
   "cell_type": "markdown",
   "id": "a747a3e2",
   "metadata": {},
   "source": [
    "```python\n",
    "pi = 3.14159\n",
    "with open('pi.txt', 'w') as f:\n",
    "    f.write(f'{pi:.4f}\\n')  # text\n",
    "\n",
    "import struct\n",
    "with open('pi.bin', 'wb') as b:\n",
    "    b.write(struct.pack('<d', pi))  # little‑endian float64\n",
    "```"
   ]
  },
  {
   "cell_type": "markdown",
   "id": "ca2f5341",
   "metadata": {},
   "source": [
    "### Quick check\n",
    "\n",
    "1. True / False `f.write(3.14)` succeeds in text mode.\n",
    "\n",
    "2. Binary float written with `struct.pack('<d', x)` uses ___ bytes?\n",
    "  a. 4   b. 8\n",
    "\n",
    "<details><summary>Answer key</summary>\n",
    "\n",
    "1. **False** – must be str or bytes.\n",
    "2. **b** – 64‑bit float.\n",
    "\n",
    "</details>"
   ]
  },
  {
   "cell_type": "markdown",
   "id": "61b9766b",
   "metadata": {},
   "source": [
    "## 8. Basic file errors and safe patterns"
   ]
  },
  {
   "cell_type": "markdown",
   "id": "f63d8dd2",
   "metadata": {},
   "source": [
    "Typical exceptions:\n",
    "* `FileNotFoundError` – wrong path;\n",
    "* `PermissionError` – lacking rights;\n",
    "* `IsADirectoryError` – path is dir.  \n",
    "Wrap risky operations with `try/except` and give helpful messages."
   ]
  },
  {
   "cell_type": "markdown",
   "id": "109f3566",
   "metadata": {},
   "source": [
    "```python\n",
    "from pathlib import Path\n",
    "p = Path('missing.txt')\n",
    "try:\n",
    "    data = p.read_text()\n",
    "except FileNotFoundError:\n",
    "    print('File not found — create placeholder')\n",
    "    p.write_text('')\n",
    "```"
   ]
  },
  {
   "cell_type": "markdown",
   "id": "aca93eb6",
   "metadata": {},
   "source": [
    "### Quick check\n",
    "\n",
    "1. `open('/root/x')` as non‑root likely raises:\n",
    "  a. PermissionError   b. FileNotFoundError\n",
    "\n",
    "2. True / False Catching bare `Exception` is preferred to specific errors.\n",
    "\n",
    "<details><summary>Answer key</summary>\n",
    "\n",
    "1. **a**.\n",
    "2. **False** – too broad.\n",
    "\n",
    "</details>"
   ]
  },
  {
   "cell_type": "markdown",
   "id": "abfacec5",
   "metadata": {},
   "source": [
    "## 9. Manipulating paths with `os.path`"
   ]
  },
  {
   "cell_type": "markdown",
   "id": "304f6ece",
   "metadata": {},
   "source": [
    "`os.path.join`, `dirname`, `basename`, `splitext` work on **strings**. They’re cross‑platform: use the correct separator automatically. Legacy code uses them; modern code prefers `pathlib`."
   ]
  },
  {
   "cell_type": "markdown",
   "id": "d896dc07",
   "metadata": {},
   "source": [
    "```python\n",
    "import os\n",
    "folder = os.path.dirname(__file__)\n",
    "file = os.path.join(folder, 'data', 'cats.csv')\n",
    "root, ext = os.path.splitext(file)\n",
    "print(file, ext)\n",
    "```"
   ]
  },
  {
   "cell_type": "markdown",
   "id": "68c09fe9",
   "metadata": {},
   "source": [
    "### Quick check\n",
    "\n",
    "1. `os.path.join('a','/b')` returns:\n",
    "  a. 'a/b'   b. '/b'\n",
    "\n",
    "2. True / False `splitext('image.tar.gz')` returns ext '.gz'.\n",
    "\n",
    "<details><summary>Answer key</summary>\n",
    "\n",
    "1. **b** – absolute component discards previous parts.\n",
    "2. **True** – treats '.tar' as part of base.\n",
    "\n",
    "</details>"
   ]
  },
  {
   "cell_type": "markdown",
   "id": "cdc812cd",
   "metadata": {},
   "source": [
    "## 10. Modern alternative: `pathlib.Path`"
   ]
  },
  {
   "cell_type": "markdown",
   "id": "7f9af3f2",
   "metadata": {},
   "source": [
    "`pathlib` offers **object‑oriented** paths with convenient methods: `Path.cwd()`, `.exists()`, `.read_text()`, operator `/` for join. It’s now the recommended API."
   ]
  },
  {
   "cell_type": "markdown",
   "id": "3005e708",
   "metadata": {},
   "source": [
    "```python\n",
    "from pathlib import Path\n",
    "p = Path.cwd() / 'docs' / 'index.html'\n",
    "print(p, p.suffix, p.parent)\n",
    "```"
   ]
  },
  {
   "cell_type": "markdown",
   "id": "f6078572",
   "metadata": {},
   "source": [
    "### Quick check\n",
    "\n",
    "1. `Path('a') / 'b' / 'c.txt'` builds:\n",
    "  a. 'a/b/c.txt'   b. 'a'\n",
    "\n",
    "2. True / False `Path('x').exists()` performs disk IO.\n",
    "\n",
    "<details><summary>Answer key</summary>\n",
    "\n",
    "1. **a**.\n",
    "2. **True** – stats the filesystem.\n",
    "\n",
    "</details>"
   ]
  },
  {
   "cell_type": "markdown",
   "id": "09595f16",
   "metadata": {},
   "source": [
    "## 11. Creating and removing directories"
   ]
  },
  {
   "cell_type": "markdown",
   "id": "2d64d9ab",
   "metadata": {},
   "source": [
    "`Path.mkdir(parents=True, exist_ok=True)` creates nested dirs safely. Delete with `.rmdir()` (empty) or `shutil.rmtree()` (recursive). Beware: `rmtree` is irreversible."
   ]
  },
  {
   "cell_type": "markdown",
   "id": "ee4ea862",
   "metadata": {},
   "source": [
    "```python\n",
    "from pathlib import Path, PurePath\n",
    "tmp = Path('build/output')\n",
    "tmp.mkdir(parents=True, exist_ok=True)\n",
    "print('created', tmp.resolve())\n",
    "```"
   ]
  },
  {
   "cell_type": "markdown",
   "id": "e9789d3b",
   "metadata": {},
   "source": [
    "### Quick check\n",
    "\n",
    "1. Removing non‑empty dir with `Path.rmdir()` raises:\n",
    "  a. OSError   b. silently succeeds\n",
    "\n",
    "2. True / False `mkdir(exist_ok=False)` overwrites existing dir.\n",
    "\n",
    "<details><summary>Answer key</summary>\n",
    "\n",
    "1. **a**.\n",
    "2. **False** – raises FileExistsError.\n",
    "\n",
    "</details>"
   ]
  },
  {
   "cell_type": "markdown",
   "id": "db850dfd",
   "metadata": {},
   "source": [
    "## 12. Glob patterns and recursive search"
   ]
  },
  {
   "cell_type": "markdown",
   "id": "fe610905",
   "metadata": {},
   "source": [
    "`Path.glob('*.py')` lists children matching pattern. `rglob('**/*.csv')` searches recursively. Use for build scripts, cleanup tasks, small file sets; for millions of files consider `os.scandir`."
   ]
  },
  {
   "cell_type": "markdown",
   "id": "46e5a0f7",
   "metadata": {},
   "source": [
    "```python\n",
    "from pathlib import Path\n",
    "print(list(Path('.').glob('*.ipynb')))\n",
    "```"
   ]
  },
  {
   "cell_type": "markdown",
   "id": "2494df30",
   "metadata": {},
   "source": [
    "### Quick check\n",
    "\n",
    "1. `Path('.').rglob('*.md')` includes hidden dirs?\n",
    "  a. yes   b. no\n",
    "\n",
    "2. True / False Glob results are unsorted.\n",
    "\n",
    "<details><summary>Answer key</summary>\n",
    "\n",
    "1. **a** – rglob doesn’t skip hidden by default.\n",
    "2. **True**.\n",
    "\n",
    "</details>"
   ]
  }
 ],
 "metadata": {
  "kernelspec": {
   "display_name": "Python 3 (ipykernel)",
   "language": "python",
   "name": "python3"
  },
  "language_info": {
   "codemirror_mode": {
    "name": "ipython",
    "version": 3
   },
   "file_extension": ".py",
   "mimetype": "text/x-python",
   "name": "python",
   "nbconvert_exporter": "python",
   "pygments_lexer": "ipython3",
   "version": "3.13.3"
  }
 },
 "nbformat": 4,
 "nbformat_minor": 5
}
