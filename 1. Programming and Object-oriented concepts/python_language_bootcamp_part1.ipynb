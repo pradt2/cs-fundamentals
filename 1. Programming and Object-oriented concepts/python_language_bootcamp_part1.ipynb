{
 "cells": [
  {
   "cell_type": "markdown",
   "id": "390e3786",
   "metadata": {},
   "source": [
    "## 1. Python program anatomy & indentation"
   ]
  },
  {
   "cell_type": "markdown",
   "id": "a01a4983",
   "metadata": {},
   "source": [
    "Python relies on *significant whitespace*: the indentation you see is the\n",
    "same indentation the interpreter uses to decide where a block starts and ends.\n",
    "That keeps code visually tidy, but can break when tabs and spaces are mixed or\n",
    "indentation depth varies unintentionally (common when pasting code from the web).\n",
    "A good editor and a linter (`ruff`/`flake8`) will warn you; running `python -tt`\n",
    "turns mixed tabs/spaces into an error."
   ]
  },
  {
   "cell_type": "code",
   "execution_count": null,
   "id": "024e0b9c",
   "metadata": {},
   "outputs": [],
   "source": [
    "# indentation_demo.py\n",
    "def greet(name):\n",
    "    if name:\n",
    "        print('Hello,', name)\n",
    "    # Uncomment next line and shift left two spaces to trigger IndentationError\n",
    "    #   print('Bad indent')\n",
    "\n",
    "greet('Ada')"
   ]
  },
  {
   "cell_type": "markdown",
   "id": "493f9faa",
   "metadata": {},
   "source": [
    "### Quick check\n",
    "\n",
    "1. T / F Indentation is cosmetic in Python.\n",
    "\n",
    "2. Which action is **most** likely to raise `IndentationError`?\n",
    "  a. Adding blank lines between functions\n",
    "  b. Mixing tabs and spaces inside one block\n",
    "  c. Using two‑space indents consistently everywhere\n",
    "\n",
    "<details><summary>Answer key</summary>\n",
    "\n",
    "1. **False** — indentation controls block structure.\n",
    "2. **b** — mixing tabs and spaces confuses Python’s indentation count.\n",
    "\n",
    "</details>"
   ]
  },
  {
   "cell_type": "markdown",
   "id": "5c8c071f",
   "metadata": {},
   "source": [
    "## 2. Variables, assignment, and dynamic typing"
   ]
  },
  {
   "cell_type": "markdown",
   "id": "daca97d1",
   "metadata": {},
   "source": [
    "A *variable* in Python is just a label bound to an object; the **object** has the\n",
    "type, not the name. Rebinding (`x = 5` then `x = 'hi'`) is legal because Python is\n",
    "*dynamically typed*. Use `type()` or `isinstance()` when you truly need to check\n",
    "an object’s type at runtime."
   ]
  },
  {
   "cell_type": "code",
   "execution_count": null,
   "id": "f831b1ee",
   "metadata": {},
   "outputs": [],
   "source": [
    "x = 5\n",
    "print(x, 'is', type(x))\n",
    "\n",
    "x = 'hi'\n",
    "print(x, 'is now', type(x))"
   ]
  },
  {
   "cell_type": "markdown",
   "id": "74616b92",
   "metadata": {},
   "source": [
    "### Quick check\n",
    "\n",
    "1. T / F After `x = 3.14`, the name `x` can only ever refer to a `float`.\n",
    "\n",
    "2. `isinstance(x, str)` returns ____ after the second assignment above.\n",
    "  a. True   b. False\n",
    "\n",
    "<details><summary>Answer key</summary>\n",
    "\n",
    "1. **False** — names can be rebound to any object.\n",
    "2. **a** — `x` now refers to the string `'hi'`.\n",
    "\n",
    "</details>"
   ]
  },
  {
   "cell_type": "markdown",
   "id": "708b187e",
   "metadata": {},
   "source": [
    "## 3. Built‑in scalar types"
   ]
  },
  {
   "cell_type": "markdown",
   "id": "93c23262",
   "metadata": {},
   "source": [
    "Python ships with immutable scalar types: `int`, `float`, `bool`, `str`, and the\n",
    "singleton `NoneType`. Remember that `bool` *is a subclass* of `int`: `True == 1`.\n",
    "Strings are sequences of Unicode code‑points, making text handling painless but\n",
    "sometimes surprising (e.g., combining characters)."
   ]
  },
  {
   "cell_type": "code",
   "execution_count": null,
   "id": "794c5702",
   "metadata": {},
   "outputs": [],
   "source": [
    "print(type(42), type(3.14), type(True), type('hi'), type(None))\n",
    "print(True + True)  # bool behaves like int (prints 2)"
   ]
  },
  {
   "cell_type": "markdown",
   "id": "e0a4a6e9",
   "metadata": {},
   "source": [
    "### Quick check\n",
    "\n",
    "1. T / F `'a' * 3` raises `TypeError`.\n",
    "\n",
    "2. Which value is **truthy**?\n",
    "  a. 0   b. ''   c. []   d. -1\n",
    "\n",
    "<details><summary>Answer key</summary>\n",
    "\n",
    "1. **False** — repetition produces `'aaa'`.\n",
    "2. **d** — any non‑zero number is truthy.\n",
    "\n",
    "</details>"
   ]
  },
  {
   "cell_type": "markdown",
   "id": "7f95cd85",
   "metadata": {},
   "source": [
    "## 4. Basic operators and expressions"
   ]
  },
  {
   "cell_type": "markdown",
   "id": "16db66a9",
   "metadata": {},
   "source": [
    "Operators like `+`, `*`, `%`, `//`, `**`, comparison (`==`, `<`) and logical\n",
    "connectors (`and`, `or`, `not`) work on many types. Beware integer division (`/`)\n",
    "which returns `float`, while `//` floors. Operator precedence can bite: `2 + 3 * 4`\n",
    "is 14, not 20."
   ]
  },
  {
   "cell_type": "code",
   "execution_count": null,
   "id": "1095525a",
   "metadata": {},
   "outputs": [],
   "source": [
    "expr1 = 2 + 3 * 4\n",
    "expr2 = (2 + 3) * 4\n",
    "print(expr1, expr2)"
   ]
  },
  {
   "cell_type": "markdown",
   "id": "89b6ae40",
   "metadata": {},
   "source": [
    "### Quick check\n",
    "\n",
    "1. `2 ** 3 ** 2` equals:\n",
    "  a. 64   b. 512   c. 256\n",
    "\n",
    "2. T / F `1 / 2` returns `0` in Python 3.\n",
    "\n",
    "<details><summary>Answer key</summary>\n",
    "\n",
    "1. **b** — exponentiation is right‑associative: `2 ** (3 ** 2)` → `2 ** 9` → 512.\n",
    "2. **False** — it returns `0.5` (float).\n",
    "\n",
    "</details>"
   ]
  },
  {
   "cell_type": "markdown",
   "id": "eeeccaa5",
   "metadata": {},
   "source": [
    "## 5. `if / elif / else` control flow"
   ]
  },
  {
   "cell_type": "markdown",
   "id": "d2cfbe32",
   "metadata": {},
   "source": [
    "Conditional statements decide which branch runs. Remember that *any* object can be\n",
    "treated as boolean: empty containers are falsey, non‑zero numbers truthy. Use\n",
    "`elif` instead of nested `if` chains for readability."
   ]
  },
  {
   "cell_type": "code",
   "execution_count": null,
   "id": "b13a7531",
   "metadata": {},
   "outputs": [],
   "source": [
    "def sign(x):\n",
    "    if x > 0:\n",
    "        return 'positive'\n",
    "    elif x < 0:\n",
    "        return 'negative'\n",
    "    else:\n",
    "        return 'zero'\n",
    "\n",
    "print([sign(n) for n in (3, 0, -2)])"
   ]
  },
  {
   "cell_type": "markdown",
   "id": "eb86229e",
   "metadata": {},
   "source": [
    "### Quick check\n",
    "\n",
    "1. T / F `if x:` is equivalent to `if bool(x):`.\n",
    "\n",
    "2. Which branch executes for `x = []`?\n",
    "  a. first `if`   b. `elif`   c. `else`\n",
    "\n",
    "<details><summary>Answer key</summary>\n",
    "\n",
    "1. **True** — `if` calls `bool()` implicitly.\n",
    "2. **c** — empty list is falsey, so falls through to `else`.\n",
    "\n",
    "</details>"
   ]
  },
  {
   "cell_type": "markdown",
   "id": "1e9a5958",
   "metadata": {},
   "source": [
    "## 6. `while` and `for` loops"
   ]
  },
  {
   "cell_type": "markdown",
   "id": "cb7cfbc3",
   "metadata": {},
   "source": [
    "`for` loops iterate over *any* iterable: lists, strings, generators, file objects.\n",
    "`while` repeats as long as the condition is truthy. `break` exits the loop, `continue`\n",
    "skips to next iteration. Use `for` when you *know* you’re iterating, and `while`\n",
    "for open‑ended loops."
   ]
  },
  {
   "cell_type": "code",
   "execution_count": null,
   "id": "8316fbf7",
   "metadata": {},
   "outputs": [],
   "source": [
    "# Sum numbers with for\n",
    "total = 0\n",
    "for n in [1, 2, 3]:\n",
    "    total += n\n",
    "print('sum', total)\n",
    "\n",
    "# Simple while countdown\n",
    "n = 3\n",
    "while n > 0:\n",
    "    print(n)\n",
    "    n -= 1"
   ]
  },
  {
   "cell_type": "markdown",
   "id": "4287b493",
   "metadata": {},
   "source": [
    "### Quick check\n",
    "\n",
    "1. T / F A `for` loop over a generator consumes it element by element.\n",
    "\n",
    "2. `continue` inside a loop does what?\n",
    "  a. exits loop entirely  b. skips rest of current body   c. restarts program\n",
    "\n",
    "<details><summary>Answer key</summary>\n",
    "\n",
    "1. **True** — the iterator is advanced lazily.\n",
    "2. **b** — it moves to the next iteration.\n",
    "\n",
    "</details>"
   ]
  },
  {
   "cell_type": "markdown",
   "id": "83502818",
   "metadata": {},
   "source": [
    "## 7. Lists: creation, indexing, slicing"
   ]
  },
  {
   "cell_type": "markdown",
   "id": "9c5ccc0f",
   "metadata": {},
   "source": [
    "Lists are mutable ordered collections. Index from zero; negative indices wrap from\n",
    "the right. Slices (`lst[a:b]`) create *shallow copies*, a common performance gotcha\n",
    "when lists are huge."
   ]
  },
  {
   "cell_type": "code",
   "execution_count": null,
   "id": "0f4357e3",
   "metadata": {},
   "outputs": [],
   "source": [
    "nums = [0, 1, 2, 3, 4]\n",
    "print(nums[0], nums[-1])\n",
    "print(nums[1:4])"
   ]
  },
  {
   "cell_type": "markdown",
   "id": "96baa52f",
   "metadata": {},
   "source": [
    "### Quick check\n",
    "\n",
    "1. T / F `lst[::]` returns the same list object.\n",
    "\n",
    "2. Which mutates the original list?\n",
    "  a. `lst + [99]`  b. `lst.append(99)`\n",
    "\n",
    "<details><summary>Answer key</summary>\n",
    "\n",
    "1. **False** — it returns a *copy*.\n",
    "2. **b** — `append` mutates in place.\n",
    "\n",
    "</details>"
   ]
  },
  {
   "cell_type": "markdown",
   "id": "278a74ac",
   "metadata": {},
   "source": [
    "## 8. Tuples & immutability"
   ]
  },
  {
   "cell_type": "markdown",
   "id": "689cc0fc",
   "metadata": {},
   "source": [
    "Tuples are fixed‑size collections, often used for heterogeneous data or to return\n",
    "multiple results. Because they’re immutable, they can be dict keys and set members,\n",
    "unlike lists."
   ]
  },
  {
   "cell_type": "code",
   "execution_count": null,
   "id": "688dcf3c",
   "metadata": {},
   "outputs": [],
   "source": [
    "point = (3, 4)\n",
    "# point[0] = 5  # → TypeError\n",
    "x, y = point\n",
    "print(x * y)"
   ]
  },
  {
   "cell_type": "markdown",
   "id": "89fb6195",
   "metadata": {},
   "source": [
    "### Quick check\n",
    "\n",
    "1. T / F All objects inside a tuple are automatically immutable.\n",
    "\n",
    "2. Which can be a key in a dict?\n",
    "  a. `(1, 2)`  b. `[1, 2]`\n",
    "\n",
    "<details><summary>Answer key</summary>\n",
    "\n",
    "1. **False** — the *container* is immutable; contained objects may still mutate.\n",
    "2. **a** — only hashable, immutable tuples are allowed.\n",
    "\n",
    "</details>"
   ]
  },
  {
   "cell_type": "markdown",
   "id": "2dba0653",
   "metadata": {},
   "source": [
    "## 9. Dictionaries and sets"
   ]
  },
  {
   "cell_type": "markdown",
   "id": "01ca376d",
   "metadata": {},
   "source": [
    "Dictionaries map keys → values with O(1) average lookup thanks to hashing. Sets are\n",
    "dicts storing only keys. Both ignore order pre‑Python 3.7; now insertion order is\n",
    "preserved but you *shouldn’t rely* on it for algorithmic logic."
   ]
  },
  {
   "cell_type": "code",
   "execution_count": null,
   "id": "b1414cc4",
   "metadata": {},
   "outputs": [],
   "source": [
    "ages = {'Ada': 36, 'Alan': 43}\n",
    "ages['Grace'] = 85\n",
    "print(ages)\n",
    "\n",
    "unique = set('banana')\n",
    "print(unique)"
   ]
  },
  {
   "cell_type": "markdown",
   "id": "e76b1a24",
   "metadata": {},
   "source": [
    "### Quick check\n",
    "\n",
    "1. T / F `{'a':1, 'a':2}` is a valid dict literal.\n",
    "\n",
    "2. Which statement removes `'b'` from set `s` without error if absent?\n",
    "  a. `s.remove('b')`  b. `s.discard('b')`\n",
    "\n",
    "<details><summary>Answer key</summary>\n",
    "\n",
    "1. **True** — later key overrides earlier.\n",
    "2. **b** — `discard` is silent if the element is missing.\n",
    "\n",
    "</details>"
   ]
  },
  {
   "cell_type": "markdown",
   "id": "afc866da",
   "metadata": {},
   "source": [
    "## 10. Comprehensions"
   ]
  },
  {
   "cell_type": "markdown",
   "id": "fe8f1db0",
   "metadata": {},
   "source": [
    "List, dict, and set comprehensions let you build new collections in one readable\n",
    "expression, often faster than `for` + `append`. Gotcha: large comprehensions hold\n",
    "the whole result in memory; for streaming, use generators."
   ]
  },
  {
   "cell_type": "code",
   "execution_count": null,
   "id": "658af53a",
   "metadata": {},
   "outputs": [],
   "source": [
    "squares = [n*n for n in range(5)]\n",
    "print(squares)\n",
    "\n",
    "evens = {n for n in range(10) if n % 2 == 0}\n",
    "print(evens)"
   ]
  },
  {
   "cell_type": "markdown",
   "id": "0d020926",
   "metadata": {},
   "source": [
    "### Quick check\n",
    "\n",
    "1. T / F Comprehensions always produce generators.\n",
    "\n",
    "2. `{k:len(k) for k in ('a','abc')}` evaluates to:\n",
    "  a. `{'a':1, 'abc':3}`  b. `[('a',1), ('abc',3)]`\n",
    "\n",
    "<details><summary>Answer key</summary>\n",
    "\n",
    "1. **False** — they create lists/dicts/sets; generator *expressions* use parentheses.\n",
    "2. **a** — dict comprehension builds a dict.\n",
    "\n",
    "</details>"
   ]
  },
  {
   "cell_type": "markdown",
   "id": "3086b67c",
   "metadata": {},
   "source": [
    "## 11. Defining functions"
   ]
  },
  {
   "cell_type": "markdown",
   "id": "9b0ccf5d",
   "metadata": {},
   "source": [
    "Functions encapsulate reusable logic. They capture surrounding scope (`closure`) and\n",
    "can be passed as objects. A missing `return` yields `None`. Docstrings placed right\n",
    "after the `def` help auto‑generated docs and introspection."
   ]
  },
  {
   "cell_type": "code",
   "execution_count": null,
   "id": "d1afacd7",
   "metadata": {},
   "outputs": [],
   "source": [
    "def add(a, b):\n",
    "    \"\"\"Return the sum of a and b.\"\"\"\n",
    "    return a + b\n",
    "\n",
    "print(add(2, 3))"
   ]
  },
  {
   "cell_type": "markdown",
   "id": "a8c6c63f",
   "metadata": {},
   "source": [
    "### Quick check\n",
    "\n",
    "1. T / F `return` without a value returns `None`.\n",
    "\n",
    "2. Calling `help(add)` prints the docstring:\n",
    "  a. True   b. False\n",
    "\n",
    "<details><summary>Answer key</summary>\n",
    "\n",
    "1. **True**.\n",
    "2. **a** — Python displays the docstring via `help`.\n",
    "\n",
    "</details>"
   ]
  },
  {
   "cell_type": "markdown",
   "id": "d464d2a9",
   "metadata": {},
   "source": [
    "## 12. Function parameters: positional, keyword, defaults"
   ]
  },
  {
   "cell_type": "markdown",
   "id": "1ec1d76b",
   "metadata": {},
   "source": [
    "Parameters can be supplied by position or name; keyword args improve clarity. Default\n",
    "values are evaluated **once** at function definition—mutable defaults like `[]` are a\n",
    "classic gotcha."
   ]
  },
  {
   "cell_type": "code",
   "execution_count": null,
   "id": "d5020064",
   "metadata": {},
   "outputs": [],
   "source": [
    "def append(value, lst=None):\n",
    "    if lst is None:\n",
    "        lst = []\n",
    "    lst.append(value)\n",
    "    return lst\n",
    "\n",
    "print(append(1))\n",
    "print(append(2))"
   ]
  },
  {
   "cell_type": "markdown",
   "id": "92f776bc",
   "metadata": {},
   "source": [
    "### Quick check\n",
    "\n",
    "1. T / F Default arguments are re‑evaluated on each call.\n",
    "\n",
    "2. Which call fails for `def func(a, b): ...`?\n",
    "  a. `func(1, b=2)`  b. `func(a=1, 2)`\n",
    "\n",
    "<details><summary>Answer key</summary>\n",
    "\n",
    "1. **False** — they’re bound at `def` time.\n",
    "2. **b** — positional argument after keyword not allowed.\n",
    "\n",
    "</details>"
   ]
  },
  {
   "cell_type": "markdown",
   "id": "028eced8",
   "metadata": {},
   "source": [
    "## 13. `*args` and `**kwargs`"
   ]
  },
  {
   "cell_type": "markdown",
   "id": "10b900f5",
   "metadata": {},
   "source": [
    "`*args` captures extra positional args as a tuple; `**kwargs` captures extra keyword args\n",
    "as a dict. They enable wrapper functions and flexible APIs, but overuse can hide bugs\n",
    "by swallowing unexpected arguments."
   ]
  },
  {
   "cell_type": "code",
   "execution_count": null,
   "id": "c09e04f8",
   "metadata": {},
   "outputs": [],
   "source": [
    "def demo(*args, **kwargs):\n",
    "    print('args', args)\n",
    "    print('kwargs', kwargs)\n",
    "\n",
    "demo(1, 2, key='value')"
   ]
  },
  {
   "cell_type": "markdown",
   "id": "289e8aa8",
   "metadata": {},
   "source": [
    "### Quick check\n",
    "\n",
    "1. T / F `*args` inside a call (e.g., `func(*items)`) *unpacks* a list into positional args.\n",
    "\n",
    "2. `**kwargs` in a function **definition** captures:\n",
    "  a. positional args  b. keyword args\n",
    "\n",
    "<details><summary>Answer key</summary>\n",
    "\n",
    "1. **True** — star syntax unpacks.\n",
    "2. **b** — it gathers keyword args into a dict.\n",
    "\n",
    "</details>"
   ]
  },
  {
   "cell_type": "markdown",
   "id": "08559b59",
   "metadata": {},
   "source": [
    "## 14. Scope, LEGB rule, `global`, `nonlocal`"
   ]
  },
  {
   "cell_type": "markdown",
   "id": "8478fbab",
   "metadata": {},
   "source": [
    "Python resolves names in four layers: **L**ocal, **E**nclosing, **G**lobal, **B**uilt‑ins.\n",
    "`global` lets you rebind a module‑level name; `nonlocal` rebinds a name in the nearest\n",
    "enclosing (non‑global) scope. Misusing them can make code hard to reason about."
   ]
  },
  {
   "cell_type": "code",
   "execution_count": null,
   "id": "c23fbf09",
   "metadata": {},
   "outputs": [],
   "source": [
    "x = 'global'\n",
    "def outer():\n",
    "    x = 'enclosing'\n",
    "    def inner():\n",
    "        nonlocal x\n",
    "        x = 'modified'\n",
    "    inner()\n",
    "    return x\n",
    "\n",
    "print(outer())  # 'modified'"
   ]
  },
  {
   "cell_type": "markdown",
   "id": "8033c5e6",
   "metadata": {},
   "source": [
    "### Quick check\n",
    "\n",
    "1. T / F Without `nonlocal`, assigning to `x` inside `inner()` creates a new local `x`.\n",
    "\n",
    "2. Which keyword lets a nested function rebind a module‑level variable?\n",
    "  a. `global`  b. `nonlocal`\n",
    "\n",
    "<details><summary>Answer key</summary>\n",
    "\n",
    "1. **True**.\n",
    "2. **a** — `global` targets module scope.\n",
    "\n",
    "</details>"
   ]
  },
  {
   "cell_type": "markdown",
   "id": "f55246ef",
   "metadata": {},
   "source": [
    "## 15. Lambda expressions & first‑class functions"
   ]
  },
  {
   "cell_type": "markdown",
   "id": "5d371a42",
   "metadata": {},
   "source": [
    "Functions are objects; you can store them in variables, pass them around, and return\n",
    "them. `lambda` creates small anonymous functions but should remain one‑liners for\n",
    "clarity—complex lambdas hurt readability."
   ]
  },
  {
   "cell_type": "code",
   "execution_count": null,
   "id": "96b67db8",
   "metadata": {},
   "outputs": [],
   "source": [
    "add = lambda a, b: a + b\n",
    "print(add(2, 3))\n",
    "\n",
    "def apply(f, x):\n",
    "    return f(x)\n",
    "\n",
    "print(apply(lambda v: v**2, 4))"
   ]
  },
  {
   "cell_type": "markdown",
   "id": "b7fd65f9",
   "metadata": {},
   "source": [
    "### Quick check\n",
    "\n",
    "1. T / F A `lambda` can contain multiple statements.\n",
    "\n",
    "2. Using a `lambda` here increases readability:\n",
    "  a. mapping simple key funcs  b. implementing multi‑step logic\n",
    "\n",
    "<details><summary>Answer key</summary>\n",
    "\n",
    "1. **False** — only expressions allowed.\n",
    "2. **a** — small one‑liners like `key=lambda t: t[1]` fit well.\n",
    "\n",
    "</details>"
   ]
  },
  {
   "cell_type": "markdown",
   "id": "c83c58ac",
   "metadata": {},
   "source": [
    "## 16. Docstrings & interactive help"
   ]
  },
  {
   "cell_type": "markdown",
   "id": "3bee42bb",
   "metadata": {},
   "source": [
    "Triple‑quoted strings placed immediately after `def`, `class`, or module start become\n",
    "**docstrings**, accessible via `obj.__doc__` and used by `help()`, IDEs, and Sphinx.\n",
    "Well‑written docstrings speed onboarding and debugging."
   ]
  },
  {
   "cell_type": "code",
   "execution_count": null,
   "id": "e906e7cb",
   "metadata": {},
   "outputs": [],
   "source": [
    "def area(r):\n",
    "    \"\"\"Return area of a circle with radius *r* (float).\"\"\"\n",
    "    from math import pi\n",
    "    return pi * r * r\n",
    "\n",
    "print(area.__doc__)"
   ]
  },
  {
   "cell_type": "markdown",
   "id": "83815173",
   "metadata": {},
   "source": [
    "### Quick check\n",
    "\n",
    "1. T / F A docstring is required for Python to run the function.\n",
    "\n",
    "2. `help(area)` prints:\n",
    "  a. Function signature and doc  b. Nothing\n",
    "\n",
    "<details><summary>Answer key</summary>\n",
    "\n",
    "1. **False** — but missing docs slow teams.\n",
    "2. **a** — `help` shows signature + docstring.\n",
    "\n",
    "</details>"
   ]
  },
  {
   "cell_type": "markdown",
   "id": "2ba40bf9",
   "metadata": {},
   "source": [
    "## 17. Import mechanics & module search path"
   ]
  },
  {
   "cell_type": "markdown",
   "id": "2d5de1ac",
   "metadata": {},
   "source": [
    "`import` first checks `sys.modules`, then the directories listed in `sys.path`.\n",
    "Name collisions or relative‑import mistakes can lead to importing the wrong module.\n",
    "Use `python -m` to run a module as a script while preserving package semantics."
   ]
  },
  {
   "cell_type": "code",
   "execution_count": null,
   "id": "2c7e8694",
   "metadata": {},
   "outputs": [],
   "source": [
    "import sys, pprint\n",
    "pprint.pp(sys.path[:3])  # first three search dirs"
   ]
  },
  {
   "cell_type": "markdown",
   "id": "b04e6384",
   "metadata": {},
   "source": [
    "### Quick check\n",
    "\n",
    "1. T / F `import mymodule` executes the module’s top‑level code only once per process.\n",
    "\n",
    "2. Running `python -m package.module` sets `__name__` inside to:\n",
    "  a. `'__main__'`  b. `'package.module'`\n",
    "\n",
    "<details><summary>Answer key</summary>\n",
    "\n",
    "1. **True** — subsequent imports reuse cached module.\n",
    "2. **a** — it runs as script, so `__name__ == '__main__'`.\n",
    "\n",
    "</details>"
   ]
  },
  {
   "cell_type": "markdown",
   "id": "9200bafc",
   "metadata": {},
   "source": [
    "## 18. The `if __name__ == '__main__'` idiom"
   ]
  },
  {
   "cell_type": "markdown",
   "id": "cdd165e2",
   "metadata": {},
   "source": [
    "When you execute a file directly, Python sets `__name__` to `'__main__'`. When the\n",
    "same file is imported, `__name__` becomes the module’s name. Guarding test or demo\n",
    "code under `if __name__ == '__main__':` keeps modules reusable and side‑effect free."
   ]
  },
  {
   "cell_type": "code",
   "execution_count": null,
   "id": "cee17498",
   "metadata": {},
   "outputs": [],
   "source": [
    "# temperature.py\n",
    "def c_to_f(c):\n",
    "    return c * 9/5 + 32\n",
    "\n",
    "if __name__ == '__main__':\n",
    "    for c in (-40, 0, 100):\n",
    "        print(c, '→', c_to_f(c))"
   ]
  },
  {
   "cell_type": "markdown",
   "id": "3290f2c6",
   "metadata": {},
   "source": [
    "### Quick check\n",
    "\n",
    "1. T / F Importing `temperature` runs the loop inside the guard.\n",
    "\n",
    "2. Why use the idiom?\n",
    "  a. Faster import times  b. Prevent unwanted side‑effects\n",
    "\n",
    "<details><summary>Answer key</summary>\n",
    "\n",
    "1. **False** — guard blocks execute only when run directly.\n",
    "2. **b** — keeps import silent.\n",
    "\n",
    "</details>"
   ]
  }
 ],
 "metadata": {},
 "nbformat": 4,
 "nbformat_minor": 5
}
