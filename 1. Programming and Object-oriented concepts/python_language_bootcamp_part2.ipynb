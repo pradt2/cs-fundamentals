{
 "cells": [
  {
   "cell_type": "markdown",
   "id": "cec60d03",
   "metadata": {},
   "source": [
    "## 19. Packages, `__init__.py`, and namespace packages"
   ]
  },
  {
   "cell_type": "markdown",
   "id": "ee597eff",
   "metadata": {},
   "source": [
    "A *package* is just a folder placed on `sys.path` and containing an `__init__.py` file. Importing `import pack.mod` executes `pack/__init__.py` first, then `pack/mod.py`.  A missing `__init__.py` turns the folder into a *namespace package*—handy for splitting large libs across repos but still letting you `import mypkg.sub` anywhere. Common gotcha: two folders of the same package name earlier on `sys.path` may shadow each other."
   ]
  },
  {
   "cell_type": "code",
   "execution_count": null,
   "id": "f0d773fd",
   "metadata": {},
   "outputs": [],
   "source": [
    "# Simulate a tiny package at runtime for demo purposes\n",
    "import types, sys\n",
    "mypkg = types.ModuleType('mypkg')\n",
    "mypkg.__path__ = []  # mark as package\n",
    "def _hello():\n",
    "    return 'hi from mypkg'\n",
    "mypkg.hello = _hello\n",
    "sys.modules['mypkg'] = mypkg\n",
    "\n",
    "import mypkg\n",
    "print(mypkg.hello())"
   ]
  },
  {
   "cell_type": "markdown",
   "id": "3febba0a",
   "metadata": {},
   "source": [
    "### Quick check\n",
    "\n",
    "1. T / F `import pack` executes files inside every directory named `pack` on `sys.path`.\n",
    "\n",
    "2. What does **absence** of `__init__.py` create?\n",
    "  a. regular package  b. namespace package\n",
    "\n",
    "<details><summary>Answer key</summary>\n",
    "\n",
    "1. **False** — only the first matching directory.\n",
    "2. **b** — folder without `__init__.py` becomes namespace package.\n",
    "\n",
    "</details>"
   ]
  },
  {
   "cell_type": "markdown",
   "id": "65e82e99",
   "metadata": {},
   "source": [
    "## 20. Error handling with `try` / `except`"
   ]
  },
  {
   "cell_type": "markdown",
   "id": "de912bc7",
   "metadata": {},
   "source": [
    "Exceptions bubble upward until caught. A narrow `except ValueError` beats the anti‑pattern `except:` which swallows `KeyboardInterrupt` and debugging clues. Use `as err` to inspect the object, log it, or re‑raise."
   ]
  },
  {
   "cell_type": "code",
   "execution_count": null,
   "id": "9569c3b8",
   "metadata": {},
   "outputs": [],
   "source": [
    "try:\n",
    "    int('not‑an‑int')\n",
    "except ValueError as e:\n",
    "    print('Caught:', e)"
   ]
  },
  {
   "cell_type": "markdown",
   "id": "336465ca",
   "metadata": {},
   "source": [
    "### Quick check\n",
    "\n",
    "1. Which except block is safer?\n",
    "  a. `except:`  b. `except Exception:`\n",
    "\n",
    "2. T / F After handling, execution continues **after** the `except` suite.\n",
    "\n",
    "<details><summary>Answer key</summary>\n",
    "\n",
    "1. **b** — at least it lets `SystemExit/KeyboardInterrupt` through.\n",
    "2. **True** — unless you `raise` again.\n",
    "\n",
    "</details>"
   ]
  },
  {
   "cell_type": "markdown",
   "id": "2acfbb77",
   "metadata": {},
   "source": [
    "## 21. `else`, `finally`, and raising custom exceptions"
   ]
  },
  {
   "cell_type": "markdown",
   "id": "411d049a",
   "metadata": {},
   "source": [
    "`else` runs only when no exception fired; useful for code that *depends* on success. `finally` always runs—close files, release locks here. Create domain‑specific errors by subclassing `Exception`."
   ]
  },
  {
   "cell_type": "code",
   "execution_count": null,
   "id": "15eede7c",
   "metadata": {},
   "outputs": [],
   "source": [
    "class NegativeError(ValueError):\n",
    "    pass\n",
    "\n",
    "def sqrt(x):\n",
    "    if x < 0:\n",
    "        raise NegativeError('no negatives')\n",
    "    return x ** 0.5\n",
    "\n",
    "try:\n",
    "    result = sqrt(4)\n",
    "except NegativeError:\n",
    "    result = None\n",
    "else:\n",
    "    print('Success', result)\n",
    "finally:\n",
    "    print('always runs')"
   ]
  },
  {
   "cell_type": "markdown",
   "id": "b9433591",
   "metadata": {},
   "source": [
    "### Quick check\n",
    "\n",
    "1. `else` executes when:\n",
    "  a. exception handled  b. no exception occurred\n",
    "\n",
    "2. T / F `finally` is skipped when process receives `KeyboardInterrupt`.\n",
    "\n",
    "<details><summary>Answer key</summary>\n",
    "\n",
    "1. **b** — only on clean run.\n",
    "2. **False** — it runs before unwinding (unless os.kill exit).\n",
    "\n",
    "</details>"
   ]
  },
  {
   "cell_type": "markdown",
   "id": "4404b669",
   "metadata": {},
   "source": [
    "## 22. Built‑in helpers: `enumerate`, `zip`, `any`, `all`, `sorted`"
   ]
  },
  {
   "cell_type": "markdown",
   "id": "d776ecf2",
   "metadata": {},
   "source": [
    "These tiny functions remove boilerplate loops. `enumerate(lst)` yields `(index,val)` pairs; `zip(a,b)` stops at shortest input; `any()` and `all()` short‑circuit. Use `sorted(iterable, key=func)` instead of `list.sort()` when you need a new list."
   ]
  },
  {
   "cell_type": "code",
   "execution_count": null,
   "id": "ffdc3db4",
   "metadata": {},
   "outputs": [],
   "source": [
    "letters = ['a','b','c']\n",
    "for i, ch in enumerate(letters):\n",
    "    print(i, ch)\n",
    "\n",
    "pairs = list(zip([1,2], ['one','two','three']))\n",
    "print(pairs)\n",
    "print(any(n>3 for n in [1,4,2]))"
   ]
  },
  {
   "cell_type": "markdown",
   "id": "846908fa",
   "metadata": {},
   "source": [
    "### Quick check\n",
    "\n",
    "1. T / F `zip` pads shorter sequences with `None`.\n",
    "\n",
    "2. `any([])` returns:\n",
    "  a. True  b. False\n",
    "\n",
    "<details><summary>Answer key</summary>\n",
    "\n",
    "1. **False** — it truncates.\n",
    "2. **b** — an empty iterable is *Falsey* so `any` returns False.\n",
    "\n",
    "</details>"
   ]
  },
  {
   "cell_type": "markdown",
   "id": "bd052e05",
   "metadata": {},
   "source": [
    "## 23. Iterator protocol: `iter()` / `next()`"
   ]
  },
  {
   "cell_type": "markdown",
   "id": "b84988dd",
   "metadata": {},
   "source": [
    "When Python needs to loop it calls `iter(obj)`; that returns an iterator object with `__next__()`. Calling `next(it)` fetches the next item or raises `StopIteration`. Implementing these two dunders lets *any* object become iterable."
   ]
  },
  {
   "cell_type": "code",
   "execution_count": null,
   "id": "0bfbe58a",
   "metadata": {},
   "outputs": [],
   "source": [
    "class Countdown:\n",
    "    def __init__(self, start):\n",
    "        self.cur = start\n",
    "    def __iter__(self):\n",
    "        return self\n",
    "    def __next__(self):\n",
    "        if self.cur <= 0:\n",
    "            raise StopIteration\n",
    "        self.cur -= 1\n",
    "        return self.cur+1\n",
    "\n",
    "for n in Countdown(3):\n",
    "    print(n)"
   ]
  },
  {
   "cell_type": "markdown",
   "id": "3baadab2",
   "metadata": {},
   "source": [
    "### Quick check\n",
    "\n",
    "1. What triggers `StopIteration` in a for‑loop?\n",
    "  a. exhausted iterator  b. break statement\n",
    "\n",
    "2. T / F `range(3)` returns an iterator directly.\n",
    "\n",
    "<details><summary>Answer key</summary>\n",
    "\n",
    "1. **a** — `for` catches it to end loop.\n",
    "2. **False** — `range` is iterable but not itself an iterator.\n",
    "\n",
    "</details>"
   ]
  },
  {
   "cell_type": "markdown",
   "id": "9bfb4606",
   "metadata": {},
   "source": [
    "## 24. Generator functions and `yield`"
   ]
  },
  {
   "cell_type": "markdown",
   "id": "e91bc38d",
   "metadata": {},
   "source": [
    "When a function contains `yield`, Python builds a *generator object* instead of running immediately. Each call to `next()` resumes where it left off—perfect for streams or infinite sequences."
   ]
  },
  {
   "cell_type": "code",
   "execution_count": null,
   "id": "fcb0fc98",
   "metadata": {},
   "outputs": [],
   "source": [
    "def fib():\n",
    "    a,b = 0,1\n",
    "    while True:\n",
    "        yield a\n",
    "        a,b = b,a+b\n",
    "\n",
    "f = fib()\n",
    "print([next(f) for _ in range(6)])"
   ]
  },
  {
   "cell_type": "markdown",
   "id": "abfe3893",
   "metadata": {},
   "source": [
    "### Quick check\n",
    "\n",
    "1. T / F `return` inside a generator stops iteration with `StopIteration`.\n",
    "\n",
    "2. `yield` inside a loop preserves state between calls?\n",
    "  a. Yes  b. No\n",
    "\n",
    "<details><summary>Answer key</summary>\n",
    "\n",
    "1. **True**.\n",
    "2. **a** — local variables persist.\n",
    "\n",
    "</details>"
   ]
  },
  {
   "cell_type": "markdown",
   "id": "e7d4d17a",
   "metadata": {},
   "source": [
    "## 25. Generator expressions & memory efficiency"
   ]
  },
  {
   "cell_type": "markdown",
   "id": "242924b3",
   "metadata": {},
   "source": [
    "Replace `[x*x for x in big]` with `(x*x for x in big)` to stream values one‑by‑one, saving RAM. Common gotcha: once consumed, the generator is exhausted; you can’t iterate again unless you recreate it."
   ]
  },
  {
   "cell_type": "code",
   "execution_count": null,
   "id": "31adc680",
   "metadata": {},
   "outputs": [],
   "source": [
    "gen = (n*n for n in range(5))\n",
    "print(sum(gen))\n",
    "print(list(gen))  # now empty"
   ]
  },
  {
   "cell_type": "markdown",
   "id": "91bd4f79",
   "metadata": {},
   "source": [
    "### Quick check\n",
    "\n",
    "1. T / F `list(gen)` after `sum(gen)` still has elements.\n",
    "\n",
    "2. Which comprehension holds **all** items in memory?\n",
    "  a. `[x for x in it]`  b. `(x for x in it)`\n",
    "\n",
    "<details><summary>Answer key</summary>\n",
    "\n",
    "1. **False** — generator already exhausted.\n",
    "2. **a** — list‑comprehension builds list.\n",
    "\n",
    "</details>"
   ]
  },
  {
   "cell_type": "markdown",
   "id": "3b7f3611",
   "metadata": {},
   "source": [
    "## 26. `yield from` and generator delegation"
   ]
  },
  {
   "cell_type": "markdown",
   "id": "e05f5a5a",
   "metadata": {},
   "source": [
    "`yield from subgen` forwards values, `.send()`, and exceptions to another generator without boilerplate loops. Great for coroutine pipelines or flattening nested generators."
   ]
  },
  {
   "cell_type": "code",
   "execution_count": null,
   "id": "86b20a7b",
   "metadata": {},
   "outputs": [],
   "source": [
    "def sub():\n",
    "    yield from (1,2,3)\n",
    "    yield 'done'\n",
    "\n",
    "print(list(sub()))"
   ]
  },
  {
   "cell_type": "markdown",
   "id": "29812ab2",
   "metadata": {},
   "source": [
    "### Quick check\n",
    "\n",
    "1. T / F `yield from` handles `StopIteration` automatically.\n",
    "\n",
    "2. Delegation is useful to:\n",
    "  a. duplicate items  b. compose generators\n",
    "\n",
    "<details><summary>Answer key</summary>\n",
    "\n",
    "1. **True**.\n",
    "2. **b** — compose/flatten.\n",
    "\n",
    "</details>"
   ]
  },
  {
   "cell_type": "markdown",
   "id": "b37371e1",
   "metadata": {},
   "source": [
    "## 27. Defining classes & creating instances"
   ]
  },
  {
   "cell_type": "markdown",
   "id": "f6cf8879",
   "metadata": {},
   "source": [
    "Classes bundle data **and** behaviour. `__init__` initialises each instance; omit a return. Use `object` as implicit base in Python 3. A common newbie error is forgetting `self` as first parameter."
   ]
  },
  {
   "cell_type": "code",
   "execution_count": null,
   "id": "085e68af",
   "metadata": {},
   "outputs": [],
   "source": [
    "class Dog:\n",
    "    def __init__(self, name):\n",
    "        self.name = name\n",
    "    def bark(self):\n",
    "        return f'{self.name} says woof!'\n",
    "\n",
    "print(Dog('Fido').bark())"
   ]
  },
  {
   "cell_type": "markdown",
   "id": "d5741f1f",
   "metadata": {},
   "source": [
    "### Quick check\n",
    "\n",
    "1. T / F `__init__` may return a value.\n",
    "\n",
    "2. Which call constructs an instance?\n",
    "  a. `Dog`  b. `Dog('Rex')`\n",
    "\n",
    "<details><summary>Answer key</summary>\n",
    "\n",
    "1. **False** — returning anything raises `TypeError`.\n",
    "2. **b** — call the class.\n",
    "\n",
    "</details>"
   ]
  },
  {
   "cell_type": "markdown",
   "id": "a0ddb2ee",
   "metadata": {},
   "source": [
    "## 28. Instance vs. class variables"
   ]
  },
  {
   "cell_type": "markdown",
   "id": "b85e296c",
   "metadata": {},
   "source": [
    "Variables assigned at class body level are *shared* across all instances; those set as `self.attr` inside `__init__` belong to each object. Accidentally mutating a class‑level list changes it for everyone."
   ]
  },
  {
   "cell_type": "code",
   "execution_count": null,
   "id": "e4f71d21",
   "metadata": {},
   "outputs": [],
   "source": [
    "class Counter:\n",
    "    total = 0  # class var\n",
    "    def __init__(self):\n",
    "        Counter.total += 1\n",
    "\n",
    "c1, c2 = Counter(), Counter()\n",
    "print(Counter.total)"
   ]
  },
  {
   "cell_type": "markdown",
   "id": "8b236d72",
   "metadata": {},
   "source": [
    "### Quick check\n",
    "\n",
    "1. T / F Modifying `Counter.total` inside an instance affects all instances.\n",
    "\n",
    "2. An attribute created **only** with `self.x = 1` lives:\n",
    "  a. on instance  b. on class\n",
    "\n",
    "<details><summary>Answer key</summary>\n",
    "\n",
    "1. **True**.\n",
    "2. **a** — instance dict.\n",
    "\n",
    "</details>"
   ]
  },
  {
   "cell_type": "markdown",
   "id": "e1eda7aa",
   "metadata": {},
   "source": [
    "## 29. Methods and the `self` parameter"
   ]
  },
  {
   "cell_type": "markdown",
   "id": "1b02f204",
   "metadata": {},
   "source": [
    "`self` is just a convention for the *instance being operated on*. Python passes it automatically; forgetting it leads to *TypeError: missing positional ‘self’*."
   ]
  },
  {
   "cell_type": "code",
   "execution_count": null,
   "id": "c783c544",
   "metadata": {},
   "outputs": [],
   "source": [
    "class Box:\n",
    "    def volume(self, w, h, d):\n",
    "        return w*h*d\n",
    "\n",
    "b = Box()\n",
    "print(b.volume(2,3,4))"
   ]
  },
  {
   "cell_type": "markdown",
   "id": "e636cde3",
   "metadata": {},
   "source": [
    "### Quick check\n",
    "\n",
    "1. T / F `self` is a reserved keyword.\n",
    "\n",
    "2. Which call fails?\n",
    "  a. `Box.volume(b,1,2,3)`  b. `b.volume(1,2,3)`  c. `Box.volume(1,2,3)`\n",
    "\n",
    "<details><summary>Answer key</summary>\n",
    "\n",
    "1. **False** — just a naming convention.\n",
    "2. **c** — missing explicit instance.\n",
    "\n",
    "</details>"
   ]
  },
  {
   "cell_type": "markdown",
   "id": "226f551b",
   "metadata": {},
   "source": [
    "## 30. Single inheritance & `super()`"
   ]
  },
  {
   "cell_type": "markdown",
   "id": "b2361886",
   "metadata": {},
   "source": [
    "Inheritance re‑uses behaviour. `super().__init__()` calls the parent initialiser; forgetting it can leave base state uninitialised. In simple single‑parent cases `super()` with no args is fine (Python 3)."
   ]
  },
  {
   "cell_type": "code",
   "execution_count": null,
   "id": "30e817cc",
   "metadata": {},
   "outputs": [],
   "source": [
    "class Animal:\n",
    "    def __init__(self, name):\n",
    "        self.name = name\n",
    "class Cat(Animal):\n",
    "    def __init__(self, name, lives=9):\n",
    "        super().__init__(name)\n",
    "        self.lives = lives\n",
    "\n",
    "print(Cat('Whiskers').name)"
   ]
  },
  {
   "cell_type": "markdown",
   "id": "521f81ce",
   "metadata": {},
   "source": [
    "### Quick check\n",
    "\n",
    "1. T / F `super()` resolves parent using the MRO.\n",
    "\n",
    "2. `super()` inside a subclass without parent `__init__`: \n",
    "  a. is optional  b. raises AttributeError\n",
    "\n",
    "<details><summary>Answer key</summary>\n",
    "\n",
    "1. **True**.\n",
    "2. **a** — if base has no `__init__`, call unnecessary.\n",
    "\n",
    "</details>"
   ]
  },
  {
   "cell_type": "markdown",
   "id": "dd660089",
   "metadata": {},
   "source": [
    "## 31. String representation dunders"
   ]
  },
  {
   "cell_type": "markdown",
   "id": "fca5e7b2",
   "metadata": {},
   "source": [
    "Implement `__str__` for *user‑friendly* output and `__repr__` for *developer* debugging. Guideline: `repr(obj)` should, when feasible, be valid Python code to recreate the object."
   ]
  },
  {
   "cell_type": "code",
   "execution_count": null,
   "id": "5a507697",
   "metadata": {},
   "outputs": [],
   "source": [
    "class Point:\n",
    "    def __init__(self,x,y):\n",
    "        self.x,self.y=x,y\n",
    "    def __str__(self):\n",
    "        return f'({self.x},{self.y})'\n",
    "    __repr__ = __str__\n",
    "\n",
    "p=Point(2,3)\n",
    "print(p)   # -> (2,3)\n",
    "print([p]) # uses repr"
   ]
  },
  {
   "cell_type": "markdown",
   "id": "e8824ec7",
   "metadata": {},
   "source": [
    "### Quick check\n",
    "\n",
    "1. `repr(obj)` is aimed at:\n",
    "  a. end‑user  b. developer\n",
    "\n",
    "2. T / F If `__repr__` missing, Python falls back to `__str__`.\n",
    "\n",
    "<details><summary>Answer key</summary>\n",
    "\n",
    "1. **b**.\n",
    "2. **False** — opposite: `__str__` falls back to `__repr__`.\n",
    "\n",
    "</details>"
   ]
  },
  {
   "cell_type": "markdown",
   "id": "7750eac7",
   "metadata": {},
   "source": [
    "## 32. Emulating collections (`__len__`, `__getitem__`)"
   ]
  },
  {
   "cell_type": "markdown",
   "id": "31a0b943",
   "metadata": {},
   "source": [
    "Implementing these dunders lets custom classes behave like lists/dicts. Useful in data‑science wrappers, config objects, etc. Forgetting `__iter__` forces Python to fallback to repeatedly indexing 0…N until `IndexError`."
   ]
  },
  {
   "cell_type": "code",
   "execution_count": null,
   "id": "3a79199d",
   "metadata": {},
   "outputs": [],
   "source": [
    "class Range2:\n",
    "    def __init__(self, stop):\n",
    "        self.stop=stop\n",
    "    def __len__(self):\n",
    "        return self.stop\n",
    "    def __getitem__(self, index):\n",
    "        if 0<=index<self.stop:\n",
    "            return index\n",
    "        raise IndexError\n",
    "\n",
    "r = Range2(5)\n",
    "print(len(r), r[3])\n",
    "print(list(r))"
   ]
  },
  {
   "cell_type": "markdown",
   "id": "274e4edc",
   "metadata": {},
   "source": [
    "### Quick check\n",
    "\n",
    "1. T / F `for x in r` works without `__iter__` as long as `__len__` and `__getitem__` exist.\n",
    "\n",
    "2. `__len__` must return:\n",
    "  a. int  b. any numeric\n",
    "\n",
    "<details><summary>Answer key</summary>\n",
    "\n",
    "1. **True** — Python uses 0… until IndexError fallback.\n",
    "2. **a** — must be `int`.\n",
    "\n",
    "</details>"
   ]
  },
  {
   "cell_type": "markdown",
   "id": "66089849",
   "metadata": {},
   "source": [
    "## 33. Operator overloading (`__add__`, `__eq__`, …)"
   ]
  },
  {
   "cell_type": "markdown",
   "id": "a64f0582",
   "metadata": {},
   "source": [
    "Custom classes can define arithmetic, comparison, or container operations. Only overload when it makes semantic sense; mismatched behaviour surprises users."
   ]
  },
  {
   "cell_type": "code",
   "execution_count": null,
   "id": "80f076b3",
   "metadata": {},
   "outputs": [],
   "source": [
    "class Vector:\n",
    "    def __init__(self,x,y):\n",
    "        self.x,self.y=x,y\n",
    "    def __add__(self,other):\n",
    "        return Vector(self.x+other.x, self.y+other.y)\n",
    "    def __repr__(self):\n",
    "        return f'Vector({self.x},{self.y})'\n",
    "\n",
    "print(Vector(1,2)+Vector(3,4))"
   ]
  },
  {
   "cell_type": "markdown",
   "id": "c0aeb9cb",
   "metadata": {},
   "source": [
    "### Quick check\n",
    "\n",
    "1. `__eq__` should return:\n",
    "  a. bool  b. any value\n",
    "\n",
    "2. T / F If `__lt__` defined, `sort()` automatically understands `>` comparisons.\n",
    "\n",
    "<details><summary>Answer key</summary>\n",
    "\n",
    "1. **a**.\n",
    "2. **False** — implement full set or use `functools.total_ordering`.\n",
    "\n",
    "</details>"
   ]
  },
  {
   "cell_type": "markdown",
   "id": "4d0f492d",
   "metadata": {},
   "source": [
    "## 34. Properties & `@property`"
   ]
  },
  {
   "cell_type": "markdown",
   "id": "74c8cf2b",
   "metadata": {},
   "source": [
    "`@property` turns attribute access into method calls: compute‑on‑access, validation, lazy loading. Overuse harms performance; use only where invariants matter."
   ]
  },
  {
   "cell_type": "code",
   "execution_count": null,
   "id": "0d23cf04",
   "metadata": {},
   "outputs": [],
   "source": [
    "class Celsius:\n",
    "    def __init__(self,temp):\n",
    "        self._temp=temp\n",
    "    @property\n",
    "    def temp(self):\n",
    "        return self._temp\n",
    "    @temp.setter\n",
    "    def temp(self,value):\n",
    "        if value < -273.15:\n",
    "            raise ValueError('below absolute zero')\n",
    "        self._temp=value\n",
    "\n",
    "c=Celsius(0)\n",
    "c.temp = 25\n",
    "print(c.temp)"
   ]
  },
  {
   "cell_type": "markdown",
   "id": "2c93962b",
   "metadata": {},
   "source": [
    "### Quick check\n",
    "\n",
    "1. T / F `@property` can define read‑only attributes.\n",
    "\n",
    "2. Setter runs when:\n",
    "  a. reading attr  b. assigning attr\n",
    "\n",
    "<details><summary>Answer key</summary>\n",
    "\n",
    "1. **True** — omit setter.\n",
    "2. **b**.\n",
    "\n",
    "</details>"
   ]
  },
  {
   "cell_type": "markdown",
   "id": "7541ebcd",
   "metadata": {},
   "source": [
    "## 35. Class methods vs. static methods"
   ]
  },
  {
   "cell_type": "markdown",
   "id": "e75a60b3",
   "metadata": {},
   "source": [
    "`@classmethod` receives the *class* as first arg (`cls`)—great for alternative constructors. `@staticmethod` gets no implicit first arg; use for utility funcs logically grouped with the class."
   ]
  },
  {
   "cell_type": "code",
   "execution_count": null,
   "id": "89c7acdf",
   "metadata": {},
   "outputs": [],
   "source": [
    "class Pizza:\n",
    "    def __init__(self, size):\n",
    "        self.size=size\n",
    "    @classmethod\n",
    "    def large(cls):\n",
    "        return cls(16)\n",
    "    @staticmethod\n",
    "    def inches_to_cm(inch):\n",
    "        return inch*2.54\n",
    "\n",
    "print(Pizza.large().size)\n",
    "print(Pizza.inches_to_cm(12))"
   ]
  },
  {
   "cell_type": "markdown",
   "id": "d0a1ed48",
   "metadata": {},
   "source": [
    "### Quick check\n",
    "\n",
    "1. T / F `@staticmethod` can access class via `cls`.\n",
    "\n",
    "2. `@classmethod` is invoked on instance?\n",
    "  a. yes  b. also yes (works on both)\n",
    "\n",
    "<details><summary>Answer key</summary>\n",
    "\n",
    "1. **False** — no implicit arg.\n",
    "2. **b** — callable on class *or* instance.\n",
    "\n",
    "</details>"
   ]
  },
  {
   "cell_type": "markdown",
   "id": "a0b91269",
   "metadata": {},
   "source": [
    "## 36. Multiple inheritance & the MRO"
   ]
  },
  {
   "cell_type": "markdown",
   "id": "75474118",
   "metadata": {},
   "source": [
    "When subclassing multiple parents, Python uses the *Method Resolution Order* (C3 linearisation) to decide which method wins. Diagnose with `Class.mro()`. Diamond patterns require cooperative `super()` calls on all classes."
   ]
  },
  {
   "cell_type": "code",
   "execution_count": null,
   "id": "903c9018",
   "metadata": {},
   "outputs": [],
   "source": [
    "class A: pass\n",
    "class B(A): pass\n",
    "class C(A): pass\n",
    "class D(B,C): pass\n",
    "print([cls.__name__ for cls in D.mro()])"
   ]
  },
  {
   "cell_type": "markdown",
   "id": "ab4baaec",
   "metadata": {},
   "source": [
    "### Quick check\n",
    "\n",
    "1. T / F `super()` always calls *first* parent in the tuple.\n",
    "\n",
    "2. MRO ensures:\n",
    "  a. deterministic lookup  b. random lookup\n",
    "\n",
    "<details><summary>Answer key</summary>\n",
    "\n",
    "1. **False** — depends on C3 order.\n",
    "2. **a** — deterministic.\n",
    "\n",
    "</details>"
   ]
  },
  {
   "cell_type": "markdown",
   "id": "b2ca1690",
   "metadata": {},
   "source": [
    "## 37. Composition vs. inheritance (design)"
   ]
  },
  {
   "cell_type": "markdown",
   "id": "9262d6ec",
   "metadata": {},
   "source": [
    "Prefer *has‑a* (composition) over *is‑a* (inheritance) when behaviour is reused but identity differs. Over‑deep inheritance trees lead to fragile coupling. Strategy: compose small classes and expose required subset."
   ]
  },
  {
   "cell_type": "code",
   "execution_count": null,
   "id": "46a6bf54",
   "metadata": {},
   "outputs": [],
   "source": [
    "class Engine:\n",
    "    def start(self):print('vroom')\n",
    "class Car:\n",
    "    def __init__(self):\n",
    "        self.engine=Engine()\n",
    "    def drive(self):\n",
    "        self.engine.start()\n",
    "        print('go')\n",
    "\n",
    "Car().drive()"
   ]
  },
  {
   "cell_type": "markdown",
   "id": "46c91afd",
   "metadata": {},
   "source": [
    "### Quick check\n",
    "\n",
    "1. T / F Composition lets you swap components at runtime.\n",
    "\n",
    "2. Deep inheritance can cause:\n",
    "  a. tight coupling  b. loose coupling\n",
    "\n",
    "<details><summary>Answer key</summary>\n",
    "\n",
    "1. **True**.\n",
    "2. **a**.\n",
    "\n",
    "</details>"
   ]
  }
 ],
 "metadata": {},
 "nbformat": 4,
 "nbformat_minor": 5
}
