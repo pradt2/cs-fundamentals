{
 "cells": [
  {
   "cell_type": "markdown",
   "id": "1a7a53f7",
   "metadata": {},
   "source": [
    "## 38. Descriptor protocol (`__get__`, `__set__`, `__delete__`)"
   ]
  },
  {
   "cell_type": "markdown",
   "id": "442b6747",
   "metadata": {},
   "source": [
    "Descriptors let one object control attribute access of another. `property` and most ORMs are built on this. Gotcha: define them at *class* level, not inside `__init__`, else they act like normal attributes."
   ]
  },
  {
   "cell_type": "code",
   "execution_count": null,
   "id": "74b31eb5",
   "metadata": {},
   "outputs": [],
   "source": [
    "class Positive:\n",
    "    def __get__(self, obj, owner):\n",
    "        return obj._value\n",
    "    def __set__(self, obj, val):\n",
    "        if val < 0: raise ValueError\n",
    "        obj._value = val\n",
    "\n",
    "class Account:\n",
    "    balance = Positive()\n",
    "    def __init__(self, start):\n",
    "        self.balance = start\n",
    "\n",
    "a = Account(10)\n",
    "a.balance = 5\n",
    "print(a.balance)"
   ]
  },
  {
   "cell_type": "markdown",
   "id": "c7f33470",
   "metadata": {},
   "source": [
    "### Quick check\n",
    "\n",
    "1. T / F `obj.attr` triggers `__get__` on the descriptor.\n",
    "\n",
    "2. Writing `self.balance = -1` will:\n",
    "  a. set value  b. raise ValueError\n",
    "\n",
    "<details><summary>Answer key</summary>\n",
    "\n",
    "1. **True**.\n",
    "2. **b**.\n",
    "\n",
    "</details>"
   ]
  },
  {
   "cell_type": "markdown",
   "id": "cbd3f2be",
   "metadata": {},
   "source": [
    "## 39. Context managers: `with`, `__enter__`, `__exit__`"
   ]
  },
  {
   "cell_type": "markdown",
   "id": "a04ed7ec",
   "metadata": {},
   "source": [
    "Context managers guarantee cleanup (closing files, locks) even on exceptions. Implement with the dunders or use `contextlib.contextmanager`."
   ]
  },
  {
   "cell_type": "code",
   "execution_count": null,
   "id": "31b11eb0",
   "metadata": {},
   "outputs": [],
   "source": [
    "from contextlib import contextmanager\n",
    "@contextmanager\n",
    "def tag(name):\n",
    "    print(f'<{name}>')\n",
    "    yield\n",
    "    print(f'</{name}>')\n",
    "\n",
    "with tag('b'): print('bold')"
   ]
  },
  {
   "cell_type": "markdown",
   "id": "d64baa0a",
   "metadata": {},
   "source": [
    "### Quick check\n",
    "\n",
    "1. `__exit__` receives how many exception args?\n",
    "  a. 1  b. 3\n",
    "\n",
    "2. T / F Returning True from `__exit__` suppresses the exception.\n",
    "\n",
    "<details><summary>Answer key</summary>\n",
    "\n",
    "1. **b** — exc_type, exc_val, traceback.\n",
    "2. **True**.\n",
    "\n",
    "</details>"
   ]
  },
  {
   "cell_type": "markdown",
   "id": "859bfee2",
   "metadata": {},
   "source": [
    "## 40. Function and class decorators"
   ]
  },
  {
   "cell_type": "markdown",
   "id": "57438791",
   "metadata": {},
   "source": [
    "Decorators wrap objects to add behaviour: memoization, logging, access control. Use `functools.wraps` to preserve metadata."
   ]
  },
  {
   "cell_type": "code",
   "execution_count": null,
   "id": "46d786f5",
   "metadata": {},
   "outputs": [],
   "source": [
    "from functools import wraps\n",
    "def logger(fn):\n",
    "    @wraps(fn)\n",
    "    def inner(*a, **kw):\n",
    "        print('calling', fn.__name__)\n",
    "        return fn(*a, **kw)\n",
    "    return inner\n",
    "\n",
    "@logger\n",
    "def add(a,b): return a+b\n",
    "\n",
    "print(add(1,2))"
   ]
  },
  {
   "cell_type": "markdown",
   "id": "82eae8ee",
   "metadata": {},
   "source": [
    "### Quick check\n",
    "\n",
    "1. T / F `@decorator` is executed at *import time*.\n",
    "\n",
    "2. `wraps` copies:\n",
    "  a. doc & name  b. nothing\n",
    "\n",
    "<details><summary>Answer key</summary>\n",
    "\n",
    "1. **True** — on function definition.\n",
    "2. **a**.\n",
    "\n",
    "</details>"
   ]
  },
  {
   "cell_type": "markdown",
   "id": "cee71118",
   "metadata": {},
   "source": [
    "## 41. Dynamic attribute hooks (`__getattr__`, `__getattribute__`)"
   ]
  },
  {
   "cell_type": "markdown",
   "id": "31efda71",
   "metadata": {},
   "source": [
    "`__getattr__` runs *after* normal lookup fails; good for lazy loading. `__getattribute__` intercepts **every** attribute access—use with care or risk infinite recursion."
   ]
  },
  {
   "cell_type": "code",
   "execution_count": null,
   "id": "834294fc",
   "metadata": {},
   "outputs": [],
   "source": [
    "class Lazy:\n",
    "    def __getattr__(self, item):\n",
    "        print('loading', item)\n",
    "        value = item.upper()\n",
    "        setattr(self, item, value)\n",
    "        return value\n",
    "\n",
    "obj=Lazy()\n",
    "print(obj.name)\n",
    "print(obj.name)"
   ]
  },
  {
   "cell_type": "markdown",
   "id": "ba7b7e57",
   "metadata": {},
   "source": [
    "### Quick check\n",
    "\n",
    "1. First call prints 'loading', second?\n",
    "  a. prints again  b. cached no print\n",
    "\n",
    "2. T / F Misusing `__getattribute__` can break `super()`.\n",
    "\n",
    "<details><summary>Answer key</summary>\n",
    "\n",
    "1. **b** — attribute now cached.\n",
    "2. **True**.\n",
    "\n",
    "</details>"
   ]
  },
  {
   "cell_type": "markdown",
   "id": "0f8143d6",
   "metadata": {},
   "source": [
    "## 42. `__slots__` and memory optimisation"
   ]
  },
  {
   "cell_type": "markdown",
   "id": "10c5b80c",
   "metadata": {},
   "source": [
    "Adding `__slots__ = ('x', 'y')` removes per‑instance `__dict__`, saving memory in large homogeneous collections. You lose dynamic attribute assignment and some pickling flexibility."
   ]
  },
  {
   "cell_type": "code",
   "execution_count": null,
   "id": "cff163b5",
   "metadata": {},
   "outputs": [],
   "source": [
    "class Point:\n",
    "    __slots__=('x','y')\n",
    "    def __init__(self,x,y):\n",
    "        self.x,self.y=x,y\n",
    "\n",
    "p=Point(1,2)\n",
    "print(p.x)"
   ]
  },
  {
   "cell_type": "markdown",
   "id": "027a33a2",
   "metadata": {},
   "source": [
    "### Quick check\n",
    "\n",
    "1. T / F Instances with `__slots__` have `__dict__` by default.\n",
    "\n",
    "2. Trying `p.z=3` will:\n",
    "  a. succeed  b. AttributeError\n",
    "\n",
    "<details><summary>Answer key</summary>\n",
    "\n",
    "1. **False**.\n",
    "2. **b**.\n",
    "\n",
    "</details>"
   ]
  },
  {
   "cell_type": "markdown",
   "id": "38bdf4e9",
   "metadata": {},
   "source": [
    "## 43. `dataclasses` and `attrs`"
   ]
  },
  {
   "cell_type": "markdown",
   "id": "11a0b87f",
   "metadata": {},
   "source": [
    "`@dataclass` auto‑generates `__init__`, `__repr__`, comparison, and more. Use for plain‑data containers instead of verbose manual classes."
   ]
  },
  {
   "cell_type": "code",
   "execution_count": null,
   "id": "c6b61160",
   "metadata": {},
   "outputs": [],
   "source": [
    "from dataclasses import dataclass\n",
    "@dataclass\n",
    "class Point:\n",
    "    x: int\n",
    "    y: int\n",
    "\n",
    "print(Point(1,2))"
   ]
  },
  {
   "cell_type": "markdown",
   "id": "77ba9ca1",
   "metadata": {},
   "source": [
    "### Quick check\n",
    "\n",
    "1. T / F `@dataclass(frozen=True)` makes instances hashable.\n",
    "\n",
    "2. Default comparison order is:\n",
    "  a. attribute definition order  b. alphabetical\n",
    "\n",
    "<details><summary>Answer key</summary>\n",
    "\n",
    "1. **True**.\n",
    "2. **a**.\n",
    "\n",
    "</details>"
   ]
  },
  {
   "cell_type": "markdown",
   "id": "43a76fbe",
   "metadata": {},
   "source": [
    "## 44. Abstract Base Classes & the `abc` module"
   ]
  },
  {
   "cell_type": "markdown",
   "id": "f9e5753c",
   "metadata": {},
   "source": [
    "ABCs declare required methods without implementation. Registering virtual subclasses allows duck typing with `isinstance(obj, MyABC)`."
   ]
  },
  {
   "cell_type": "code",
   "execution_count": null,
   "id": "27bb342a",
   "metadata": {},
   "outputs": [],
   "source": [
    "from abc import ABC, abstractmethod\n",
    "class Serializer(ABC):\n",
    "    @abstractmethod\n",
    "    def dumps(self, obj): ...\n",
    "\n",
    "class Json(Serializer):\n",
    "    def dumps(self,obj):\n",
    "        import json; return json.dumps(obj)\n",
    "\n",
    "print(Json().dumps({'a':1}))"
   ]
  },
  {
   "cell_type": "markdown",
   "id": "d865e33c",
   "metadata": {},
   "source": [
    "### Quick check\n",
    "\n",
    "1. Instantiating `Serializer()` raises:\n",
    "  a. TypeError  b. ValueError\n",
    "\n",
    "2. T / F A subclass may skip overriding an abstract method.\n",
    "\n",
    "<details><summary>Answer key</summary>\n",
    "\n",
    "1. **a**.\n",
    "2. **False** — must implement all.\n",
    "\n",
    "</details>"
   ]
  },
  {
   "cell_type": "markdown",
   "id": "66119245",
   "metadata": {},
   "source": [
    "## 45. Metaclass basics"
   ]
  },
  {
   "cell_type": "markdown",
   "id": "3d71e4fa",
   "metadata": {},
   "source": [
    "A *metaclass* customises class creation. Rarely needed outside ORMs, plugins, or enforcing constraints. Use `__init_subclass__` for lighter hooks."
   ]
  },
  {
   "cell_type": "code",
   "execution_count": null,
   "id": "1a2c8d06",
   "metadata": {},
   "outputs": [],
   "source": [
    "class AutoName(type):\n",
    "    def __new__(mcls,name,bases,ns):\n",
    "        ns['__qualname__'] = name.lower()\n",
    "        return super().__new__(mcls,name,bases,ns)\n",
    "\n",
    "class Foo(metaclass=AutoName):\n",
    "    pass\n",
    "print(Foo.__qualname__)"
   ]
  },
  {
   "cell_type": "markdown",
   "id": "c6e2bf98",
   "metadata": {},
   "source": [
    "### Quick check\n",
    "\n",
    "1. T / F `type` is itself a metaclass.\n",
    "\n",
    "2. Metaclasses intercept:\n",
    "  a. instance creation  b. class creation\n",
    "\n",
    "<details><summary>Answer key</summary>\n",
    "\n",
    "1. **True**.\n",
    "2. **b**.\n",
    "\n",
    "</details>"
   ]
  },
  {
   "cell_type": "markdown",
   "id": "e1d00e15",
   "metadata": {},
   "source": [
    "## 46. Static type hints & `typing` basics"
   ]
  },
  {
   "cell_type": "markdown",
   "id": "7a27ded2",
   "metadata": {},
   "source": [
    "Type hints help linters (`mypy`, `pyright`) catch bugs without affecting runtime. Annotate variables and function signatures; keep comments in code for gradual adoption."
   ]
  },
  {
   "cell_type": "code",
   "execution_count": null,
   "id": "77a4451b",
   "metadata": {},
   "outputs": [],
   "source": [
    "def greet(name: str) -> str:\n",
    "    return 'Hi ' + name\n",
    "\n",
    "age: int = 42"
   ]
  },
  {
   "cell_type": "markdown",
   "id": "56afefdb",
   "metadata": {},
   "source": [
    "### Quick check\n",
    "\n",
    "1. T / F Type hints change runtime behaviour.\n",
    "\n",
    "2. PEP governing typing is:\n",
    "  a. PEP 484  b. PEP 8\n",
    "\n",
    "<details><summary>Answer key</summary>\n",
    "\n",
    "1. **False**.\n",
    "2. **a**.\n",
    "\n",
    "</details>"
   ]
  },
  {
   "cell_type": "markdown",
   "id": "e621bb50",
   "metadata": {},
   "source": [
    "## 47. Generics & `Protocol`"
   ]
  },
  {
   "cell_type": "markdown",
   "id": "a6b2bf0a",
   "metadata": {},
   "source": [
    "Generic types parameterise containers (`list[int]`). `Protocol` enables structural typing: any object implementing the given attributes satisfies it, even without inheritance."
   ]
  },
  {
   "cell_type": "code",
   "execution_count": null,
   "id": "7db42b8c",
   "metadata": {},
   "outputs": [],
   "source": [
    "from typing import TypeVar, Protocol, Iterable\n",
    "T = TypeVar('T')\n",
    "\n",
    "def first(it: Iterable[T]) -> T:\n",
    "    return next(iter(it))\n",
    "\n",
    "class Sized(Protocol):\n",
    "    def __len__(self) -> int: ...\n",
    "\n",
    "print(first(['a','b']))"
   ]
  },
  {
   "cell_type": "markdown",
   "id": "894a5338",
   "metadata": {},
   "source": [
    "### Quick check\n",
    "\n",
    "1. T / F `Protocol` checks at runtime.\n",
    "\n",
    "2. `list[int]` is available since:\n",
    "  a. Python 3.7  b. 3.9\n",
    "\n",
    "<details><summary>Answer key</summary>\n",
    "\n",
    "1. **False** — static only.\n",
    "2. **b** — PEP 585.\n",
    "\n",
    "</details>"
   ]
  },
  {
   "cell_type": "markdown",
   "id": "5abf966a",
   "metadata": {},
   "source": [
    "## 48. Structural pattern matching (`match` / `case`)"
   ]
  },
  {
   "cell_type": "markdown",
   "id": "9ddb6e10",
   "metadata": {},
   "source": [
    "Introduced in Python 3.10, `match` provides switch‑like semantics with destructuring. Beware *fall‑through* does not exist; cases are checked top‑to‑bottom."
   ]
  },
  {
   "cell_type": "code",
   "execution_count": null,
   "id": "34ce0028",
   "metadata": {},
   "outputs": [],
   "source": [
    "def kind(value):\n",
    "    match value:\n",
    "        case int(): return 'int'\n",
    "        case [x, y]: return 'pair'\n",
    "        case _: return 'other'\n",
    "\n",
    "print(kind([1,2]))"
   ]
  },
  {
   "cell_type": "markdown",
   "id": "dd7aeaa2",
   "metadata": {},
   "source": [
    "### Quick check\n",
    "\n",
    "1. T / F `case _:` works like default.\n",
    "\n",
    "2. Pattern `[x,y]` matches list of length:\n",
    "  a. any  b. 2\n",
    "\n",
    "<details><summary>Answer key</summary>\n",
    "\n",
    "1. **True**.\n",
    "2. **b**.\n",
    "\n",
    "</details>"
   ]
  },
  {
   "cell_type": "markdown",
   "id": "0a25e00b",
   "metadata": {},
   "source": [
    "## 49. Enumerations with `enum.Enum`"
   ]
  },
  {
   "cell_type": "markdown",
   "id": "b4b4ab50",
   "metadata": {},
   "source": [
    "Enums give named constants; iterate, compare identity, and serialize safely. Extending enums later breaks `auto()` numbering, so assign explicit values when stability matters."
   ]
  },
  {
   "cell_type": "code",
   "execution_count": null,
   "id": "15389779",
   "metadata": {},
   "outputs": [],
   "source": [
    "from enum import Enum, auto\n",
    "class Color(Enum):\n",
    "    RED = auto()\n",
    "    GREEN = auto()\n",
    "\n",
    "print(list(Color))"
   ]
  },
  {
   "cell_type": "markdown",
   "id": "08199bbf",
   "metadata": {},
   "source": [
    "### Quick check\n",
    "\n",
    "1. T / F Enum members are singleton objects.\n",
    "\n",
    "2. `Color.RED == 1` is:\n",
    "  a. True  b. False\n",
    "\n",
    "<details><summary>Answer key</summary>\n",
    "\n",
    "1. **True**.\n",
    "2. **b** — compare to member, not value.\n",
    "\n",
    "</details>"
   ]
  },
  {
   "cell_type": "markdown",
   "id": "c03e5f69",
   "metadata": {},
   "source": [
    "## 50. F‑strings & formatting mini‑language"
   ]
  },
  {
   "cell_type": "markdown",
   "id": "d47a4f9d",
   "metadata": {},
   "source": [
    "F‑strings (`f'{var=:.2f}'`) are fastest and most readable. Format spec follows PEP 498 mini‑language: alignment, padding, numeric format. Common gotcha: braces inside need doubling `{{` `}}`."
   ]
  },
  {
   "cell_type": "code",
   "execution_count": null,
   "id": "4ba9eb7a",
   "metadata": {},
   "outputs": [],
   "source": [
    "pi = 3.14159\n",
    "print(f'{pi:.2f}')\n",
    "name='Ada'\n",
    "print(f'{name:>10}')"
   ]
  },
  {
   "cell_type": "markdown",
   "id": "b2a32872",
   "metadata": {},
   "source": [
    "### Quick check\n",
    "\n",
    "1. Which prints `0007` for x=7?\n",
    "  a. `f'{x:4}'`  b. `f'{x:04}'`\n",
    "\n",
    "2. T / F `f'{2+3=}'` prints `2+3=5`.\n",
    "\n",
    "<details><summary>Answer key</summary>\n",
    "\n",
    "1. **b**.\n",
    "2. **True**.\n",
    "\n",
    "</details>"
   ]
  },
  {
   "cell_type": "markdown",
   "id": "6f9034b9",
   "metadata": {},
   "source": [
    "## 51. Memory model, ref counting, GC"
   ]
  },
  {
   "cell_type": "markdown",
   "id": "16f07206",
   "metadata": {},
   "source": [
    "CPython uses reference counting plus a cyclic garbage collector. Objects free *as soon* as count drops to zero—so `with` is often sufficient resource cleanup. Circular refs rely on GC to break."
   ]
  },
  {
   "cell_type": "code",
   "execution_count": null,
   "id": "410bb634",
   "metadata": {},
   "outputs": [],
   "source": [
    "import sys, gc\n",
    "a = []\n",
    "b = [a]\n",
    "a.append(b)  # cycle\n",
    "del a, b\n",
    "print(gc.collect())  # runs GC"
   ]
  },
  {
   "cell_type": "markdown",
   "id": "0604df50",
   "metadata": {},
   "source": [
    "### Quick check\n",
    "\n",
    "1. T / F `del a` always frees memory immediately.\n",
    "\n",
    "2. Circular references are handled by:\n",
    "  a. ref counting  b. cyclic GC\n",
    "\n",
    "<details><summary>Answer key</summary>\n",
    "\n",
    "1. **False** — only if no cycles.\n",
    "2. **b**.\n",
    "\n",
    "</details>"
   ]
  },
  {
   "cell_type": "markdown",
   "id": "aa9eabae",
   "metadata": {},
   "source": [
    "## 52. The Global Interpreter Lock (GIL)"
   ]
  },
  {
   "cell_type": "markdown",
   "id": "4f5da7af",
   "metadata": {},
   "source": [
    "In CPython, only one thread executes Python bytecode at a time. CPU‑bound tasks gain nothing from threads—use `multiprocessing` or native extensions instead. I/O‑bound workloads can still benefit via concurrency."
   ]
  },
  {
   "cell_type": "code",
   "execution_count": null,
   "id": "6bfb9b57",
   "metadata": {},
   "outputs": [],
   "source": [
    "import threading, time\n",
    "def cpu():\n",
    "    s = 0\n",
    "    for _ in range(10_000_00): s+=1\n",
    "\n",
    "t1=t2=threading.Thread(target=cpu)\n",
    "start=time.time(); t1.start(); t2.start(); t1.join(); t2.join();\n",
    "print('elapsed', time.time()-start)"
   ]
  },
  {
   "cell_type": "markdown",
   "id": "db12779d",
   "metadata": {},
   "source": [
    "### Quick check\n",
    "\n",
    "1. T / F NumPy releases GIL inside heavy C loops.\n",
    "\n",
    "2. Best for CPU‑bound concurrency:\n",
    "  a. threads  b. processes\n",
    "\n",
    "<details><summary>Answer key</summary>\n",
    "\n",
    "1. **True** — many C extensions release it.\n",
    "2. **b**.\n",
    "\n",
    "</details>"
   ]
  },
  {
   "cell_type": "markdown",
   "id": "ccc0fa21",
   "metadata": {},
   "source": [
    "## 53. Profiling & timing (`timeit`, `cProfile`)"
   ]
  },
  {
   "cell_type": "markdown",
   "id": "d92cc3ca",
   "metadata": {},
   "source": [
    "Use `timeit` for micro‑benchmarks; `cProfile`/`snakeviz` to find hotspots. Avoid naive `time.time()` in loops due to noise."
   ]
  },
  {
   "cell_type": "code",
   "execution_count": null,
   "id": "1ba7c1e7",
   "metadata": {},
   "outputs": [],
   "source": [
    "import timeit\n",
    "print(timeit.timeit('sum(range(100))', number=1000))"
   ]
  },
  {
   "cell_type": "markdown",
   "id": "751164f4",
   "metadata": {},
   "source": [
    "### Quick check\n",
    "\n",
    "1. `timeit` runs code:\n",
    "  a. once  b. many times\n",
    "\n",
    "2. T / F `cProfile` gives per‑function call counts.\n",
    "\n",
    "<details><summary>Answer key</summary>\n",
    "\n",
    "1. **b** — auto selects repeat count.\n",
    "2. **True**.\n",
    "\n",
    "</details>"
   ]
  },
  {
   "cell_type": "markdown",
   "id": "0e4f4830",
   "metadata": {},
   "source": [
    "## 54. Coroutine syntax: `async def` / `await`"
   ]
  },
  {
   "cell_type": "markdown",
   "id": "2ee12bf5",
   "metadata": {},
   "source": [
    "Coroutines let you write non‑blocking code that *looks* sequential. Awaiting suspends so other tasks can run on the same thread. Mixing blocking I/O inside async breaks concurrency."
   ]
  },
  {
   "cell_type": "code",
   "execution_count": null,
   "id": "32ded6b1",
   "metadata": {},
   "outputs": [],
   "source": [
    "import asyncio, time\n",
    "async def hello():\n",
    "    await asyncio.sleep(1)\n",
    "    return 'hi'\n",
    "\n",
    "print(asyncio.run(hello()))"
   ]
  },
  {
   "cell_type": "markdown",
   "id": "b9649b6d",
   "metadata": {},
   "source": [
    "### Quick check\n",
    "\n",
    "1. `async def` returns:\n",
    "  a. value  b. coroutine object\n",
    "\n",
    "2. T / F You can `await` inside normal def.\n",
    "\n",
    "<details><summary>Answer key</summary>\n",
    "\n",
    "1. **b**.\n",
    "2. **False** — only inside async def.\n",
    "\n",
    "</details>"
   ]
  },
  {
   "cell_type": "markdown",
   "id": "9e2e56ca",
   "metadata": {},
   "source": [
    "## 55. Creating & scheduling `asyncio` tasks"
   ]
  },
  {
   "cell_type": "markdown",
   "id": "68c759b5",
   "metadata": {},
   "source": [
    "`asyncio.create_task()` schedules coroutines to run concurrently. Use `await task` for result; cancel long‑running tasks if no longer needed."
   ]
  },
  {
   "cell_type": "code",
   "execution_count": null,
   "id": "3b6db0bb",
   "metadata": {},
   "outputs": [],
   "source": [
    "import asyncio\n",
    "async def worker(n):\n",
    "    await asyncio.sleep(1)\n",
    "    return n*n\n",
    "\n",
    "async def main():\n",
    "    tasks = [asyncio.create_task(worker(i)) for i in range(3)]\n",
    "    print([await t for t in tasks])\n",
    "\n",
    "asyncio.run(main())"
   ]
  },
  {
   "cell_type": "markdown",
   "id": "4a4568b0",
   "metadata": {},
   "source": [
    "### Quick check\n",
    "\n",
    "1. T / F `create_task` starts running immediately.\n",
    "\n",
    "2. Cancelling a task raises:\n",
    "  a. CancelledError  b. TimeoutError\n",
    "\n",
    "<details><summary>Answer key</summary>\n",
    "\n",
    "1. **True** — scheduled on event loop tick.\n",
    "2. **a**.\n",
    "\n",
    "</details>"
   ]
  }
 ],
 "metadata": {},
 "nbformat": 4,
 "nbformat_minor": 5
}
