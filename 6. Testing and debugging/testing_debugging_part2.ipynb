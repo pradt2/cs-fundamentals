{
 "cells": [
  {
   "cell_type": "markdown",
   "id": "57ad2c71",
   "metadata": {},
   "source": [
    "## 6. Fixtures for setup / teardown"
   ]
  },
  {
   "cell_type": "markdown",
   "id": "13bae261",
   "metadata": {},
   "source": [
    "In pytest, **fixtures** give reusable setup + cleanup logic while keeping test code concise. Declare with `@pytest.fixture` and inject by parameter name into any test function."
   ]
  },
  {
   "cell_type": "markdown",
   "id": "09cdc1ea",
   "metadata": {},
   "source": [
    "```python\n",
    "import pytest, tempfile, shutil, os\n",
    "\n",
    "@pytest.fixture\n",
    "def temp_dir():\n",
    "    path = tempfile.mkdtemp()\n",
    "    yield path              # tests run here\n",
    "    shutil.rmtree(path)     # teardown\n",
    "\n",
    "def test_write(temp_dir):\n",
    "    file = os.path.join(temp_dir, 'hello.txt')\n",
    "    open(file, 'w').write('hi')\n",
    "    assert open(file).read() == 'hi'\n",
    "```"
   ]
  },
  {
   "cell_type": "markdown",
   "id": "2c3d69bc",
   "metadata": {},
   "source": [
    "### Quick check\n",
    "\n",
    "1. Yield inside fixture marks:\n",
    "  a. teardown before  b. split setup/teardown\n",
    "\n",
    "2. True / False Fixture scope can be session‑wide.\n",
    "\n",
    "<details><summary>Answer key</summary>\n",
    "\n",
    "1. **b**.\n",
    "2. **True** – set `scope='session'`.\n",
    "\n",
    "</details>"
   ]
  },
  {
   "cell_type": "markdown",
   "id": "959ab0d4",
   "metadata": {},
   "source": [
    "## 7. Parametrised tests"
   ]
  },
  {
   "cell_type": "markdown",
   "id": "6a148831",
   "metadata": {},
   "source": [
    "`@pytest.mark.parametrize` generates multiple cases from data table, avoiding loops inside tests and producing independent pass/fail results."
   ]
  },
  {
   "cell_type": "markdown",
   "id": "26b718a2",
   "metadata": {},
   "source": [
    "```python\n",
    "import pytest\n",
    "@pytest.mark.parametrize('a,b,expected',[ (2,3,5), (10,5,15) ])\n",
    "def test_add(a,b,expected):\n",
    "    assert a+b == expected\n",
    "```"
   ]
  },
  {
   "cell_type": "markdown",
   "id": "5d24ee0e",
   "metadata": {},
   "source": [
    "### Quick check\n",
    "\n",
    "1. Parametrisation shows each case as:\n",
    "  a. one combined test  b. separate tests\n",
    "\n",
    "2. True / False You can parametrize over fixtures.\n",
    "\n",
    "<details><summary>Answer key</summary>\n",
    "\n",
    "1. **b**.\n",
    "2. **True** – use `indirect=True`.\n",
    "\n",
    "</details>"
   ]
  },
  {
   "cell_type": "markdown",
   "id": "a8068d68",
   "metadata": {},
   "source": [
    "## 8. Mocking basics"
   ]
  },
  {
   "cell_type": "markdown",
   "id": "df6bf408",
   "metadata": {},
   "source": [
    "Replace slow or external collaborators with **mocks**. With `unittest.mock`: `patch('module.func')` swaps during test. Use `Mock()` to assert call count and arguments."
   ]
  },
  {
   "cell_type": "markdown",
   "id": "a36fe248",
   "metadata": {},
   "source": [
    "```python\n",
    "from unittest.mock import patch\n",
    "import requests\n",
    "\n",
    "def fetch_json(url):\n",
    "    return requests.get(url).json()\n",
    "\n",
    "def test_fetch():\n",
    "    with patch('requests.get') as mock_get:\n",
    "        mock_get.return_value.json.return_value = {'ok':True}\n",
    "        assert fetch_json('x')['ok']\n",
    "        mock_get.assert_called_once()\n",
    "```"
   ]
  },
  {
   "cell_type": "markdown",
   "id": "eaa54001",
   "metadata": {},
   "source": [
    "### Quick check\n",
    "\n",
    "1. `patch()` should reference:\n",
    "  a. import location in SUT  b. original library path\n",
    "\n",
    "2. True / False `Mock()` records attribute access automatically.\n",
    "\n",
    "<details><summary>Answer key</summary>\n",
    "\n",
    "1. **a** – patch where used.\n",
    "2. **True** – dynamic mocks.\n",
    "\n",
    "</details>"
   ]
  },
  {
   "cell_type": "markdown",
   "id": "f3f648ea",
   "metadata": {},
   "source": [
    "## 9. Golden files & snapshot testing"
   ]
  },
  {
   "cell_type": "markdown",
   "id": "9e0013e1",
   "metadata": {},
   "source": [
    "For large text/binary outputs you can store **golden files**. Test compares current output to file checked into repo. Tools like `pytest-snapshot` manage approve/update workflow."
   ]
  },
  {
   "cell_type": "markdown",
   "id": "4ada765d",
   "metadata": {},
   "source": [
    "```python\n",
    "def render():\n",
    "    return '<html>hi</html>'\n",
    "\n",
    "def test_snapshot(snapshot):\n",
    "    snapshot.assert_match(render(), 'page.html')\n",
    "```"
   ]
  },
  {
   "cell_type": "markdown",
   "id": "3b7e312a",
   "metadata": {},
   "source": [
    "### Quick check\n",
    "\n",
    "1. Golden tests fail when output:\n",
    "  a. equals golden  b. differs\n",
    "\n",
    "2. True / False Updating golden should be code‑reviewed.\n",
    "\n",
    "<details><summary>Answer key</summary>\n",
    "\n",
    "1. **b**.\n",
    "2. **True**.\n",
    "\n",
    "</details>"
   ]
  },
  {
   "cell_type": "markdown",
   "id": "0ac4f8ef",
   "metadata": {},
   "source": [
    "## 10. Isolating external resources"
   ]
  },
  {
   "cell_type": "markdown",
   "id": "f1277493",
   "metadata": {},
   "source": [
    "Keep tests deterministic by faking I/O: in‑memory SQLite, moto for AWS S3, httpx `MockTransport` for HTTP. Ensures CI runs offline & free."
   ]
  },
  {
   "cell_type": "markdown",
   "id": "07dd62ed",
   "metadata": {},
   "source": [
    "```python\n",
    "from moto import s3\n",
    "import boto3, pytest\n",
    "\n",
    "@pytest.fixture(autouse=True)\n",
    "def mock_aws():\n",
    "    with s3.mock_s3():\n",
    "        yield\n",
    "\n",
    "def test_upload():\n",
    "    s = boto3.client('s3', region_name='us-east-1')\n",
    "    s.create_bucket(Bucket='test')\n",
    "    s.put_object(Bucket='test', Key='file', Body=b'data')\n",
    "    assert s.list_objects(Bucket='test')['KeyCount'] == 1\n",
    "```"
   ]
  },
  {
   "cell_type": "markdown",
   "id": "0e7a8393",
   "metadata": {},
   "source": [
    "### Quick check\n",
    "\n",
    "1. Using real AWS in CI may cause:\n",
    "  a. cost & flake  b. faster tests\n",
    "\n",
    "2. True / False moto intercepts boto3 calls without network.\n",
    "\n",
    "<details><summary>Answer key</summary>\n",
    "\n",
    "1. **a**.\n",
    "2. **True**.\n",
    "\n",
    "</details>"
   ]
  }
 ],
 "metadata": {},
 "nbformat": 4,
 "nbformat_minor": 5
}
