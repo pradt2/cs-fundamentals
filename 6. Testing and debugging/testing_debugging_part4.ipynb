{
 "cells": [
  {
   "cell_type": "markdown",
   "id": "7ce80343",
   "metadata": {},
   "source": [
    "## 16. Static analysis vs. tests"
   ]
  },
  {
   "cell_type": "markdown",
   "id": "1ff82a26",
   "metadata": {},
   "source": [
    "**Static analysis** tools examine code *without running it*:\n",
    "* **mypy / pyright** – type errors, unreachable branches.\n",
    "* **ruff / flake8** – style and simple bug patterns.\n",
    "* **bandit** – security smells (insecure hash, subprocess shell=True).\n",
    "\n",
    "They complement tests by catching an entire class of issues instantly (e.g., misspelled attribute) before runtime. CI should run linters *before* test suite to fail fast."
   ]
  },
  {
   "cell_type": "markdown",
   "id": "eb0d1e3b",
   "metadata": {},
   "source": [
    "```bash\n",
    "mypy src/          # type checking\n",
    "ruff check src/    # lint & style\n",
    "bandit -r src/     # security scan\n",
    "```"
   ]
  },
  {
   "cell_type": "markdown",
   "id": "7e922713",
   "metadata": {},
   "source": [
    "### Quick check\n",
    "\n",
    "1. True / False mypy requires executing the code.\n",
    "\n",
    "2. Which tool flags insecure functions by AST analysis?\n",
    "  a. bandit  b. pytest\n",
    "\n",
    "<details><summary>Answer key</summary>\n",
    "\n",
    "1. **False** – purely static.\n",
    "2. **a**.\n",
    "\n",
    "</details>"
   ]
  },
  {
   "cell_type": "markdown",
   "id": "d05140e5",
   "metadata": {},
   "source": [
    "## 17. Logging for test diagnosability"
   ]
  },
  {
   "cell_type": "markdown",
   "id": "993a1dfa",
   "metadata": {},
   "source": [
    "Rich logs make failures easier to debug. In pytest, use **`caplog` fixture** to capture output and assert on messages. Set log level so noisy DEBUG doesn’t flood CI; turn up when reproducing locally."
   ]
  },
  {
   "cell_type": "markdown",
   "id": "f9648634",
   "metadata": {},
   "source": [
    "```python\n",
    "import logging, pytest\n",
    "logger = logging.getLogger('demo')\n",
    "\n",
    "def work(x):\n",
    "    if x < 0:\n",
    "        logger.error('negative!')\n",
    "        raise ValueError\n",
    "    return x*2\n",
    "\n",
    "def test_logs(caplog):\n",
    "    with caplog.at_level(logging.ERROR):\n",
    "        with pytest.raises(ValueError):\n",
    "            work(-1)\n",
    "        assert 'negative!' in caplog.text\n",
    "```"
   ]
  },
  {
   "cell_type": "markdown",
   "id": "167938f8",
   "metadata": {},
   "source": [
    "### Quick check\n",
    "\n",
    "1. `caplog.at_level(logging.INFO)` affects:\n",
    "  a. global root logger  b. only captured context\n",
    "\n",
    "2. True / False Logging calls slow tests significantly and should be disabled.\n",
    "\n",
    "<details><summary>Answer key</summary>\n",
    "\n",
    "1. **b**.\n",
    "2. **False** – negligible cost, provides context.\n",
    "\n",
    "</details>"
   ]
  },
  {
   "cell_type": "markdown",
   "id": "d517b700",
   "metadata": {},
   "source": [
    "## 18. Debugging with breakpoints"
   ]
  },
  {
   "cell_type": "markdown",
   "id": "02c3bee3",
   "metadata": {},
   "source": [
    "* **`pdb.set_trace()`** – drop into interactive console.\n",
    "* **`pytest --pdb`** – auto‑enter debugger on first failure.\n",
    "* VS Code / PyCharm – graphical breakpoints, variable watch.\n",
    "\n",
    "Tip: use `breakpoint()` (built‑in) which honours `PYTHONBREAKPOINT` env var."
   ]
  },
  {
   "cell_type": "markdown",
   "id": "10c5bce5",
   "metadata": {},
   "source": [
    "```python\n",
    "def buggy():\n",
    "    x = 1\n",
    "    breakpoint()  # inspect variables here\n",
    "    return 1/0\n",
    "```"
   ]
  },
  {
   "cell_type": "markdown",
   "id": "657461e9",
   "metadata": {},
   "source": [
    "### Quick check\n",
    "\n",
    "1. `breakpoint()` calls which debugger by default?\n",
    "  a. pdb  b. ipdb\n",
    "\n",
    "2. True / False `pytest -x --pdb` stops after first failure and opens debugger.\n",
    "\n",
    "<details><summary>Answer key</summary>\n",
    "\n",
    "1. **a**.\n",
    "2. **True**.\n",
    "\n",
    "</details>"
   ]
  },
  {
   "cell_type": "markdown",
   "id": "4f90ebc2",
   "metadata": {},
   "source": [
    "## 19. Tracing execution"
   ]
  },
  {
   "cell_type": "markdown",
   "id": "ddf70bb2",
   "metadata": {},
   "source": [
    "Levels:\n",
    "* **print‑debugging** – quick but pollutes code.\n",
    "* **`logging.debug`** – toggle via level; better.\n",
    "* **`trace` / `sys.settrace`** – line‑by‑line profiler/tracer (coverage uses this).\n",
    "External tracers like **`py-spy`** or **`viztracer`** record call stacks without code mods."
   ]
  },
  {
   "cell_type": "markdown",
   "id": "3a4a4b38",
   "metadata": {},
   "source": [
    "```bash\n",
    "py-spy record -o profile.svg -- python myscript.py\n",
    "```"
   ]
  },
  {
   "cell_type": "markdown",
   "id": "1e6ebb6b",
   "metadata": {},
   "source": [
    "### Quick check\n",
    "\n",
    "1. `logging.debug` messages show when root level is set to:\n",
    "  a. WARNING  b. DEBUG\n",
    "\n",
    "2. True / False `py-spy` requires restarting Python with special flags.\n",
    "\n",
    "<details><summary>Answer key</summary>\n",
    "\n",
    "1. **b**.\n",
    "2. **False** – attaches to running process.\n",
    "\n",
    "</details>"
   ]
  },
  {
   "cell_type": "markdown",
   "id": "af159d04",
   "metadata": {},
   "source": [
    "## 20. Binary search for a failing commit (`git bisect`)"
   ]
  },
  {
   "cell_type": "markdown",
   "id": "83f8add5",
   "metadata": {},
   "source": [
    "`git bisect` automates finding the exact commit that introduced a bug:\n",
    "1. `git bisect start`.\n",
    "2. `git bisect bad` (current) / `git bisect good <hash>`.\n",
    "3. Git checks out midpoint; you run tests; mark good/bad.\n",
    "4. Repeat until single culprit commit.\n",
    "\n",
    "Automate with `git bisect run pytest` for non‑flaky failures."
   ]
  },
  {
   "cell_type": "markdown",
   "id": "cad3a6ca",
   "metadata": {},
   "source": [
    "```bash\n",
    "git bisect start\n",
    "git bisect bad          # failing HEAD\n",
    "git bisect good v1.0.0  # known good tag\n",
    "git bisect run pytest -q\n",
    "```"
   ]
  },
  {
   "cell_type": "markdown",
   "id": "d570c830",
   "metadata": {},
   "source": [
    "### Quick check\n",
    "\n",
    "1. Bisect reduces search space:\n",
    "  a. linearly  b. logarithmically\n",
    "\n",
    "2. True / False `git bisect reset` returns to original branch.\n",
    "\n",
    "<details><summary>Answer key</summary>\n",
    "\n",
    "1. **b**.\n",
    "2. **True**.\n",
    "\n",
    "</details>"
   ]
  }
 ],
 "metadata": {},
 "nbformat": 4,
 "nbformat_minor": 5
}
