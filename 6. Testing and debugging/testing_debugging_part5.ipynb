{
 "cells": [
  {
   "cell_type": "markdown",
   "id": "b0208575",
   "metadata": {},
   "source": [
    "## 21. Capturing and inspecting HTTP traffic"
   ]
  },
  {
   "cell_type": "markdown",
   "id": "c5837f10",
   "metadata": {},
   "source": [
    "Debugging APIs is easier when you **see** the raw wire data.\n",
    "\n",
    "* **Browser dev‑tools → Network tab** – inspect headers, status, CORS issues.\n",
    "* **mitmproxy / Charles** – act as man‑in‑the‑middle, record and replay requests; useful for mobile apps.\n",
    "* **curl ‑‑trace / httpie ‑‑print=HBhb** – CLI alternatives.\n",
    "\n",
    "Remember to trust the mitmproxy root certificate on client if you inspect HTTPS."
   ]
  },
  {
   "cell_type": "markdown",
   "id": "319f9a10",
   "metadata": {},
   "source": [
    "```bash\n",
    "mitmproxy\n",
    "# then configure your app to use HTTP proxy 127.0.0.1:8080\n",
    "```"
   ]
  },
  {
   "cell_type": "markdown",
   "id": "e410603c",
   "metadata": {},
   "source": [
    "### Quick check\n",
    "\n",
    "1. True / False TLS must be terminated to read HTTPS payloads.\n",
    "\n",
    "2. `curl -v` shows:\n",
    "  a. only response  b. request + response headers\n",
    "\n",
    "<details><summary>Answer key</summary>\n",
    "\n",
    "1. **True** – proxy re‑encrypts after inspection.\n",
    "2. **b**.\n",
    "\n",
    "</details>"
   ]
  },
  {
   "cell_type": "markdown",
   "id": "0ba1eec1",
   "metadata": {},
   "source": [
    "## 22. Reproducing race conditions"
   ]
  },
  {
   "cell_type": "markdown",
   "id": "e4998a85",
   "metadata": {},
   "source": [
    "Concurrency bugs vanish when debugged. Strategies:\n",
    "* **Stress loops** – run failing test 10 000×: `pytest -q --count=1000` (pytest‑repeat).\n",
    "* **Random hash seed** – `PYTHONHASHSEED=random` surfaces order‑dependency.\n",
    "* **pytest‑xdist** ‑n auto – parallel workers amplify races.\n",
    "* Sleep jitter or `threading.Barrier` to force interleaving."
   ]
  },
  {
   "cell_type": "markdown",
   "id": "5b5b25a7",
   "metadata": {},
   "source": [
    "```bash\n",
    "PYTHONHASHSEED=random pytest tests/test_race.py --count=500\n",
    "```"
   ]
  },
  {
   "cell_type": "markdown",
   "id": "4a31b215",
   "metadata": {},
   "source": [
    "### Quick check\n",
    "\n",
    "1. `PYTHONHASHSEED` affects:\n",
    "  a. list order  b. dict/hash order\n",
    "\n",
    "2. True / False Running tests in parallel can expose shared‑state bugs.\n",
    "\n",
    "<details><summary>Answer key</summary>\n",
    "\n",
    "1. **b**.\n",
    "2. **True**.\n",
    "\n",
    "</details>"
   ]
  },
  {
   "cell_type": "markdown",
   "id": "6af45a38",
   "metadata": {},
   "source": [
    "## 23. Continuous Integration best practices"
   ]
  },
  {
   "cell_type": "markdown",
   "id": "257c4b06",
   "metadata": {},
   "source": [
    "CI turns your test suite into a gatekeeper.\n",
    "\n",
    "* **Fail‑fast**: stop pipeline on first red step → faster feedback.\n",
    "* **Test sharding**: distribute slow suites (`pytest -n`) or GH Actions matrix.\n",
    "* **Cache & artifacts**: save `pip` cache, upload coverage HTML, failed screenshots.\n",
    "* Pin tool versions to avoid “works‑on‑my‑machine” surprises."
   ]
  },
  {
   "cell_type": "markdown",
   "id": "556da210",
   "metadata": {},
   "source": [
    "```yaml\n",
    "name: ci\n",
    "on: [push]\n",
    "jobs:\n",
    "  tests:\n",
    "    runs-on: ubuntu-latest\n",
    "    strategy:\n",
    "      matrix: python: [3.10, 3.11]\n",
    "    steps:\n",
    "      - uses: actions/checkout@v4\n",
    "      - uses: actions/setup-python@v5\n",
    "        with: {python-version: ${{ matrix.python }}}\n",
    "      - run: pip install -r req.txt\n",
    "      - run: pytest -q\n",
    "```"
   ]
  },
  {
   "cell_type": "markdown",
   "id": "e73da0e4",
   "metadata": {},
   "source": [
    "### Quick check\n",
    "\n",
    "1. Uploading coverage HTML is an example of:\n",
    "  a. test sharding  b. artifact retention\n",
    "\n",
    "2. True / False Running the slowest tests first improves fail‑fast feedback.\n",
    "\n",
    "<details><summary>Answer key</summary>\n",
    "\n",
    "1. **b**.\n",
    "2. **True** – pipeline fails earlier.\n",
    "\n",
    "</details>"
   ]
  },
  {
   "cell_type": "markdown",
   "id": "703ff9e5",
   "metadata": {},
   "source": [
    "## 24. Test data management"
   ]
  },
  {
   "cell_type": "markdown",
   "id": "4bd7052d",
   "metadata": {},
   "source": [
    "* **Factories** (factory‑boy) build objects with defaults; flexible and DRY.\n",
    "* **Static fixtures** – YAML / JSON seed files; fast to load but harder to vary.\n",
    "* **Parameterized builders** – combine factories + fixture scopes.\n",
    "\n",
    "Choose per layer: factories for unit tests, small seed DB for integration."
   ]
  },
  {
   "cell_type": "markdown",
   "id": "2a6fc17b",
   "metadata": {},
   "source": [
    "```python\n",
    "import factory\n",
    "class User:\n",
    "    def __init__(self, name, active=True): self.name, self.active = name, active\n",
    "class UserFactory(factory.Factory):\n",
    "    class Meta: model = User\n",
    "    name = factory.Faker('name')\n",
    "```"
   ]
  },
  {
   "cell_type": "markdown",
   "id": "a5b04504",
   "metadata": {},
   "source": [
    "### Quick check\n",
    "\n",
    "1. Seed file data is loaded:\n",
    "  a. dynamically per test  b. once and reused\n",
    "\n",
    "2. True / False Factories help avoid brittle hard‑coded IDs.\n",
    "\n",
    "<details><summary>Answer key</summary>\n",
    "\n",
    "1. **b** – usually once per DB.\n",
    "2. **True**.\n",
    "\n",
    "</details>"
   ]
  },
  {
   "cell_type": "markdown",
   "id": "b65c6ddb",
   "metadata": {},
   "source": [
    "## 25. When to delete tests"
   ]
  },
  {
   "cell_type": "markdown",
   "id": "2c09c19f",
   "metadata": {},
   "source": [
    "Tests are code with maintenance cost. Delete when:\n",
    "* They duplicate coverage of higher‑level tests.\n",
    "* Assert behaviour that was intentionally changed.\n",
    "* Flaky due to low value (e.g., UI pixel tests).\n",
    "\n",
    "Before deletion, ensure alternative coverage exists and communicate in PR."
   ]
  },
  {
   "cell_type": "markdown",
   "id": "ffcfe2ee",
   "metadata": {},
   "source": [
    "```text\n",
    "Scenario: API v1 sunset — remove v1 tests after deprecation window.\n",
    "```"
   ]
  },
  {
   "cell_type": "markdown",
   "id": "25765ded",
   "metadata": {},
   "source": [
    "### Quick check\n",
    "\n",
    "1. Keeping obsolete tests can:\n",
    "  a. speed up CI  b. block refactors\n",
    "\n",
    "2. True / False Deleting tests requires updating coverage expectations.\n",
    "\n",
    "<details><summary>Answer key</summary>\n",
    "\n",
    "1. **b**.\n",
    "2. **True**.\n",
    "\n",
    "</details>"
   ]
  }
 ],
 "metadata": {},
 "nbformat": 4,
 "nbformat_minor": 5
}
