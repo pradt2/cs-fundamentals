{
 "cells": [
  {
   "cell_type": "markdown",
   "id": "8f4288be",
   "metadata": {},
   "source": [
    "## 1. Why test? – feedback loops & cost-of-bug curve"
   ]
  },
  {
   "cell_type": "markdown",
   "id": "a8e1ca42",
   "metadata": {},
   "source": [
    "Defects cost more the later they’re found: minutes in your editor, hours in QA, or days in production. Automated tests create **fast feedback loops** that catch errors before they reach users. They also document behaviour, enable refactoring, and reduce fear of change."
   ]
  },
  {
   "cell_type": "markdown",
   "id": "9f91a2ce",
   "metadata": {},
   "source": [
    "```python\n",
    "# bug_without_test.py\n",
    "def divide(a, b):\n",
    "    return a / b\n",
    "\n",
    "# Suppose production crashed when b == 0. A tiny test would have exposed it:\n",
    "def test_divide_by_zero():\n",
    "    import pytest\n",
    "    with pytest.raises(ZeroDivisionError):\n",
    "        divide(1, 0)\n",
    "```"
   ]
  },
  {
   "cell_type": "markdown",
   "id": "d0a9639c",
   "metadata": {},
   "source": [
    "### Quick check\n",
    "\n",
    "1. True / False Writing tests slows development more than fixing production outages.\n",
    "\n",
    "2. A test that fails only in production implies feedback loop was:\n",
    "  a. fast   b. slow\n",
    "\n",
    "<details><summary>Answer key</summary>\n",
    "\n",
    "1. **False** – tests save time overall.\n",
    "2. **b** – slow feedback.\n",
    "\n",
    "</details>"
   ]
  },
  {
   "cell_type": "markdown",
   "id": "8a15dfb4",
   "metadata": {},
   "source": [
    "## 2. Unit vs. integration vs. end‑to‑end (E2E)"
   ]
  },
  {
   "cell_type": "markdown",
   "id": "13d13043",
   "metadata": {},
   "source": [
    "* **Unit tests** exercise a single function/class in isolation using mocks or fakes.\n",
    "* **Integration tests** combine real components (DB + service) to check wiring.\n",
    "* **E2E tests** drive the system like a user (browser, HTTP client).\n",
    "\n",
    "Pyramid guideline: many unit tests, fewer integration, fewest E2E."
   ]
  },
  {
   "cell_type": "markdown",
   "id": "96489f5d",
   "metadata": {},
   "source": [
    "```text\n",
    "Pyramid counts (typical):\n",
    " 1000s  unit\n",
    "  100   integration\n",
    "   10   E2E (Selenium/Cypress)\n",
    "```"
   ]
  },
  {
   "cell_type": "markdown",
   "id": "ab07f728",
   "metadata": {},
   "source": [
    "### Quick check\n",
    "\n",
    "1. Which test type is slowest?\n",
    "  a. unit  b. E2E\n",
    "\n",
    "2. True / False Integration tests should still stub external paid APIs.\n",
    "\n",
    "<details><summary>Answer key</summary>\n",
    "\n",
    "1. **b**.\n",
    "2. **True** – avoid charges & flakiness.\n",
    "\n",
    "</details>"
   ]
  },
  {
   "cell_type": "markdown",
   "id": "5c73d296",
   "metadata": {},
   "source": [
    "## 3. pytest hello world"
   ]
  },
  {
   "cell_type": "markdown",
   "id": "8da94c51",
   "metadata": {},
   "source": [
    "`pytest` discovers files named `test_*.py` or `*_test.py`. Any function beginning with `test_` and using plain `assert` counts as a test. Run all tests with simply `pytest` in project root."
   ]
  },
  {
   "cell_type": "markdown",
   "id": "cef92fa7",
   "metadata": {},
   "source": [
    "```python\n",
    "# test_math.py\n",
    "def add(a, b):\n",
    "    return a + b\n",
    "\n",
    "def test_add():\n",
    "    assert add(2, 3) == 5\n",
    "```\n",
    "Run:\n",
    "```bash\n",
    "$ pytest -q\n",
    ".\n",
    "1 passed in 0.01s\n",
    "```"
   ]
  },
  {
   "cell_type": "markdown",
   "id": "e86839a2",
   "metadata": {},
   "source": [
    "### Quick check\n",
    "\n",
    "1. pytest marks a test as failed if assert expression is:\n",
    "  a. True  b. False\n",
    "\n",
    "2. True / False You need `unittest.TestCase` subclasses to use pytest.\n",
    "\n",
    "<details><summary>Answer key</summary>\n",
    "\n",
    "1. **b** – assertion false.\n",
    "2. **False** – plain functions work.\n",
    "\n",
    "</details>"
   ]
  },
  {
   "cell_type": "markdown",
   "id": "fa6545f1",
   "metadata": {},
   "source": [
    "## 4. Assertions 101"
   ]
  },
  {
   "cell_type": "markdown",
   "id": "2e43caab",
   "metadata": {},
   "source": [
    "Use bare `assert` for equality, comparisons, membership. Provide custom message for clarity: `assert x == 5, 'unexpected count'`. For exceptions, wrap with `pytest.raises` context manager."
   ]
  },
  {
   "cell_type": "markdown",
   "id": "1cac36dd",
   "metadata": {},
   "source": [
    "```python\n",
    "import pytest\n",
    "def div(a,b): return a/b\n",
    "def test_zero():\n",
    "    with pytest.raises(ZeroDivisionError):\n",
    "        div(1,0)\n",
    "```"
   ]
  },
  {
   "cell_type": "markdown",
   "id": "8bb1233f",
   "metadata": {},
   "source": [
    "### Quick check\n",
    "\n",
    "1. `pytest.raises(ValueError)` passes if code:\n",
    "  a. raises ValueError  b. returns value\n",
    "\n",
    "2. True / False Failing assert stops execution of remaining test code.\n",
    "\n",
    "<details><summary>Answer key</summary>\n",
    "\n",
    "1. **a**.\n",
    "2. **True**.\n",
    "\n",
    "</details>"
   ]
  },
  {
   "cell_type": "markdown",
   "id": "ee2f0cae",
   "metadata": {},
   "source": [
    "## 5. Test discovery & naming"
   ]
  },
  {
   "cell_type": "markdown",
   "id": "ea16c5f8",
   "metadata": {},
   "source": [
    "pytest walks the filesystem:\n",
    "* Packages: any dir with `__init__.py`.\n",
    "* Files: `test_*.py` or `*_test.py`.\n",
    "* Functions / methods: start with `test_`.\n",
    "\n",
    "Avoid hidden side-effects in import time; fixtures handle setup."
   ]
  },
  {
   "cell_type": "markdown",
   "id": "f12ab55c",
   "metadata": {},
   "source": [
    "```bash\n",
    "project/\n",
    "├── src/\n",
    "│   └── app.py\n",
    "└── tests/\n",
    "    ├── __init__.py\n",
    "    └── test_app.py\n",
    "```"
   ]
  },
  {
   "cell_type": "markdown",
   "id": "b0f3d96a",
   "metadata": {},
   "source": [
    "### Quick check\n",
    "\n",
    "1. pytest ignores a module called:\n",
    "  a. helper_test.py  b. helpers.py\n",
    "\n",
    "2. True / False `conftest.py` files are automatically imported.\n",
    "\n",
    "<details><summary>Answer key</summary>\n",
    "\n",
    "1. **b** – lacks test* pattern.\n",
    "2. **True**.\n",
    "\n",
    "</details>"
   ]
  }
 ],
 "metadata": {},
 "nbformat": 4,
 "nbformat_minor": 5
}
