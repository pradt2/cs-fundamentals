{
 "cells": [
  {
   "cell_type": "markdown",
   "id": "7cd1cc4d",
   "metadata": {},
   "source": [
    "## 7. Collections 101: lists, indexing & slicing"
   ]
  },
  {
   "cell_type": "markdown",
   "id": "4c8f0bcb",
   "metadata": {},
   "source": [
    "A **list** is an ordered collection of values, written with square brackets. It can mix types, but usually holds one kind of thing.\n",
    "\n",
    "`groceries = ['eggs', 'milk', 'bread']`\n",
    "\n",
    "* **Indexing** starts at **0**: `groceries[0]` is `'eggs'`.\n",
    "* **Negative indexes** count from the end: `groceries[-1]` is `'bread'`.\n",
    "* **Slicing** grabs ranges: `groceries[0:2]` → `['eggs', 'milk']`.\n",
    "* **Step slicing**: `nums[::2]` picks every second element.\n",
    "\n",
    "Lists grow and shrink:\n",
    "`append`, `extend`, `pop`, `remove`.\n",
    "\n",
    "Why they matter: nearly every real‑world dataset (CSV rows, API responses) ends up in a list first."
   ]
  },
  {
   "cell_type": "markdown",
   "id": "1b7f0e5e",
   "metadata": {},
   "source": [
    "```python\n",
    "numbers = [1, 2, 3, 4, 5]\n",
    "print(numbers[0], numbers[-1])     # 1 5\n",
    "evens = numbers[1::2]              # start at 1, step 2 → [2,4]\n",
    "numbers.append(6)\n",
    "print(numbers)\n",
    "```"
   ]
  },
  {
   "cell_type": "markdown",
   "id": "ac1875cb",
   "metadata": {},
   "source": [
    "### Quick check\n",
    "\n",
    "1. Index of `'milk'` in `['eggs','milk','bread']` is:\n",
    "  a. 1  b. 2\n",
    "\n",
    "2. True / False `items[5]` on a 3‑item list raises `IndexError`.\n",
    "\n",
    "<details><summary>Answer key</summary>\n",
    "\n",
    "1. **a**.\n",
    "2. **True**.\n",
    "\n",
    "</details>"
   ]
  },
  {
   "cell_type": "markdown",
   "id": "d9355519",
   "metadata": {},
   "source": [
    "## 8. Looping with `for` and `while`"
   ]
  },
  {
   "cell_type": "markdown",
   "id": "3fc55e20",
   "metadata": {},
   "source": [
    "**`for` loops** iterate over each element of a collection without manual counters:\n",
    "`for item in groceries:`.\n",
    "\n",
    "Need the index too?  Use `enumerate(groceries)` → `(0,'eggs')`.\n",
    "\n",
    "**`while` loops** repeat until a condition becomes false. They’re flexible but risk infinite loops—always ensure something changes inside.\n",
    "\n",
    "Break & continue:\n",
    "* `break` exits the loop early.\n",
    "* `continue` skips to the next iteration."
   ]
  },
  {
   "cell_type": "markdown",
   "id": "efb8cbbb",
   "metadata": {},
   "source": [
    "```python\n",
    "for i, n in enumerate([10,20,30]):\n",
    "    print(i, n)\n",
    "\n",
    "count = 3\n",
    "while count > 0:\n",
    "    print('counting', count)\n",
    "    count -= 1\n",
    "```"
   ]
  },
  {
   "cell_type": "markdown",
   "id": "70ec475c",
   "metadata": {},
   "source": [
    "### Quick check\n",
    "\n",
    "1. `enumerate(['a','b'])[1][0]` equals:\n",
    "  a. 'b'  b. 1\n",
    "\n",
    "2. True / False `while True:` without break creates an infinite loop.\n",
    "\n",
    "<details><summary>Answer key</summary>\n",
    "\n",
    "1. **b** – index 1 yields tuple (1,'b'), first element 1.\n",
    "2. **True**.\n",
    "\n",
    "</details>"
   ]
  },
  {
   "cell_type": "markdown",
   "id": "efce33b7",
   "metadata": {},
   "source": [
    "## 9. Branching with `if…elif…else` & indentation"
   ]
  },
  {
   "cell_type": "markdown",
   "id": "43549ed7",
   "metadata": {},
   "source": [
    "Programs need to **choose** between paths. Syntax:\n",
    "```python\n",
    "if temperature < 0:\n",
    "    print('freezing')\n",
    "elif temperature < 20:\n",
    "    print('cool')\n",
    "else:\n",
    "    print('warm')\n",
    "```\n",
    "\n",
    "Indentation (4 spaces) groups the statements that belong to each branch. Mixing tabs & spaces causes `IndentationError`—configure your editor to insert spaces."
   ]
  },
  {
   "cell_type": "markdown",
   "id": "e6f276ca",
   "metadata": {},
   "source": [
    "```python\n",
    "score = int(input('score 0‑100: '))\n",
    "if score >= 90:\n",
    "    grade = 'A'\n",
    "elif score >= 80:\n",
    "    grade = 'B'\n",
    "else:\n",
    "    grade = 'C or below'\n",
    "print('Grade:', grade)\n",
    "```"
   ]
  },
  {
   "cell_type": "markdown",
   "id": "d6d5b178",
   "metadata": {},
   "source": [
    "### Quick check\n",
    "\n",
    "1. `if x == 1:` requires next line to be indented by:\n",
    "  a. 2 spaces  b. consistent block (PEP 8 says 4)\n",
    "\n",
    "2. True / False Python allows multiple `elif` blocks.\n",
    "\n",
    "<details><summary>Answer key</summary>\n",
    "\n",
    "1. **b**.\n",
    "2. **True**.\n",
    "\n",
    "</details>"
   ]
  }
 ],
 "metadata": {},
 "nbformat": 4,
 "nbformat_minor": 5
}
