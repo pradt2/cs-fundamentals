{
 "cells": [
  {
   "cell_type": "markdown",
   "id": "8ef979a5",
   "metadata": {},
   "source": [
    "## 1. What *is* a program?"
   ]
  },
  {
   "cell_type": "markdown",
   "id": "b5933811",
   "metadata": {},
   "source": [
    "At its core, a **program** is a list of instructions the computer follows, one after another.  Just as a cake recipe tells a baker which steps to perform and in what order, a program tells the CPU how to transform *input* into *output*.  \n",
    "\n",
    "Key ideas for absolute beginners:\n",
    "* A computer understands only very small, precise operations (add two numbers, move some data).  \n",
    "* A programming language (Python) lets humans *describe* those operations in friendlier words.  \n",
    "* The Python *interpreter* reads your text and executes the instructions immediately—no separate “compile” step needed.\n",
    "\n",
    "**Why bother learning to program?**  Automating dull tasks, analysing data faster, or simply *making a computer do your bidding* are empowering skills that grow in every field—from engineering to art."
   ]
  },
  {
   "cell_type": "markdown",
   "id": "dccb7eac",
   "metadata": {},
   "source": [
    "```python\n",
    "# smallest useful Python program:\n",
    "print('Hello, world!')\n",
    "```"
   ]
  },
  {
   "cell_type": "markdown",
   "id": "b0a0b3a5",
   "metadata": {},
   "source": [
    "### Quick check\n",
    "\n",
    "1. True / False A program’s instructions must be written in one continuous paragraph without line breaks.\n",
    "\n",
    "2. In the cake-recipe analogy, the *oven* corresponds to:\n",
    "  a. the computer hardware  b. the recipe steps\n",
    "\n",
    "<details><summary>Answer key</summary>\n",
    "\n",
    "1. **False** – line breaks and indentation improve readability in Python.\n",
    "2. **a**.\n",
    "\n",
    "</details>"
   ]
  },
  {
   "cell_type": "markdown",
   "id": "39de23d8",
   "metadata": {},
   "source": [
    "## 2. Installing Python & running your first script vs. using a REPL"
   ]
  },
  {
   "cell_type": "markdown",
   "id": "e3369f8c",
   "metadata": {},
   "source": [
    "**Install once, run forever**  \n",
    "*Download & install:* Go to python.org → Downloads → grab “Python 3” for your OS.  During Windows install, *tick the box* **Add Python to PATH** so the `python` command works everywhere.\n",
    "\n",
    "**Two ways to run Python:**\n",
    "* **REPL (Read–Eval–Print Loop)** – type `python` (or `python3`) in a terminal and you get a `>>>` prompt. Type expressions, press *Enter*, see results immediately—great for experiments.\n",
    "* **Script file** – write several lines in a plain‑text file named `first.py`, then run `python first.py`. Files are for anything you want to *reuse* or share.\n",
    "\n",
    "Tip: VS Code + *Python* extension gives you colour syntax, lint hints, and an *integrated terminal* so you can run scripts with a single keypress."
   ]
  },
  {
   "cell_type": "markdown",
   "id": "1d8daa6a",
   "metadata": {},
   "source": [
    "```bash\n",
    "# REPL demo              # Script demo\n",
    "$ python                 $ echo \"print('hi')\" > first.py\n",
    ">>> 2 + 2                $ python first.py\n",
    "4                        hi\n",
    "```"
   ]
  },
  {
   "cell_type": "markdown",
   "id": "9bcc906c",
   "metadata": {},
   "source": [
    "### Quick check\n",
    "\n",
    "1. The REPL prompt looks like:\n",
    "  a. >>>  b. $$\n",
    "\n",
    "2. True / False A `.py` file can be run by double‑clicking it on every OS without extra setup.\n",
    "\n",
    "<details><summary>Answer key</summary>\n",
    "\n",
    "1. **a**.\n",
    "2. **False** – double‑click depends on file associations; terminal is safer.\n",
    "\n",
    "</details>"
   ]
  },
  {
   "cell_type": "markdown",
   "id": "43b4f85b",
   "metadata": {},
   "source": [
    "## 3. Printing and basic input/output"
   ]
  },
  {
   "cell_type": "markdown",
   "id": "52a77e8f",
   "metadata": {},
   "source": [
    "`print()` is your primary window into a running script: it sends text to the console.  Conversely, `input()` pauses and waits for the user to type *something* and press Enter.\n",
    "\n",
    "Why start here?  Because being able to *see* what your code is doing, and to *ask* the user for information, makes every future concept tangible.\n",
    "\n",
    "Formatting strings:\n",
    "* Concatenate with `+` – simple but clunky.  \n",
    "* Use **f‑strings** – `name = 'Ada'; print(f'Hello {name}')` is cleaner.\n",
    "\n",
    "Remember: `input()` **always returns a string**.  Convert with `int()` or `float()` when you need numbers."
   ]
  },
  {
   "cell_type": "markdown",
   "id": "2e44bc10",
   "metadata": {},
   "source": [
    "```python\n",
    "name = input('What is your name? ')\n",
    "age  = int(input('How old are you? '))\n",
    "print(f'Nice to meet you, {name}! Next year you will be {age+1}.')\n",
    "```"
   ]
  },
  {
   "cell_type": "markdown",
   "id": "36586dd0",
   "metadata": {},
   "source": [
    "### Quick check\n",
    "\n",
    "1. `input()` returns:\n",
    "  a. int  b. str\n",
    "\n",
    "2. True / False `print('A', 'B')` automatically inserts a space between A and B.\n",
    "\n",
    "<details><summary>Answer key</summary>\n",
    "\n",
    "1. **b**.\n",
    "2. **True** – default `sep=' '`.\n",
    "\n",
    "</details>"
   ]
  }
 ],
 "metadata": {
  "kernelspec": {
   "display_name": "Python 3 (ipykernel)",
   "language": "python",
   "name": "python3"
  },
  "language_info": {
   "codemirror_mode": {
    "name": "ipython",
    "version": 3
   },
   "file_extension": ".py",
   "mimetype": "text/x-python",
   "name": "python",
   "nbconvert_exporter": "python",
   "pygments_lexer": "ipython3",
   "version": "3.13.3"
  }
 },
 "nbformat": 4,
 "nbformat_minor": 5
}
