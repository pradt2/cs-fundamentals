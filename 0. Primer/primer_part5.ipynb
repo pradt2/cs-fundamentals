{
 "cells": [
  {
   "cell_type": "markdown",
   "id": "b3a9c6af",
   "metadata": {},
   "source": [
    "## 13. Reading error messages & tracebacks"
   ]
  },
  {
   "cell_type": "markdown",
   "id": "140c7962",
   "metadata": {},
   "source": [
    "When Python hits a problem, it stops and prints a **traceback**—a top‑to‑bottom list of the call stack ending with an exception name and message.  Beginners often panic, but the traceback is your *friend*: the **last line** tells *what* went wrong; the **second‑to‑last** shows *where* in your code.\n",
    "\n",
    "Typical beginner errors:\n",
    "* `NameError: name 'variabel' is not defined` – typo in variable name.\n",
    "* `TypeError: can only concatenate str (not \"int\") to str` – mixing types.\n",
    "* `IndentationError: unexpected indent` – mismatched spaces/tabs.\n",
    "\n",
    "Workflow:\n",
    "1. Read bottom line first (exception & message).\n",
    "2. Jump to file + line number shown just above it.\n",
    "3. Inspect variables or add `print()` calls to confirm assumptions."
   ]
  },
  {
   "cell_type": "markdown",
   "id": "4df42715",
   "metadata": {},
   "source": [
    "```python\n",
    "def greet(person):\n",
    "    print('Hi', person)\n",
    "\n",
    "gret('Ada')  # typo!\n",
    "```"
   ]
  },
  {
   "cell_type": "markdown",
   "id": "38ed81de",
   "metadata": {},
   "source": [
    "### Quick check\n",
    "\n",
    "1. The most useful part of a traceback is usually:\n",
    "  a. first line  b. last two lines\n",
    "\n",
    "2. True / False `IndentationError` is a runtime (not syntax) error.\n",
    "\n",
    "<details><summary>Answer key</summary>\n",
    "\n",
    "1. **b**.\n",
    "2. **False** – it’s a syntax error caught before running.\n",
    "\n",
    "</details>"
   ]
  },
  {
   "cell_type": "markdown",
   "id": "c103dc77",
   "metadata": {},
   "source": [
    "## 14. Writing and re‑running a tiny script from a file"
   ]
  },
  {
   "cell_type": "markdown",
   "id": "c1bb8d2a",
   "metadata": {},
   "source": [
    "Working in a **.py file** lets you save and re‑execute code with different inputs, unlike the REPL which forgets history when it closes.\n",
    "\n",
    "Steps:\n",
    "1. Open your editor (e.g., VS Code) and create `tip_calculator.py`.\n",
    "2. Write code that asks the user for a bill amount and prints a 15 % tip.\n",
    "3. Run with `python tip_calculator.py` in terminal.  Change the percentage, run again.\n",
    "\n",
    "Shebang (`#!/usr/bin/env python3`) on first line makes script executable on Unix."
   ]
  },
  {
   "cell_type": "markdown",
   "id": "e8022f87",
   "metadata": {},
   "source": [
    "```python\n",
    "# tip_calculator.py\n",
    "bill = float(input('Bill total: '))\n",
    "tip  = bill * 0.15\n",
    "print(f'Tip: {tip:.2f}')\n",
    "```"
   ]
  },
  {
   "cell_type": "markdown",
   "id": "c155fa19",
   "metadata": {},
   "source": [
    "### Quick check\n",
    "\n",
    "1. Running `python myscript.py` executes code located in:\n",
    "  a. interactive REPL  b. the file on disk\n",
    "\n",
    "2. True / False A shebang line is required for Windows to run .py scripts.\n",
    "\n",
    "<details><summary>Answer key</summary>\n",
    "\n",
    "1. **b**.\n",
    "2. **False** – Windows ignores shebang.\n",
    "\n",
    "</details>"
   ]
  },
  {
   "cell_type": "markdown",
   "id": "52137c4a",
   "metadata": {},
   "source": [
    "## 15. Saving data: reading & writing a text file"
   ]
  },
  {
   "cell_type": "markdown",
   "id": "dd3a8843",
   "metadata": {},
   "source": [
    "Programs become truly useful when they **remember** information between runs. Simplest storage = plain‑text files.\n",
    "\n",
    "* Open a file with `open(path, mode)`—prefer the `with` statement so it auto‑closes.\n",
    "* Modes:\n",
    "  * `'w'` write (truncates existing)\n",
    "  * `'a'` append\n",
    "  * `'r'` read\n",
    "* Always convert numbers to strings before writing.\n",
    "\n",
    "CSV and JSON are richer formats covered later; text files teach fundamental concepts of persistence."
   ]
  },
  {
   "cell_type": "markdown",
   "id": "89478b4f",
   "metadata": {},
   "source": [
    "```python\n",
    "scores = [100, 98, 95]\n",
    "with open('scores.txt', 'w') as f:\n",
    "    for s in scores:\n",
    "        f.write(f'{s}\\n')\n",
    "\n",
    "# later…\n",
    "total = 0\n",
    "with open('scores.txt') as f:\n",
    "    for line in f:\n",
    "        total += int(line.strip())\n",
    "print('Average', total/3)\n",
    "```"
   ]
  },
  {
   "cell_type": "markdown",
   "id": "6cafe1ab",
   "metadata": {},
   "source": [
    "### Quick check\n",
    "\n",
    "1. Writing numbers to a text file requires converting them with:\n",
    "  a. str()  b. int()\n",
    "\n",
    "2. True / False Using `with open(... )` guarantees file closes even if an exception occurs.\n",
    "\n",
    "<details><summary>Answer key</summary>\n",
    "\n",
    "1. **a**.\n",
    "2. **True**.\n",
    "\n",
    "</details>"
   ]
  }
 ],
 "metadata": {},
 "nbformat": 4,
 "nbformat_minor": 5
}
