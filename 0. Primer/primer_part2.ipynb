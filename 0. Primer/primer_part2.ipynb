{
 "cells": [
  {
   "cell_type": "markdown",
   "id": "67d87fea",
   "metadata": {},
   "source": [
    "## 4. Variables & simple data types"
   ]
  },
  {
   "cell_type": "markdown",
   "id": "6601ccee",
   "metadata": {},
   "source": [
    "A **variable** is a *name* that points to a value in memory. Create one by simply assigning: `speed = 88`.  Python's main beginner‑friendly data types:\n",
    "* **int** – whole numbers: `-3, 0, 42`\n",
    "* **float** – numbers with a decimal point: `3.14`\n",
    "* **str** – quoted text: `'hello'` or \"hello\"\n",
    "* **bool** – truth values: `True`, `False`\n",
    "\n",
    "Python is *dynamically typed*: you don’t declare the type, but every value **has** a type. You can inspect it with `type(x)`."
   ]
  },
  {
   "cell_type": "markdown",
   "id": "bcd763a6",
   "metadata": {},
   "source": [
    "```python\n",
    "speed = 88          # int\n",
    "time_hours = 1.5    # float\n",
    "place = 'Hill Valley'\n",
    "flux = True\n",
    "print(type(speed), type(place))\n",
    "```"
   ]
  },
  {
   "cell_type": "markdown",
   "id": "aeb1d5c9",
   "metadata": {},
   "source": [
    "### Quick check\n",
    "\n",
    "1. `type(True)` returns:\n",
    "  a. <class 'int'>  b. <class 'bool'>\n",
    "\n",
    "2. True / False Strings must always use double quotes.\n",
    "\n",
    "<details><summary>Answer key</summary>\n",
    "\n",
    "1. **b**.\n",
    "2. **False** – single or double quotes both fine.\n",
    "\n",
    "</details>"
   ]
  },
  {
   "cell_type": "markdown",
   "id": "478b4166",
   "metadata": {},
   "source": [
    "## 5. Arithmetic, comparison & logical operators"
   ]
  },
  {
   "cell_type": "markdown",
   "id": "7ba9460b",
   "metadata": {},
   "source": [
    "Python can be your calculator:\n",
    "* `+  -  *  /`   → add, subtract, multiply, divide\n",
    "* `**` exponent  → `2 ** 3` is 8\n",
    "* `//` floor‑divide  → `7 // 3` is 2 (drops decimals)\n",
    "* `%` modulo  → remainder\n",
    "\n",
    "Comparisons return booleans:\n",
    "`==  !=  <  <=  >  >=`\n",
    "\n",
    "Combine booleans with **logical operators**:\n",
    "* `and` – true if both sides true\n",
    "* `or`  – true if either side true\n",
    "* `not` – flips truth value"
   ]
  },
  {
   "cell_type": "markdown",
   "id": "f25d4e61",
   "metadata": {},
   "source": [
    "```python\n",
    "km = 100\n",
    "hours = 2\n",
    "speed = km / hours          # 50.0\n",
    "is_fast = speed > 80 or speed == 50\n",
    "print('Speed:', speed, 'fast?', is_fast)\n",
    "```"
   ]
  },
  {
   "cell_type": "markdown",
   "id": "e38cde18",
   "metadata": {},
   "source": [
    "### Quick check\n",
    "\n",
    "1. `5 % 2` equals:\n",
    "  a. 1  b. 2\n",
    "\n",
    "2. True / False `and` evaluates the right-hand expression even if the left is False.\n",
    "\n",
    "<details><summary>Answer key</summary>\n",
    "\n",
    "1. **a**.\n",
    "2. **False** – short‑circuit, stops early.\n",
    "\n",
    "</details>"
   ]
  },
  {
   "cell_type": "markdown",
   "id": "a0d4b6bb",
   "metadata": {},
   "source": [
    "## 6. Comments & readable style (PEP 8 quick tour)"
   ]
  },
  {
   "cell_type": "markdown",
   "id": "3c77c8dd",
   "metadata": {},
   "source": [
    "Comments start with `#` and are ignored by Python—they exist for *humans*:\n",
    "`# convert km to miles`\n",
    "\n",
    "PEP 8 sets style guidelines so code looks familiar to everyone:\n",
    "* Four spaces for each indentation level (no tabs!)\n",
    "* Blank line between functions\n",
    "* Snake_case for variables and functions (`total_cost`)\n",
    "* Max line length ~79 characters for readability\n",
    "\n",
    "Good comments explain **why**, not **what**—because the code already shows *what*."
   ]
  },
  {
   "cell_type": "markdown",
   "id": "ef743786",
   "metadata": {},
   "source": [
    "```python\n",
    "def fahrenheit(celsius):\n",
    "    \"\"\"Convert °C to °F.\"\"\"\n",
    "    return celsius * 9/5 + 32  # formula from physics class\n",
    "```"
   ]
  },
  {
   "cell_type": "markdown",
   "id": "a6f047f3",
   "metadata": {},
   "source": [
    "### Quick check\n",
    "\n",
    "1. PEP 8 recommends indentation of:\n",
    "  a. 2 spaces  b. 4 spaces\n",
    "\n",
    "2. True / False `# this is code` will be executed by Python.\n",
    "\n",
    "<details><summary>Answer key</summary>\n",
    "\n",
    "1. **b**.\n",
    "2. **False** – it’s ignored.\n",
    "\n",
    "</details>"
   ]
  }
 ],
 "metadata": {},
 "nbformat": 4,
 "nbformat_minor": 5
}
