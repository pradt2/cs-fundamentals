{
 "cells": [
  {
   "cell_type": "markdown",
   "id": "a2418624",
   "metadata": {},
   "source": [
    "## 16. Basic debugging habits"
   ]
  },
  {
   "cell_type": "markdown",
   "id": "d0454025",
   "metadata": {},
   "source": [
    "**Good debugging** is systematic detective work, not wild guessing.\n",
    "\n",
    "Starter toolkit:\n",
    "1. **Print‑debugging** – sprinkle `print()` to display variable values *just before* things go wrong. Remove prints after fixing.\n",
    "2. **`breakpoint()`** – built‑in function that pauses execution and drops you into Python’s interactive debugger (`pdb`). Type `n` (next), `s` (step), `p var` (print) to inspect state.\n",
    "3. **Document expectations** – right above tricky code, write a short comment: `# expects list of ints, e.g., [1,2,3]`. When reality differs, the mismatch jumps out.\n",
    "\n",
    "Mindset: change *one thing* at a time, rerun, observe. Keep notes so you don’t circle back to the same dead ends."
   ]
  },
  {
   "cell_type": "markdown",
   "id": "6838bd23",
   "metadata": {},
   "source": [
    "```python\n",
    "def average(nums):\n",
    "    total = sum(nums)\n",
    "    print('DEBUG total', total)\n",
    "    breakpoint()            # inspect nums, total, len(nums)\n",
    "    return total / len(nums)\n",
    "\n",
    "average([])  # ZeroDivisionError, step through in pdb to see why\n",
    "```"
   ]
  },
  {
   "cell_type": "markdown",
   "id": "921cf207",
   "metadata": {},
   "source": [
    "### Quick check\n",
    "\n",
    "1. `breakpoint()` opens which debugger by default?\n",
    "  a. pdb  b. ipdb\n",
    "\n",
    "2. True / False Adding more than one variable change between test runs speeds debugging.\n",
    "\n",
    "<details><summary>Answer key</summary>\n",
    "\n",
    "1. **a**.\n",
    "2. **False** – isolate variables.\n",
    "\n",
    "</details>"
   ]
  },
  {
   "cell_type": "markdown",
   "id": "39998c93",
   "metadata": {},
   "source": [
    "## 17. Using a code editor (VS Code crash course)"
   ]
  },
  {
   "cell_type": "markdown",
   "id": "ca641608",
   "metadata": {},
   "source": [
    "While Notepad works, a real **IDE** boosts productivity.\n",
    "\n",
    "*Install & set up*\n",
    "• Download **Visual Studio Code** → Extensions → install *Python* extension (by Microsoft).\n",
    "\n",
    "*Core features*\n",
    "• **Open folder**: File → Open Folder… sets project root.\n",
    "• **Run script**: right‑click → *Run Python File in Terminal* or press ▶️ in top‑right.\n",
    "• **Lint hints**: yellow underlines show style issues; hover for tip. Enable *Pylance* for type checking.\n",
    "• **Integrated terminal**: Ctrl+` opens a shell already at project path.\n",
    "• **Debug mode**: F5 starts debugger with breakpoints set by clicking in left gutter.\n",
    "\n",
    "Configure auto‑formatting (black) so spacing & quotes stay consistent without manual fuss."
   ]
  },
  {
   "cell_type": "markdown",
   "id": "87316859",
   "metadata": {},
   "source": [
    "```text\n",
    "VS Code quick keys\n",
    "F5      – start/continue debug\n",
    "Shift+F5 – stop debug\n",
    "F9      – toggle breakpoint\n",
    "Ctrl+Space – code completion\n",
    "```"
   ]
  },
  {
   "cell_type": "markdown",
   "id": "6b54dca5",
   "metadata": {},
   "source": [
    "### Quick check\n",
    "\n",
    "1. Yellow squiggly underline in VS Code usually indicates:\n",
    "  a. syntax error  b. linter/style warning\n",
    "\n",
    "2. True / False You must close VS Code to switch Python interpreters.\n",
    "\n",
    "<details><summary>Answer key</summary>\n",
    "\n",
    "1. **b**.\n",
    "2. **False** – use Command Palette → Python: Select Interpreter.\n",
    "\n",
    "</details>"
   ]
  },
  {
   "cell_type": "markdown",
   "id": "b50e0f6b",
   "metadata": {},
   "source": [
    "## 18. Next‑steps checklist"
   ]
  },
  {
   "cell_type": "markdown",
   "id": "b0e90a56",
   "metadata": {},
   "source": [
    "Congratulations! With these foundations you can now tackle the later modules.\n",
    "\n",
    "☑️ Basic syntax (Parts 1‑5) → revisit **Language Features & OOP** section for deeper constructs.\n",
    "☑️ Running scripts → ready for **Files & File System** exercises that manipulate real data.\n",
    "☑️ Debugging & editor setup → invaluable during **Problem‑Solving & Design** projects.\n",
    "☑️ Understanding tracebacks → will save hours when exploring **Concurrency** and **Networking**.\n",
    "\n",
    "**Suggested path forward:**\n",
    "1. Rewrite a daily routine (e.g., renaming photos) as a Python script.\n",
    "2. Read sections 1 & 3 on variables and files.\n",
    "3. Pick a small project that touches files or web APIs and apply what you learn."
   ]
  },
  {
   "cell_type": "markdown",
   "id": "d779390a",
   "metadata": {},
   "source": [
    "```text\n",
    "Mini‑project idea:\n",
    "• Ask user for a folder path\n",
    "• Loop through .txt files, count lines, write summary.csv\n",
    "This combines loops, files, and functions — a perfect bridge to later topics.\n",
    "```"
   ]
  },
  {
   "cell_type": "markdown",
   "id": "aedf8b9f",
   "metadata": {},
   "source": [
    "### Quick check\n",
    "\n",
    "1. True / False You should master every Python detail before writing useful scripts.\n",
    "\n",
    "2. Which later module deepens file manipulation skills?\n",
    "  a. Networking  b. Files & the File System\n",
    "\n",
    "<details><summary>Answer key</summary>\n",
    "\n",
    "1. **False** – learn just‑enough, iterate.\n",
    "2. **b**.\n",
    "\n",
    "</details>"
   ]
  }
 ],
 "metadata": {},
 "nbformat": 4,
 "nbformat_minor": 5
}
