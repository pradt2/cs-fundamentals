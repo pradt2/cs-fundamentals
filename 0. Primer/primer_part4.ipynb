{
 "cells": [
  {
   "cell_type": "markdown",
   "id": "11a5304e",
   "metadata": {},
   "source": [
    "## 10. Functions – your own reusable commands"
   ]
  },
  {
   "cell_type": "markdown",
   "id": "52d87379",
   "metadata": {},
   "source": [
    "Think of a **function** as a mini‑program with a *name*.\n",
    "\n",
    "*Why use them?*\n",
    "• **Avoid repetition** – write code once, call it many times.  \n",
    "• **Name big ideas** – `convert_to_euros()` reads better than five math lines.  \n",
    "• **Isolate bugs** – test each bit separately.\n",
    "\n",
    "Define with `def`:\n",
    "```python\n",
    "def greet(name):\n",
    "    return f'Hello, {name}!'\n",
    "```\n",
    "*Parameters* go in parentheses; *return value* comes back with `return`.  If you omit `return`, Python returns `None` by default."
   ]
  },
  {
   "cell_type": "markdown",
   "id": "0883c413",
   "metadata": {},
   "source": [
    "```python\n",
    "def fahrenheit(celsius):\n",
    "    \"\"\"Convert °C to °F.\"\"\"\n",
    "    return celsius * 9/5 + 32\n",
    "\n",
    "print(fahrenheit(20))  # 68.0\n",
    "print(fahrenheit(-5))  # 23.0\n",
    "```"
   ]
  },
  {
   "cell_type": "markdown",
   "id": "c653e2a5",
   "metadata": {},
   "source": [
    "### Quick check\n",
    "\n",
    "1. A function without `return` returns:\n",
    "  a. 0  b. None\n",
    "\n",
    "2. True / False Function names can contain spaces.\n",
    "\n",
    "<details><summary>Answer key</summary>\n",
    "\n",
    "1. **b**.\n",
    "2. **False** – use underscores.\n",
    "\n",
    "</details>"
   ]
  },
  {
   "cell_type": "markdown",
   "id": "bc5e91e4",
   "metadata": {},
   "source": [
    "## 11. Importing & using standard‑library modules"
   ]
  },
  {
   "cell_type": "markdown",
   "id": "bd0fca8b",
   "metadata": {},
   "source": [
    "Python ships with **batteries included** – 200+ ready‑made modules.\n",
    "\n",
    "Import syntax:\n",
    "* `import math` → call `math.sqrt(9)`\n",
    "* `from random import randint` → call `randint(1,6)`\n",
    "\n",
    "`as` renames: `import datetime as dt` for shorter code.\n",
    "Imports run *once* per interpreter session; subsequent imports are instant (cached)."
   ]
  },
  {
   "cell_type": "markdown",
   "id": "ff708114",
   "metadata": {},
   "source": [
    "```python\n",
    "import random, math\n",
    "roll = random.randint(1, 6)\n",
    "print('Die shows', roll)\n",
    "circle_area = math.pi * (2**2)\n",
    "print('Area of radius2:', circle_area)\n",
    "```"
   ]
  },
  {
   "cell_type": "markdown",
   "id": "a44e8e25",
   "metadata": {},
   "source": [
    "### Quick check\n",
    "\n",
    "1. `from math import pi` makes `pi` accessible as:\n",
    "  a. math.pi  b. pi\n",
    "\n",
    "2. True / False Re‑importing the same module reruns its top‑level code each time.\n",
    "\n",
    "<details><summary>Answer key</summary>\n",
    "\n",
    "1. **b**.\n",
    "2. **False** – only first time.\n",
    "\n",
    "</details>"
   ]
  },
  {
   "cell_type": "markdown",
   "id": "6fa3579e",
   "metadata": {},
   "source": [
    "## 12. Strings in depth"
   ]
  },
  {
   "cell_type": "markdown",
   "id": "12defc76",
   "metadata": {},
   "source": [
    "Strings are sequences of Unicode characters.\n",
    "\n",
    "* **Concatenate** with `+` or join: `'Hello ' + name`.\n",
    "* **F‑strings** – embed expressions: `f'Result: {2+2}'`.\n",
    "* Common methods:\n",
    "  * `.upper() / .lower()`\n",
    "  * `.split(',')` → list\n",
    "  * `.strip()` – remove whitespace\n",
    "  * `.replace('old','new')`\n",
    "\n",
    "Multi‑line strings: triple quotes `\"\"\" ... \"\"\"` keep newlines."
   ]
  },
  {
   "cell_type": "markdown",
   "id": "03da7c9d",
   "metadata": {},
   "source": [
    "```python\n",
    "poem = \"\"\"Roses are red\n",
    "Violets are blue\"\"\"\n",
    "lines = poem.split('\\n')\n",
    "for i, line in enumerate(lines, 1):\n",
    "    print(f'{i}: {line.strip().upper()}')\n",
    "```"
   ]
  },
  {
   "cell_type": "markdown",
   "id": "30adbeee",
   "metadata": {},
   "source": [
    "### Quick check\n",
    "\n",
    "1. `'a,b,c'.split(',')` returns length:\n",
    "  a. 2  b. 3\n",
    "\n",
    "2. True / False F‑strings evaluate expressions at runtime.\n",
    "\n",
    "<details><summary>Answer key</summary>\n",
    "\n",
    "1. **b**.\n",
    "2. **True**.\n",
    "\n",
    "</details>"
   ]
  }
 ],
 "metadata": {
  "kernelspec": {
   "display_name": "Python 3 (ipykernel)",
   "language": "python",
   "name": "python3"
  },
  "language_info": {
   "codemirror_mode": {
    "name": "ipython",
    "version": 3
   },
   "file_extension": ".py",
   "mimetype": "text/x-python",
   "name": "python",
   "nbconvert_exporter": "python",
   "pygments_lexer": "ipython3",
   "version": "3.13.3"
  }
 },
 "nbformat": 4,
 "nbformat_minor": 5
}
