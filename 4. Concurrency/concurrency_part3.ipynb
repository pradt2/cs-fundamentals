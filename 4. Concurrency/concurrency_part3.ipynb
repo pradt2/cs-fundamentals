{
 "cells": [
  {
   "cell_type": "markdown",
   "id": "c5235e69",
   "metadata": {},
   "source": [
    "## 9. Creating & managing asyncio tasks"
   ]
  },
  {
   "cell_type": "markdown",
   "id": "98fe2e01",
   "metadata": {},
   "source": [
    "`asyncio.create_task(coro)` schedules coroutine concurrently; returns **Task**.  `await task` waits; `asyncio.gather` aggregates many.  Use `asyncio.wait_for` for timeouts; unhandled exception in task propagates to loop."
   ]
  },
  {
   "cell_type": "markdown",
   "id": "f54f9b0e",
   "metadata": {},
   "source": [
    "```python\n",
    "import asyncio, random\n",
    "async def job(i):\n",
    "    await asyncio.sleep(random.random())\n",
    "    if i==2: raise ValueError('boom')\n",
    "    return i\n",
    "\n",
    "async def main():\n",
    "    tasks=[asyncio.create_task(job(i)) for i in range(4)]\n",
    "    try:\n",
    "        results = await asyncio.gather(*tasks)\n",
    "    except Exception as e:\n",
    "        print('caught', e)\n",
    "asyncio.run(main())\n",
    "```"
   ]
  },
  {
   "cell_type": "markdown",
   "id": "63017372",
   "metadata": {},
   "source": [
    "### Quick check\n",
    "\n",
    "1. `asyncio.gather(..., return_exceptions=True)` will:\n",
    "  a. raise first error   b. collect exceptions in results list\n",
    "\n",
    "2. True / False Cancelling a task triggers `CancelledError` inside it.\n",
    "\n",
    "<details><summary>Answer key</summary>\n",
    "\n",
    "1. **b**.\n",
    "2. **True**.\n",
    "\n",
    "</details>"
   ]
  },
  {
   "cell_type": "markdown",
   "id": "befcc12f",
   "metadata": {},
   "source": [
    "## 10. Mixing blocking and async code safely"
   ]
  },
  {
   "cell_type": "markdown",
   "id": "d18d6002",
   "metadata": {},
   "source": [
    "Blocking call inside coroutine freezes loop.  Fix: `await loop.run_in_executor(None, blocking_fn, arg)` offloads to thread pool.  For CPU‑bound, prefer process pool."
   ]
  },
  {
   "cell_type": "markdown",
   "id": "243127f7",
   "metadata": {},
   "source": [
    "```python\n",
    "import asyncio, time\n",
    "def blocking():\n",
    "    time.sleep(1); return 'done'\n",
    "\n",
    "async def main():\n",
    "    loop = asyncio.get_running_loop()\n",
    "    print(await loop.run_in_executor(None, blocking))\n",
    "asyncio.run(main())\n",
    "```"
   ]
  },
  {
   "cell_type": "markdown",
   "id": "53299bd2",
   "metadata": {},
   "source": [
    "### Quick check\n",
    "\n",
    "1. run_in_executor default uses:\n",
    "  a. ProcessPool   b. ThreadPool\n",
    "\n",
    "2. True / False CPU‑heavy tasks benefit more from ThreadPool than ProcessPool.\n",
    "\n",
    "<details><summary>Answer key</summary>\n",
    "\n",
    "1. **b**.\n",
    "2. **False** – use processes for CPU.\n",
    "\n",
    "</details>"
   ]
  },
  {
   "cell_type": "markdown",
   "id": "be6f9c40",
   "metadata": {},
   "source": [
    "## 11. Choosing the right model"
   ]
  },
  {
   "cell_type": "markdown",
   "id": "9b286120",
   "metadata": {},
   "source": [
    "| Workload | Best tool |\n",
    "|----------|-----------|\n",
    "| CPU‑bound, parallel | `multiprocessing`, Cython, NumPy |\n",
    "| Many concurrent HTTP calls | `asyncio`, `aiohttp` |\n",
    "| Small I/O wait + GUI program | threads |\n",
    "\n",
    "Checklist:\n",
    "1. Is work I/O‑bound? → async or threads.\n",
    "2. Need >1 CPU core? → processes.\n",
    "3. Need share memory? → threads with locks or manager.\n",
    "4. Need millions of tasks? → async for low overhead."
   ]
  },
  {
   "cell_type": "markdown",
   "id": "81549c8b",
   "metadata": {},
   "source": [
    "```text\n",
    "Decision tree:\n",
    " fetch 1000 URLs → I/O‑bound → async\n",
    " render thumbnails → CPU‑bound → process pool\n",
    " background progress bar → small I/O → thread\n",
    "```"
   ]
  },
  {
   "cell_type": "markdown",
   "id": "356d0f9c",
   "metadata": {},
   "source": [
    "### Quick check\n",
    "\n",
    "1. High overhead per task in threads arises from:\n",
    "  a. kernel stacks   b. coroutine objects\n",
    "\n",
    "2. True / False `asyncio` can utilise multiple CPU cores without extra processes.\n",
    "\n",
    "<details><summary>Answer key</summary>\n",
    "\n",
    "1. **a**.\n",
    "2. **False** – still single thread.\n",
    "\n",
    "</details>"
   ]
  }
 ],
 "metadata": {
  "kernelspec": {
   "display_name": "Python 3 (ipykernel)",
   "language": "python",
   "name": "python3"
  },
  "language_info": {
   "codemirror_mode": {
    "name": "ipython",
    "version": 3
   },
   "file_extension": ".py",
   "mimetype": "text/x-python",
   "name": "python",
   "nbconvert_exporter": "python",
   "pygments_lexer": "ipython3",
   "version": "3.13.3"
  }
 },
 "nbformat": 4,
 "nbformat_minor": 5
}
