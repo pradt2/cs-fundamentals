{
 "cells": [
  {
   "cell_type": "markdown",
   "id": "5b3f31c8",
   "metadata": {},
   "source": [
    "## 5. Thread‑safety tools: Lock, RLock, Semaphore, Queue"
   ]
  },
  {
   "cell_type": "markdown",
   "id": "68c5f726",
   "metadata": {},
   "source": [
    "**Lock** (mutex) – only one thread enters critical section.\n",
    "\n",
    "**RLock** – re‑entrant lock; same thread can acquire multiple times (needed in recursive callbacks).\n",
    "\n",
    "**Semaphore(n)** – up to *n* threads enter (connection pools, rate limiters).\n",
    "\n",
    "**queue.Queue** – built‑in locking FIFO; pass data instead of sharing vars → *share‑nothing, communicate* pattern."
   ]
  },
  {
   "cell_type": "markdown",
   "id": "55af087a",
   "metadata": {},
   "source": [
    "```python\n",
    "import threading, queue, time\n",
    "counter = 0\n",
    "lock = threading.Lock()\n",
    "def safe_inc():\n",
    "    global counter\n",
    "    for _ in range(100_000):\n",
    "        with lock:\n",
    "            counter += 1\n",
    "\n",
    "threads=[threading.Thread(target=safe_inc) for _ in range(2)]\n",
    "for t in threads:t.start()\n",
    "for t in threads:t.join()\n",
    "print('counter', counter)\n",
    "\n",
    "# queue demo\n",
    "q = queue.Queue()\n",
    "def producer():\n",
    "    for i in range(3): q.put(i)\n",
    "    q.put(None)  # poison pill\n",
    "def consumer():\n",
    "    while (item := q.get()) is not None:\n",
    "        print('got', item); q.task_done()\n",
    "threading.Thread(target=producer).start()\n",
    "threading.Thread(target=consumer).start()\n",
    "```"
   ]
  },
  {
   "cell_type": "markdown",
   "id": "27302d25",
   "metadata": {},
   "source": [
    "### Quick check\n",
    "\n",
    "1. `with lock:` is equivalent to calling:\n",
    "  a. `lock.acquire()` then `lock.release()`  b. `lock.wait()`\n",
    "\n",
    "2. True / False `Queue.put()` blocks if size limit reached.\n",
    "\n",
    "<details><summary>Answer key</summary>\n",
    "\n",
    "1. **a**.\n",
    "2. **True** – unless `block=False`.\n",
    "\n",
    "</details>"
   ]
  },
  {
   "cell_type": "markdown",
   "id": "afd45c69",
   "metadata": {},
   "source": [
    "## 6. Multiprocessing primer: sidestepping the GIL"
   ]
  },
  {
   "cell_type": "markdown",
   "id": "ee7ae1b0",
   "metadata": {},
   "source": [
    "`multiprocessing` spawns *processes* → each has its own Python interpreter and memory, so no GIL contention.  IPC via pipes/queues (pickle under the hood).  Ideal for CPU‑bound jobs.\n",
    "\n",
    "ProcessPoolExecutor abstracts pool management; beware start‑up cost on Windows (spawn)."
   ]
  },
  {
   "cell_type": "markdown",
   "id": "833ac6fd",
   "metadata": {},
   "source": [
    "```python\n",
    "from concurrent.futures import ProcessPoolExecutor\n",
    "def fib(n):\n",
    "    a,b=0,1\n",
    "    for _ in range(n): a,b=b,a+b\n",
    "    return a\n",
    "\n",
    "with ProcessPoolExecutor() as ex:\n",
    "    print(list(ex.map(fib, [30]*4)))\n",
    "```"
   ]
  },
  {
   "cell_type": "markdown",
   "id": "45084ba5",
   "metadata": {},
   "source": [
    "### Quick check\n",
    "\n",
    "1. GIL is shared between processes?\n",
    "  a. yes   b. no\n",
    "\n",
    "2. True / False `multiprocessing` serialises arguments with pickle.\n",
    "\n",
    "<details><summary>Answer key</summary>\n",
    "\n",
    "1. **b**.\n",
    "2. **True**.\n",
    "\n",
    "</details>"
   ]
  },
  {
   "cell_type": "markdown",
   "id": "67e823ab",
   "metadata": {},
   "source": [
    "## 7. Event loop & cooperative multitasking"
   ]
  },
  {
   "cell_type": "markdown",
   "id": "0e9b7b5a",
   "metadata": {},
   "source": [
    "`asyncio` runs a **single thread** event loop; coroutines volunteer control by `await`.  No pre‑emption → no race on Python objects, but you must **avoid blocking** calls.\n",
    "\n",
    "Analogy: kids on a trampoline (event loop) jump one at time but switch quickly when they land."
   ]
  },
  {
   "cell_type": "markdown",
   "id": "ea72594c",
   "metadata": {},
   "source": [
    "```python\n",
    "import asyncio, time\n",
    "async def hello(n):\n",
    "    await asyncio.sleep(1)\n",
    "    print('hello', n)\n",
    "\n",
    "t0=time.perf_counter()\n",
    "asyncio.run(asyncio.gather(*(hello(i) for i in range(3))))\n",
    "print('elapsed', time.perf_counter()-t0)\n",
    "```"
   ]
  },
  {
   "cell_type": "markdown",
   "id": "accff711",
   "metadata": {},
   "source": [
    "### Quick check\n",
    "\n",
    "1. Event loop can run on multiple OS threads by default?\n",
    "  a. yes   b. no\n",
    "\n",
    "2. True / False Blocking `time.sleep(1)` inside coroutine freezes entire loop.\n",
    "\n",
    "<details><summary>Answer key</summary>\n",
    "\n",
    "1. **b**.\n",
    "2. **True**.\n",
    "\n",
    "</details>"
   ]
  },
  {
   "cell_type": "markdown",
   "id": "cf8f7690",
   "metadata": {},
   "source": [
    "## 8. Coroutines, `await`, `async def`"
   ]
  },
  {
   "cell_type": "markdown",
   "id": "c6df5a91",
   "metadata": {},
   "source": [
    "`async def` declares coroutine function; calling it returns **coroutine object**.  `await` suspends until awaited object resolves.  `asyncio.cancel()` raises `CancelledError` inside coroutine → add `try/except` for cleanup."
   ]
  },
  {
   "cell_type": "markdown",
   "id": "5bdbd266",
   "metadata": {},
   "source": [
    "```python\n",
    "import asyncio\n",
    "async def work():\n",
    "    await asyncio.sleep(0.5)\n",
    "    return 42\n",
    "\n",
    "async def main():\n",
    "    coro = work()\n",
    "    print('type', type(coro))\n",
    "    result = await coro\n",
    "    print('result', result)\n",
    "asyncio.run(main())\n",
    "```"
   ]
  },
  {
   "cell_type": "markdown",
   "id": "06c38c52",
   "metadata": {},
   "source": [
    "### Quick check\n",
    "\n",
    "1. `async def f()` when called returns:\n",
    "  a. value   b. coroutine\n",
    "\n",
    "2. True / False You can use `await` inside ordinary `def`.\n",
    "\n",
    "<details><summary>Answer key</summary>\n",
    "\n",
    "1. **b**.\n",
    "2. **False**.\n",
    "\n",
    "</details>"
   ]
  }
 ],
 "metadata": {},
 "nbformat": 4,
 "nbformat_minor": 5
}
