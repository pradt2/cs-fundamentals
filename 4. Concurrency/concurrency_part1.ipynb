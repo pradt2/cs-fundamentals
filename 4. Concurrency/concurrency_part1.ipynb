{
 "cells": [
  {
   "cell_type": "markdown",
   "id": "89a77363",
   "metadata": {},
   "source": [
    "## 1. Why concurrency? (parallel vs. interleaved work)"
   ]
  },
  {
   "cell_type": "markdown",
   "id": "390c8404",
   "metadata": {},
   "source": [
    "Python programs often *feel* slow not because the CPU is overloaded but because they **wait**—for disk, network, or user input.  Concurrency lets a single program make useful progress while some tasks wait.\n",
    "\n",
    "**CPU‑bound vs. I/O‑bound**\n",
    "* *CPU‑bound* tasks (image processing, math) are limited by arithmetic speed.\n",
    "* *I/O‑bound* tasks (web scraping, file uploads) spend most time blocked on the operating system.\n",
    "\n",
    "Concurrency can mean:\n",
    "* **Parallelism** – truly running *at the same time* on multiple cores or CPUs.\n",
    "* **Interleaving** – rapidly switching tasks on a single core so each makes progress.\n",
    "\n",
    "In CPython, the GIL restricts *parallel* Python bytecode execution by threads, but I/O interleaving (threads or `asyncio`) still yields large speed‑ups."
   ]
  },
  {
   "cell_type": "markdown",
   "id": "05fb7092",
   "metadata": {},
   "source": [
    "```python\n",
    "import time, requests, threading\n",
    "urls = ['https://example.com']*5\n",
    "\n",
    "def fetch(url):\n",
    "    requests.get(url)\n",
    "\n",
    "start=time.perf_counter()\n",
    "for u in urls: fetch(u)\n",
    "print('sequential', time.perf_counter()-start)\n",
    "\n",
    "start=time.perf_counter()\n",
    "threads=[threading.Thread(target=fetch,args=(u,)) for u in urls]\n",
    "for t in threads: t.start()\n",
    "for t in threads: t.join()\n",
    "print('concurrent', time.perf_counter()-start)\n",
    "```"
   ]
  },
  {
   "cell_type": "markdown",
   "id": "a99a7126",
   "metadata": {},
   "source": [
    "### Quick check\n",
    "\n",
    "1. True / False Concurrency always speeds up CPU‑heavy number crunching in CPython.\n",
    "\n",
    "2. Which task is likely **I/O‑bound**?\n",
    "  a. multiplying two 1000×1000 matrices   b. downloading 100 web pages\n",
    "\n",
    "<details><summary>Answer key</summary>\n",
    "\n",
    "1. **False** – GIL prevents parallel bytecode; use `multiprocessing`.\n",
    "2. **b**.\n",
    "\n",
    "</details>"
   ]
  },
  {
   "cell_type": "markdown",
   "id": "fd22cd46",
   "metadata": {},
   "source": [
    "## 2. The GIL in plain English"
   ]
  },
  {
   "cell_type": "markdown",
   "id": "6f60c61e",
   "metadata": {},
   "source": [
    "The **Global Interpreter Lock** is a CPython mutex that allows only **one thread** to execute Python bytecode at any instant.  It simplifies memory management but limits parallelism.\n",
    "\n",
    "Key points:\n",
    "* Native C extensions like NumPy can **release the GIL** while crunching, enabling parallel CPU use.\n",
    "* I/O operations release the GIL during system calls → threads are still useful for network/disk.\n",
    "* Alternate interpreters: PyPy still has a GIL; Jython and IronPython don’t, but less ecosystem support."
   ]
  },
  {
   "cell_type": "markdown",
   "id": "c41672e0",
   "metadata": {},
   "source": [
    "```python\n",
    "import threading, time\n",
    "def cpu_bound():\n",
    "    sum(i*i for i in range(10_000_00))\n",
    "\n",
    "t0=time.perf_counter()\n",
    "threads=[threading.Thread(target=cpu_bound) for _ in range(2)]\n",
    "for t in threads:t.start()\n",
    "for t in threads:t.join()\n",
    "print('two threads:', time.perf_counter()-t0)\n",
    "\n",
    "t0=time.perf_counter(); cpu_bound(); cpu_bound();\n",
    "print('sequential :', time.perf_counter()-t0)\n",
    "```"
   ]
  },
  {
   "cell_type": "markdown",
   "id": "ef682d91",
   "metadata": {},
   "source": [
    "### Quick check\n",
    "\n",
    "1. The GIL affects:\n",
    "  a. threads   b. processes   c. both\n",
    "\n",
    "2. True / False Network I/O releases the GIL so other threads can run.\n",
    "\n",
    "<details><summary>Answer key</summary>\n",
    "\n",
    "1. **a**.\n",
    "2. **True**.\n",
    "\n",
    "</details>"
   ]
  },
  {
   "cell_type": "markdown",
   "id": "e2922166",
   "metadata": {},
   "source": [
    "## 3. Threading fundamentals"
   ]
  },
  {
   "cell_type": "markdown",
   "id": "65f16ea3",
   "metadata": {},
   "source": [
    "*Creating*\n",
    "`threading.Thread(target=func, args=(...,), daemon=False)` starts new OS thread.\n",
    "*Joining*\n",
    "`t.join()` blocks until thread finishes; always join to avoid zombie threads.\n",
    "*Daemon threads*\n",
    "Marked `daemon=True`, they **don’t block program exit**—good for background logging, bad if you need cleanup."
   ]
  },
  {
   "cell_type": "markdown",
   "id": "578ffa04",
   "metadata": {},
   "source": [
    "```python\n",
    "import threading, time\n",
    "def worker(n):\n",
    "    print('start', n)\n",
    "    time.sleep(1)\n",
    "    print('done', n)\n",
    "\n",
    "t = threading.Thread(target=worker, args=(1,))\n",
    "t.start()\n",
    "print('main continues')\n",
    "t.join()\n",
    "```"
   ]
  },
  {
   "cell_type": "markdown",
   "id": "e641326f",
   "metadata": {},
   "source": [
    "### Quick check\n",
    "\n",
    "1. Daemon thread exits when main thread ends?\n",
    "  a. yes   b. no\n",
    "\n",
    "2. True / False `threading.active_count()` includes the main thread.\n",
    "\n",
    "<details><summary>Answer key</summary>\n",
    "\n",
    "1. **a**.\n",
    "2. **True**.\n",
    "\n",
    "</details>"
   ]
  },
  {
   "cell_type": "markdown",
   "id": "d2d4764f",
   "metadata": {},
   "source": [
    "## 4. Shared state & race conditions"
   ]
  },
  {
   "cell_type": "markdown",
   "id": "982b8a37",
   "metadata": {},
   "source": [
    "Threads share memory → unsynchronised writes can interleave unpredictably.\n",
    "\n",
    "Race condition demonstration: two threads incrementing a global counter often produce wrong total because `x += 1` is **read – modify – write** (three steps)."
   ]
  },
  {
   "cell_type": "markdown",
   "id": "21a6ea6f",
   "metadata": {},
   "source": [
    "```python\n",
    "import threading\n",
    "counter = 0\n",
    "def inc():\n",
    "    global counter\n",
    "    for _ in range(100_000):\n",
    "        counter += 1\n",
    "threads=[threading.Thread(target=inc) for _ in range(2)]\n",
    "for t in threads:t.start()\n",
    "for t in threads:t.join()\n",
    "print('expected 200000 got', counter)\n",
    "```"
   ]
  },
  {
   "cell_type": "markdown",
   "id": "c7d4116c",
   "metadata": {},
   "source": [
    "### Quick check\n",
    "\n",
    "1. Race condition means result depends on:\n",
    "  a. thread scheduling   b. deterministic order\n",
    "\n",
    "2. True / False Using `+=` on list elements is atomic.\n",
    "\n",
    "<details><summary>Answer key</summary>\n",
    "\n",
    "1. **a**.\n",
    "2. **False** – list ops may release GIL mid-way.\n",
    "\n",
    "</details>"
   ]
  }
 ],
 "metadata": {
  "kernelspec": {
   "display_name": "Python 3 (ipykernel)",
   "language": "python",
   "name": "python3"
  },
  "language_info": {
   "codemirror_mode": {
    "name": "ipython",
    "version": 3
   },
   "file_extension": ".py",
   "mimetype": "text/x-python",
   "name": "python",
   "nbconvert_exporter": "python",
   "pygments_lexer": "ipython3",
   "version": "3.13.3"
  }
 },
 "nbformat": 4,
 "nbformat_minor": 5
}
